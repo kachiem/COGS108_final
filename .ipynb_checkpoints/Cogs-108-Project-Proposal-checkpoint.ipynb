{
 "cells": [
  {
   "cell_type": "markdown",
   "metadata": {},
   "source": [
    "# COGS 108 - Project Proposal"
   ]
  },
  {
   "cell_type": "markdown",
   "metadata": {},
   "source": [
    "## Important\n",
    "\n",
    "- Make sure all group members (3-6 people) are listed in the group members section.\n",
    "- ONE, and only one, member of your group should upload this notebook to TritonED. \n",
    "- Each member of the group will receive the same grade on this assignment. \n",
    "- Keep the file name the same: submit the file 'ProjectProposal.ipynb'"
   ]
  },
  {
   "cell_type": "markdown",
   "metadata": {},
   "source": [
    "## Overview"
   ]
  },
  {
   "cell_type": "markdown",
   "metadata": {},
   "source": [
    "Read the project description and detailed instructions for this assignment in the 'ProjectOutline' document."
   ]
  },
  {
   "cell_type": "markdown",
   "metadata": {},
   "source": [
    "## Group Members: Fill in the Student IDs of each group member here\n",
    "\n",
    "Replace the lines below to list each persons full student ID. Add lines as needed for your group size, and make sure each ID is listed on a separate line. \n",
    "\n",
    "- A91063209 (Zongchen) \n",
    "- A92060274 (Karen)\n",
    "- A14443387 (Brandon) \n",
    "- U07313790 (Nareg)\n",
    "- A12933386 (Justin)\n",
    "- A13779898 (Sida Qin)\n"
   ]
  },
  {
   "cell_type": "markdown",
   "metadata": {},
   "source": [
    "### Research Question\n",
    "\n",
    "What is your research question? (1-2 sentences)"
   ]
  },
  {
   "cell_type": "markdown",
   "metadata": {},
   "source": [
    "Would artists' song lyrics be good indicators of their mental health and subsequently related actions?"
   ]
  },
  {
   "cell_type": "markdown",
   "metadata": {},
   "source": [
    "### Hypothesis\n",
    "\n",
    "What is your main hypothesis and predictions? (2-3 sentences)"
   ]
  },
  {
   "cell_type": "markdown",
   "metadata": {},
   "source": [
    "Certain song lyrics signify negative thoughts and emotions that may reveal mental health issues. We predict that there is a strong correlation between lyrics that are precursors of mental health issues and self-harm activities amongst those artists."
   ]
  },
  {
   "cell_type": "markdown",
   "metadata": {},
   "source": [
    "### Dataset(s)\n",
    "\n",
    "What data will you use to answer your question? Describe the dataset(s) in terms of number of observations, what kind of features it contains, etc. You must use at least one dataset containing at least approximately 1000 observations (if your data are smaller but you feel they are sufficient, email Prof. Keown). You are welcome (and in fact recommended) to find multiple datasets! If you do so, describe each one, and briefly explain how you will combine them together. "
   ]
  },
  {
   "cell_type": "markdown",
   "metadata": {},
   "source": [
    "- Dataset Name: Wikipedia: List of pop musicians who died of drug overdose \n",
    "- Link to the dataset: https://en.wikipedia.org/wiki/List_of_pop_musicians_who_died_of_drug_overdose\n",
    "- Number of observations: approximately 100\n",
    "- Description: The content of the dataset is self-explanatory. We will scrape this page to obtain a list of the names of the musicians\n",
    "\n",
    "\n",
    "- Dataset Name: Musicians who died in 2018\n",
    "- Link to the dataset: https://www.ranker.com/list/musicians-who-died-in-2018/celebrity-lists  \n",
    "- Number of observations : approximately 30\n",
    "- Description: We will scrape this page to obtain a list of the names of the musicians. However, due to the dynamic nature of this page, it might be too difficult to scrape. \n",
    "\n",
    "\n",
    "- Dataset Name: 30 Famous Musicians Who Have Battled Drug Addiction and Alcoholism\n",
    "- Link to the dataset: https://drugabuse.com/30-famous-musicians-who-have-battled-drug-addiction-and-alcoholism/\n",
    "- Number of observations: 30\n",
    "- The content of the dataset is self-explanatory. We will scrape this page to obtain a list of the names of the musicians.\n",
    "\n",
    "\n",
    "- Dataset Name: Lyrics of almost all songs you’ve heard \n",
    "- Link to dataset: https://www.kaggle.com/artimous/every-song-you-have-heard-almost/version/1#Lyrics1.csv\n",
    "- Number of observations: Over 500,000 song lyrics\n",
    "- Description: This data set contains artist name, song name, and lyrics rows. We will use this dataset to get the songs and the corresponding lyrics of the artist names from the above datasets.\n",
    "\n",
    "\n",
    "- Dataset Name: Lyricsgenius library using Genius API\n",
    "- Link: https://github.com/johnwmillr/LyricsGenius\n",
    "- Description: This is a Python library that queries the Genius API and scrapes for song lyrics. We will use this to replace/in conjunction with the previous dataset if we need additional lyrical data.\n"
   ]
  },
  {
   "cell_type": "markdown",
   "metadata": {},
   "source": [
    "### Background and Prior Work\n",
    "\n",
    "Why is this question of interest, what background information led you to your hypothesis, and why is this important?\n",
    "\n",
    "Find some relevant prior work, and reference those sources. Even if you think you have a totally novel question, find the most similar prior work that you can and discuss how it relates to your project. \n",
    "\n",
    "References can be research publications, but they need not be. Blogs, github repositories, company websites, etc., are all viable references if they are relevant to your project.\n",
    "\n",
    "(2-3 paragraphs, including at least 2 references)"
   ]
  },
  {
   "cell_type": "markdown",
   "metadata": {},
   "source": [
    "*Fill in your background and prior work here*\n",
    "\n",
    "\n",
    "**Background Information**\n",
    "\n",
    "In recent years, many of our favorite artists have been telling stories of their mental states as well as personal stories. For example, rapper Mac Miller wrote about his drug usage, which foreshadowed his death in 2018. Mac Miller, Lil Peep, Avicii, and Chester Bennington are just some contemporary artists whose personal struggles (expressed through their music) and untimely demises have created shockwaves across the industry. But this trend has roots in incidents that reach back to at least the 1970’s, with the formation of the infamous 27 Club. Janis Joplin, Jimi Hendrix, Jim Morrison, and many others have contributed in creating an almost cult-like reverence for the tragic ending of a musician’s life via their own demons and vices. The struggles of modern musicians and the long history of overlooking their underlying issues inspired us to look at whether or not lyrical analyses of their works and activities can help predict self-harm behavior and action for artists in the future.\n",
    "\n",
    "\n",
    "**Prior Work**\n",
    "\n",
    "We have identified 4 prior works related to our topic who have approached various aspects of our planned project.\n",
    "Crime Rates versus Crime Lyrics by Emmanuel Khodra\n",
    "Khodra’s project focuses on investigating whether there really is a strong correlation between an increase in lyrics containing references to criminal activities and an increase in related crimes. Khodra’s use of visualizing data is an excellent example for us of juxtaposing different correlations efficiently.\n",
    "The Influence of Rap/Hip-Hop Music: A Mixed-Method Analysis on Audience Perceptions of Misogynistic Lyrics and the Issue of Domestic Violence\n",
    "This study focused on examining misogyny in hip hop lyrics using Qualitative Content Analysis and Cultivation Theory. While not explicitly related to data science, its qualitative methods are useful for performing in-depth abstract analyses of the correlations we’d like to explore.\n",
    "The Largest Vocabulary In Hip Hop\n",
    "Daniels’ project maps out prominent rappers with the largest vocabulary in their given volume works. Its use of token analysis and reducing bias by limiting every measured artist to a reasonable benchmark can help us in analyzing various artists’ lyrics by accounting for vernacular and addressing the potential bias of varying levels of fame.\n",
    "\n",
    "\n",
    "References (include links):\n",
    "- 1) - Crime Rates versus Crime Lyrics by Emmanuel Khodra\n",
    "       https://rrlstudentresearch.tumblr.com/post/96559384724/crime-rates-versus-crime-lyrics-by-emmanuel-khodra\n",
    "- 2) - Crime Rates versus Crime Lyrics by Emmanuel Khodra (data visualization)\n",
    "       http://staplecrops.com/emmanuelkhodra/\n",
    "- 3) - 27 Club\n",
    "       https://en.wikipedia.org/wiki/27_Club\n",
    "- 4) - The Influence of Rap/Hip-Hop Music: A Mixed-Method Analysis on Audience Perceptions of Misogynistic Lyrics and the Issue of Domestic Violence\n",
    "       https://www.elon.edu/u/academics/communications/journal/wp-content/uploads/sites/153/2017/06/02CundiffEJSpring13.pdf\n",
    "- 5) - The Largest Vocabulary in Hip Hop\n",
    "       https://pudding.cool/projects/vocabulary/"
   ]
  },
  {
   "cell_type": "markdown",
   "metadata": {},
   "source": [
    "### Proposed Methods\n",
    "\n",
    "What methods will you use to analyze your data?\n",
    "\n",
    "- How 'clean' is the data? To the extent that it requires cleaning, how will you do so?\n",
    "- How will you analyze the data? Be as specific as you can. Briefly mention any pre-processing steps that are required for your methods (for example, checking data distributions and performing any transformations that may be required). Include a brief outline of how you will apply your chosen method(s). \n",
    "- What do you plan to report? Briefly mention any key visualizations you plan to create, and/or the kind of results you will be able to report that address your question (this could be, for example, the outcome of some statistical test(s), prediction error on a model, a model fit parameter, etc.).\n",
    "- Include a list of packages you expect to use for you project. If you plan to use packages we have not used in class, add a very brief description about them (a few words is sufficient). "
   ]
  },
  {
   "cell_type": "markdown",
   "metadata": {},
   "source": [
    "*Fill in your proposed methods information here:*\n",
    "\n",
    "*Data Cleaning (2-3 sentences)*\n",
    "\n",
    "We will use text mining techniques to preprocess the lyrics: removing punctuation, removing common and obscure words. We will also normalize the lyrics by lower-casing all letters and using either lemmatization or stemming. Afterwards, we will calculate the word count and observe the words with the highest frequencies.\n",
    "\n",
    "*Data Analysis (1-2 paragraphs)*\n",
    "\n",
    "In order to analyze the relationship between lyrics and artists’ state of mental health, we will specifically look for the correlation between their lyrics, lyrical content, and the cause of their death. We will try to eliminate foreign artists since, from what we have seen, the data we are dealing with is mostly on English speaking artists. If a song is in a foreign language, we won’t be able to process it alongside English lyrics (translating to English will also cause us to lose nuances present in a song’s origin language), as there is no good metric for measuring meaning and mood across languages. We need to also ensure that the scraped data from BeautifulSoup is in good format.\n",
    "\n",
    "From those words, we can infer if selected song lyrics have a statistically significant correlation to artists that have passed as a result of self-harm and/or abusive habits. We can also utilize more analysis functions from the NLP library to possibly see the sentimental values. Those can accompany our very basic inference and observations we make to strengthen our result. To aid our conclusion and visualizations, we can create dist plots to see if certain words stand out across all artists. We can also create dist plots to show that if certain words have a significant weight for a particular artist (not just high frequency, but also high density). We can also potentially plot cause of death vs. word frequency to further see if there is a correlation between lyrics and substance of abuse. \n",
    "\n",
    "*What to report (2-3 sentences)*\n",
    "\n",
    "We will mainly be looking at word frequency for individual artists as well as across all artists. We will use visualizations like a word cloud to better convey the relationship.\n",
    "\n",
    "Packages we plan to use:\n",
    "- BeautifulSoup\n",
    "- Pandas\n",
    "- Matplotlib\n",
    "- requests\n",
    "- NLTK"
   ]
  },
  {
   "cell_type": "markdown",
   "metadata": {},
   "source": [
    "### Ethics and Privacy\n",
    "\n",
    "Briefly acknowledge and address any potential issues of ethics and privacy for the proposed project. In particular:\n",
    "- Do you have permission to use this data, for this purpose?\n",
    "- Are there privacy concerns regarding your datasets that you need to deal with, and/or terms of use that you need to comply with?\n",
    "- Are there potential biases in your dataset(s), in terms of who it composes, and how it was collected, that may be problematic in terms of it allowing for equitable analysis? (For example, does your data exclude particular populations, or is it likely to reflect particular human biases in a way that could be a problem?) \n",
    "- Are there any other issues related to your topic area, data, and/or analyses that are potentially problematic in terms of data privacy and equitable impact?\n",
    "- How will you handle any issues you identify?\n",
    "\n",
    "(1-2 paragraphs)"
   ]
  },
  {
   "cell_type": "markdown",
   "metadata": {},
   "source": [
    "The main dataset we will be using is the Genius API in combination with a Kaggle dataset. It can provide lyrics for songs that are on the Genius website and is free to use.  To further expand on our song sample set, we will be using the “Every Song You Have Heard (almost!)” dataset from Kaggle. These datasets, unless specified, are considered free to use for the public.  We were initially hoping to find medical records for the selected artists, however, it was clear that that information is not easily accessible. According to Trisha Torrey, there are “two general types of medical records that are shared or purchased,” and neither can be given out to the general public. It may also violate Safe Harbour rules. We are also going to be selecting the artists for analysis using online resources, such as Wikipedia and Rolling Stone. Furthermore, the other websites, such as Wikipedia and Ranker, used to obtain celebrity data. They are public sites that we will need to cite. The final problem would be the danger of web scraping information from various websites. As long as we follow their terms of services, we should be allowed to get information, however, it should be done carefully (“Web Scraping”)\n",
    "\n",
    "(web scraping) https://benbernardblog.com/web-scraping-and-crawling-are-perfectly-legal-right/\n",
    "\n",
    "The most apparent bias within our dataset, would be the overrepresentation of famous/celebrity artists. Artists whose lyrics we will choose to analyze will likely be celebrity artists, since more people are more familiar with their work, as a general rule of thumb. Non-lyrical data will likely be taken from heuristically-organized lists (lists written by magazine editors that generally feature artists fresh in public memory, or celebrity artists), which will also influence the composition of the subset of artists we will choose to analyze. They will not be representative of the average artist or musician. Celebrity artists’ lifestyles may add bias to our data because their increased popularity leads to intensified scrutiny under the public eye, possibly leading to altered behavior, compared to the average artist. Furthermore, our study will touch on a sensitive topic of mental health. Although the project will be looking at the matter of mental health objectively, we are still going to be  examining an individual’s personal life. This problem can be solved by making sure our analysis is based solely upon the data that we observe or get, and is focused on the relationships that arise between lyrical content, cause of death, and words that are indicative of current mental health.\n",
    "\n",
    "(Trisha Torrey) https://www.verywellhealth.com/who-has-access-to-your-medical-records-2615502\n"
   ]
  },
  {
   "cell_type": "markdown",
   "metadata": {},
   "source": [
    "### Discussion\n",
    "\n",
    "Discuss your project, looking forward to what your results might mean, how they fit it in with what is already known, and what problems you may encounter. \n",
    "\n",
    "In particular:\n",
    "- If your analyses and hypotheses are correct, what will be the contribution of this project to the topic domain? \n",
    "- Alternatively, what will you do if you methods don't work and/or your hypotheses are wrong? \n",
    "- What are the potential pitfalls and potential confounds of your data and/or methods that may cause problems, and/or influence your interpretations?\n",
    "\n",
    "(2-3 paragraphs)"
   ]
  },
  {
   "cell_type": "markdown",
   "metadata": {},
   "source": [
    "*Fill in your discussion information here*\n",
    "\n",
    "Hundreds of thousands of people around the globe die by suicide every year. Non-fatal self-harm cases are 20 times more common than fatal cases. In addition to personal and healthcare costs, the risks of future suicide and self-harm increase every time someone hurts themself. Early identification of those at high risk of future self-harm is crucial to our population’s well-being. With the right findings, we can better identify high-risk individuals and raise mental health awareness, preventing self-harm or suicide. \n",
    "\n",
    "If our methods do not work or our hypothesis is wrong, future research should go back and look into which words and what the lyrics are perceived as being most salient in signifying mental health status. We must be mindful of and consider the individual when it comes to mental health treatment to achieve the best possible outcome. One finding that would be intriguing would be to see if we can definitively find similar semantic content amongst songs that can be attributed to certain messages or thoughts signifying troubling mental health conditions. Conversely, discovering content amongst songs that can be attributed to messages or thoughts that can help lower symptoms of frequently occurring mental health illnesses, such as depression or anxiety, would also be incredibly useful.\n",
    "\n",
    "Our proposed study poses a large limitation. Because we will be filtering by syntax instead of semantics, it is possible we label an artist as high-risk due to the inclusion of search words. It is entirely possible the lyrics of mentally-capable artists contain some of our key words, which will mistakenly label them as high-risk.  It will be incredibly difficult to gather data based on meaning due to machine limitations. Unfortunately, we currently are not sure of our capability to gather data based upon lyric meaning and will have to rely on a large data sample and proper keywords to reduce the number of outliers.\n"
   ]
  }
 ],
 "metadata": {
  "kernelspec": {
   "display_name": "Python 3",
   "language": "python",
   "name": "python3"
  },
  "language_info": {
   "codemirror_mode": {
    "name": "ipython",
    "version": 3
   },
   "file_extension": ".py",
   "mimetype": "text/x-python",
   "name": "python",
   "nbconvert_exporter": "python",
   "pygments_lexer": "ipython3",
   "version": "3.6.6"
  }
 },
 "nbformat": 4,
 "nbformat_minor": 2
}
