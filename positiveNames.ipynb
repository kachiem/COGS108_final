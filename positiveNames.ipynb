{
 "cells": [
  {
   "cell_type": "code",
   "execution_count": 5,
   "metadata": {
    "ExecuteTime": {
     "end_time": "2019-03-21T00:59:42.261652Z",
     "start_time": "2019-03-21T00:59:40.725458Z"
    },
    "scrolled": true
   },
   "outputs": [
    {
     "name": "stderr",
     "output_type": "stream",
     "text": [
      "[nltk_data] Downloading package punkt to\n",
      "[nltk_data]     /home/cabbagepatch/nltk_data...\n",
      "[nltk_data]   Package punkt is already up-to-date!\n",
      "[nltk_data] Downloading package stopwords to\n",
      "[nltk_data]     /home/cabbagepatch/nltk_data...\n",
      "[nltk_data]   Package stopwords is already up-to-date!\n",
      "[nltk_data] Downloading package vader_lexicon to\n",
      "[nltk_data]     /home/cabbagepatch/nltk_data...\n",
      "[nltk_data]   Package vader_lexicon is already up-to-date!\n"
     ]
    },
    {
     "data": {
      "text/plain": [
       "True"
      ]
     },
     "execution_count": 5,
     "metadata": {},
     "output_type": "execute_result"
    }
   ],
   "source": [
    "import requests\n",
    "import urllib.request\n",
    "import pandas as pd\n",
    "from pandas.io.html import read_html\n",
    "import bs4\n",
    "from bs4 import BeautifulSoup\n",
    "import numpy as np\n",
    "\n",
    "import re\n",
    "import lxml\n",
    "\n",
    "import nltk\n",
    "from nltk.tokenize import word_tokenize\n",
    "from nltk.corpus import stopwords\n",
    "from nltk.sentiment.vader import SentimentIntensityAnalyzer\n",
    "\n",
    "nltk.download('punkt')\n",
    "nltk.download('stopwords')\n",
    "nltk.download('vader_lexicon')\n",
    "\n",
    "# https://gist.github.com/aculich/b34868c098d94d614515\n",
    "# https://beenje.github.io/blog/posts/parsing-html-tables-in-python-with-pandas/\n",
    "# https://www.analyticsvidhya.com/blog/2018/02/the-different-methods-deal-text-data-predictive-python/"
   ]
  },
  {
   "cell_type": "markdown",
   "metadata": {},
   "source": [
    "### Start by importing data from wikipedia."
   ]
  },
  {
   "cell_type": "code",
   "execution_count": 2,
   "metadata": {
    "ExecuteTime": {
     "end_time": "2019-03-21T00:59:32.097585Z",
     "start_time": "2019-03-21T00:59:32.063635Z"
    }
   },
   "outputs": [
    {
     "ename": "NameError",
     "evalue": "name 'requests' is not defined",
     "output_type": "error",
     "traceback": [
      "\u001b[0;31m---------------------------------------------------------------------------\u001b[0m",
      "\u001b[0;31mNameError\u001b[0m                                 Traceback (most recent call last)",
      "\u001b[0;32m<ipython-input-2-f54519f4c851>\u001b[0m in \u001b[0;36m<module>\u001b[0;34m\u001b[0m\n\u001b[1;32m      1\u001b[0m \u001b[0mbillboard\u001b[0m \u001b[0;34m=\u001b[0m \u001b[0;34m\"https://en.wikipedia.org/wiki/List_of_Billboard_Hot_100_chart_achievements_by_decade\"\u001b[0m\u001b[0;34m\u001b[0m\u001b[0;34m\u001b[0m\u001b[0m\n\u001b[0;32m----> 2\u001b[0;31m \u001b[0mpage\u001b[0m \u001b[0;34m=\u001b[0m \u001b[0mrequests\u001b[0m\u001b[0;34m.\u001b[0m\u001b[0mget\u001b[0m\u001b[0;34m(\u001b[0m\u001b[0mbillboard\u001b[0m\u001b[0;34m)\u001b[0m\u001b[0;34m\u001b[0m\u001b[0;34m\u001b[0m\u001b[0m\n\u001b[0m\u001b[1;32m      3\u001b[0m \u001b[0msoup\u001b[0m \u001b[0;34m=\u001b[0m \u001b[0mBeautifulSoup\u001b[0m\u001b[0;34m(\u001b[0m\u001b[0mpage\u001b[0m\u001b[0;34m.\u001b[0m\u001b[0mcontent\u001b[0m\u001b[0;34m,\u001b[0m \u001b[0;34m'html.parser'\u001b[0m\u001b[0;34m)\u001b[0m\u001b[0;34m\u001b[0m\u001b[0;34m\u001b[0m\u001b[0m\n\u001b[1;32m      4\u001b[0m \u001b[0mtable_classes\u001b[0m \u001b[0;34m=\u001b[0m \u001b[0;34m{\u001b[0m\u001b[0;34m\"class\"\u001b[0m\u001b[0;34m:\u001b[0m \u001b[0;34m[\u001b[0m\u001b[0;34m\"wikitable\"\u001b[0m\u001b[0;34m,\u001b[0m \u001b[0;34m\"plainrowheaders\"\u001b[0m\u001b[0;34m]\u001b[0m\u001b[0;34m}\u001b[0m\u001b[0;34m\u001b[0m\u001b[0;34m\u001b[0m\u001b[0m\n\u001b[1;32m      5\u001b[0m \u001b[0mwikitables\u001b[0m \u001b[0;34m=\u001b[0m \u001b[0msoup\u001b[0m\u001b[0;34m.\u001b[0m\u001b[0mfindAll\u001b[0m\u001b[0;34m(\u001b[0m\u001b[0;34m\"table\"\u001b[0m\u001b[0;34m,\u001b[0m \u001b[0mtable_classes\u001b[0m\u001b[0;34m)\u001b[0m\u001b[0;34m\u001b[0m\u001b[0;34m\u001b[0m\u001b[0m\n",
      "\u001b[0;31mNameError\u001b[0m: name 'requests' is not defined"
     ]
    }
   ],
   "source": [
    "billboard = \"https://en.wikipedia.org/wiki/List_of_Billboard_Hot_100_chart_achievements_by_decade\"\n",
    "page = requests.get(billboard)\n",
    "soup = BeautifulSoup(page.content, 'html.parser')\n",
    "table_classes = {\"class\": [\"wikitable\", \"plainrowheaders\"]}\n",
    "wikitables = soup.findAll(\"table\", table_classes)\n"
   ]
  },
  {
   "cell_type": "code",
   "execution_count": 6,
   "metadata": {
    "ExecuteTime": {
     "end_time": "2019-03-21T00:59:46.023624Z",
     "start_time": "2019-03-21T00:59:45.126911Z"
    }
   },
   "outputs": [
    {
     "name": "stdout",
     "output_type": "stream",
     "text": [
      "Extracted 25 wikitables\n"
     ]
    }
   ],
   "source": [
    "billboard = \"https://en.wikipedia.org/wiki/List_of_Billboard_Hot_100_chart_achievements_by_decade\"\n",
    "wikitables = read_html(billboard, flavor='bs4', index_col=0, header=0, attrs={\"class\":\"wikitable\"})\n",
    "\n",
    "print(\"Extracted {num} wikitables\".format(num=len(wikitables)))"
   ]
  },
  {
   "cell_type": "code",
   "execution_count": 7,
   "metadata": {
    "ExecuteTime": {
     "end_time": "2019-03-21T00:59:47.698193Z",
     "start_time": "2019-03-21T00:59:47.640520Z"
    },
    "collapsed": true
   },
   "outputs": [
    {
     "data": {
      "text/html": [
       "<div>\n",
       "<style scoped>\n",
       "    .dataframe tbody tr th:only-of-type {\n",
       "        vertical-align: middle;\n",
       "    }\n",
       "\n",
       "    .dataframe tbody tr th {\n",
       "        vertical-align: top;\n",
       "    }\n",
       "\n",
       "    .dataframe thead th {\n",
       "        text-align: right;\n",
       "    }\n",
       "</style>\n",
       "<table border=\"1\" class=\"dataframe\">\n",
       "  <thead>\n",
       "    <tr style=\"text-align: right;\">\n",
       "      <th></th>\n",
       "      <th>Artist</th>\n",
       "      <th>Weeks atnumber one</th>\n",
       "    </tr>\n",
       "    <tr>\n",
       "      <th>Song</th>\n",
       "      <th></th>\n",
       "      <th></th>\n",
       "    </tr>\n",
       "  </thead>\n",
       "  <tbody>\n",
       "    <tr>\n",
       "      <th>\"Mack the Knife\"</th>\n",
       "      <td>Bobby Darin</td>\n",
       "      <td>9.0</td>\n",
       "    </tr>\n",
       "    <tr>\n",
       "      <th>\"Theme from A Summer Place\"</th>\n",
       "      <td>Percy Faith</td>\n",
       "      <td>NaN</td>\n",
       "    </tr>\n",
       "    <tr>\n",
       "      <th>\"Hey Jude\"</th>\n",
       "      <td>The Beatles</td>\n",
       "      <td>NaN</td>\n",
       "    </tr>\n",
       "    <tr>\n",
       "      <th>\"Tossin' and Turnin'\"</th>\n",
       "      <td>Bobby Lewis</td>\n",
       "      <td>7.0</td>\n",
       "    </tr>\n",
       "    <tr>\n",
       "      <th>\"I Want to Hold Your Hand\"</th>\n",
       "      <td>The Beatles</td>\n",
       "      <td>NaN</td>\n",
       "    </tr>\n",
       "    <tr>\n",
       "      <th>\"I'm a Believer\"</th>\n",
       "      <td>The Monkees</td>\n",
       "      <td>NaN</td>\n",
       "    </tr>\n",
       "    <tr>\n",
       "      <th>\"I Heard It Through the Grapevine\"</th>\n",
       "      <td>Marvin Gaye</td>\n",
       "      <td>NaN</td>\n",
       "    </tr>\n",
       "    <tr>\n",
       "      <th>\"It's All in the Game\"</th>\n",
       "      <td>Tommy Edwards</td>\n",
       "      <td>6.0</td>\n",
       "    </tr>\n",
       "    <tr>\n",
       "      <th>\"The Battle of New Orleans\"</th>\n",
       "      <td>Johnny Horton</td>\n",
       "      <td>NaN</td>\n",
       "    </tr>\n",
       "    <tr>\n",
       "      <th>\"Are You Lonesome Tonight?\"</th>\n",
       "      <td>Elvis Presley</td>\n",
       "      <td>NaN</td>\n",
       "    </tr>\n",
       "    <tr>\n",
       "      <th>\"Aquarius/Let the Sunshine In\"</th>\n",
       "      <td>The 5th Dimension</td>\n",
       "      <td>NaN</td>\n",
       "    </tr>\n",
       "    <tr>\n",
       "      <th>\"In the Year 2525\"</th>\n",
       "      <td>Zager and Evans</td>\n",
       "      <td>NaN</td>\n",
       "    </tr>\n",
       "  </tbody>\n",
       "</table>\n",
       "</div>"
      ],
      "text/plain": [
       "                                               Artist  Weeks atnumber one\n",
       "Song                                                                     \n",
       "\"Mack the Knife\"                          Bobby Darin                 9.0\n",
       "\"Theme from A Summer Place\"               Percy Faith                 NaN\n",
       "\"Hey Jude\"                                The Beatles                 NaN\n",
       "\"Tossin' and Turnin'\"                     Bobby Lewis                 7.0\n",
       "\"I Want to Hold Your Hand\"                The Beatles                 NaN\n",
       "\"I'm a Believer\"                          The Monkees                 NaN\n",
       "\"I Heard It Through the Grapevine\"        Marvin Gaye                 NaN\n",
       "\"It's All in the Game\"                  Tommy Edwards                 6.0\n",
       "\"The Battle of New Orleans\"             Johnny Horton                 NaN\n",
       "\"Are You Lonesome Tonight?\"             Elvis Presley                 NaN\n",
       "\"Aquarius/Let the Sunshine In\"      The 5th Dimension                 NaN\n",
       "\"In the Year 2525\"                    Zager and Evans                 NaN"
      ]
     },
     "execution_count": 7,
     "metadata": {},
     "output_type": "execute_result"
    }
   ],
   "source": [
    "# here, checked all tables by hand to decide how to clean.\n",
    "wikitables[24]"
   ]
  },
  {
   "cell_type": "markdown",
   "metadata": {},
   "source": [
    "### Now we start cleaning the data, beginning with collecting all artist names."
   ]
  },
  {
   "cell_type": "code",
   "execution_count": 8,
   "metadata": {
    "ExecuteTime": {
     "end_time": "2019-03-21T00:59:50.496240Z",
     "start_time": "2019-03-21T00:59:50.391708Z"
    }
   },
   "outputs": [
    {
     "name": "stdout",
     "output_type": "stream",
     "text": [
      "df1: 128 names\n"
     ]
    }
   ],
   "source": [
    "# splitting wikitables into smaller dfs for cleaning.\n",
    "\n",
    "# collecting artist names in index column\n",
    "pd1 = pd.concat(wikitables[0:2], axis=0, sort=False)\n",
    "pd2 = pd.concat(wikitables[4:6], axis=0, sort=False)\n",
    "pd3 = pd.concat(wikitables[9:11], axis=0, sort=False)\n",
    "pd4 = pd.concat(wikitables[13:15], axis=0, sort=False)\n",
    "pd5 = pd.concat(wikitables[17:19], axis=0, sort=False)\n",
    "pd6 = pd.concat(wikitables[21:23], axis=0, sort=False)\n",
    "\n",
    "pdx = [pd1, pd2, pd3, pd4, pd5, pd6]\n",
    "pdx = pd.concat(pdx[:], axis=0, sort=False)\n",
    "df1 = pdx.index.values\n",
    "\n",
    "print(\"df1:\", len(df1), \"names\")"
   ]
  },
  {
   "cell_type": "code",
   "execution_count": 9,
   "metadata": {
    "ExecuteTime": {
     "end_time": "2019-03-21T00:59:50.635383Z",
     "start_time": "2019-03-21T00:59:50.593459Z"
    }
   },
   "outputs": [
    {
     "name": "stdout",
     "output_type": "stream",
     "text": [
      "df2: 108 names\n"
     ]
    }
   ],
   "source": [
    "# collecting artist names in col 1\n",
    "\n",
    "pd1 = pd.concat(wikitables[2:4], axis=0, sort=False)\n",
    "pd2 = wikitables[6]\n",
    "pd3 = wikitables[8]\n",
    "pd4 = wikitables[12]\n",
    "pd5 = wikitables[16]\n",
    "pd6 = wikitables[20]\n",
    "pd7 = wikitables[24]\n",
    "\n",
    "pd_why = [pd1, pd2, pd3, pd4, pd5, pd6, pd7]\n",
    "pd_why = pd.concat(pd_why, axis=0, sort=False)\n",
    "df2 = pd_why['Artist'].values\n",
    "\n",
    "print(\"df2:\", len(df2), \"names\")"
   ]
  },
  {
   "cell_type": "code",
   "execution_count": 10,
   "metadata": {
    "ExecuteTime": {
     "end_time": "2019-03-21T00:59:50.789904Z",
     "start_time": "2019-03-21T00:59:50.769808Z"
    },
    "scrolled": true
   },
   "outputs": [
    {
     "name": "stdout",
     "output_type": "stream",
     "text": [
      "df3: 50 names\n"
     ]
    }
   ],
   "source": [
    "pd1 = wikitables[15]\n",
    "pd2 = wikitables[19]\n",
    "pd3 = wikitables[23]\n",
    "pd4 = wikitables[7]\n",
    "pd5 = wikitables[11]\n",
    "\n",
    "pd_zzz = [pd1, pd2, pd3, pd4, pd5]\n",
    "pd_zzz = pd.concat(pd_zzz, axis=0, sort=False)\n",
    "df3 = pd_zzz['Artist'].values\n",
    "\n",
    "print(\"df3:\", len(df3), \"names\")"
   ]
  },
  {
   "cell_type": "code",
   "execution_count": 11,
   "metadata": {
    "ExecuteTime": {
     "end_time": "2019-03-21T00:59:52.156060Z",
     "start_time": "2019-03-21T00:59:52.128974Z"
    }
   },
   "outputs": [
    {
     "data": {
      "text/plain": [
       "array(['Rihanna', 'Katy Perry', 'Bruno Mars', 'Drake', 'Justin Bieber',\n",
       "       'Taylor Swift', 'Adele', 'Eminem', 'Kesha', 'The Weeknd',\n",
       "       'Maroon 5', 'Cardi B', 'Post Malone', 'Pharrell Williams',\n",
       "       'Ed Sheeran', 'Usher', 'Beyoncé', 'Nelly', 'Ludacris',\n",
       "       'Justin Timberlake', 'Mariah Carey', '50 Cent', 'Alicia Keys',\n",
       "       'The Black Eyed Peas', 'Jay-Z', 'Janet Jackson', 'Boyz II Men',\n",
       "       'Madonna', 'Whitney Houston', 'Celine Dion', 'TLC',\n",
       "       'Wilson Phillips', 'Paula Abdul', 'Bryan Adams', 'Puff Daddy',\n",
       "       'Monica', 'Céline Dion', 'Elton John', 'Brandy', 'Michael Jackson',\n",
       "       'Phil Collins', 'George Michael', 'Daryl Hall & John Oates',\n",
       "       'Lionel Richie', 'Stevie Wonder', 'Bon Jovi', 'Prince',\n",
       "       'Paul McCartney', 'Olivia Newton-John', 'Diana Ross', 'Bee Gees',\n",
       "       'Paul McCartney and Wings', 'Eagles', 'The Jackson 5',\n",
       "       'John Denver', 'KC & The Sunshine Band', 'Barbra Streisand',\n",
       "       'Donna Summer', 'Rod Stewart', 'Andy Gibb', 'Roberta Flack',\n",
       "       'Tony Orlando and Dawn', 'Debby Boone', 'The Beatles',\n",
       "       'The Supremes', 'Elvis Presley', 'The Rolling Stones',\n",
       "       'Bobby Vinton', 'The Four Seasons', 'Connie Francis',\n",
       "       'Ray Charles', 'The Beach Boys', 'The Monkees',\n",
       "       'The Young Rascals', 'Bobby Darin', 'Percy Faith',\n",
       "       'The 5th Dimension', 'LMFAO', 'Macklemore & Ryan Lewis',\n",
       "       'Ariana Grande',\n",
       "       'Luis Fonsi and Daddy Yankee featuring Justin Bieber',\n",
       "       'Mark Ronson featuring Bruno Mars',\n",
       "       'Robin Thicke featuring T.I. and Pharrell',\n",
       "       'Wiz Khalifa featuring Charlie Puth',\n",
       "       'The Chainsmokers featuring Halsey',\n",
       "       'Rihanna featuring Calvin Harris',\n",
       "       'Drake featuring Wizkid and Kyla', 'Fergie', 'Santana',\n",
       "       'Christina Aguilera', 'Shaggy', \"Destiny's Child\", 'Outkast',\n",
       "       'Nelly Furtado', 'Akon', 'T.I.', 'Lady Gaga',\n",
       "       'Usher featuring Lil Jon and Ludacris',\n",
       "       'Santana featuring The Product G&B', 'Ashanti',\n",
       "       'Nelly featuring Kelly Rowland', 'Kanye West featuring Jamie Foxx',\n",
       "       'Flo Rida featuring T-Pain', 'Mariah Carey and Boyz II Men',\n",
       "       'Los Del Rio', 'Brandy and Monica', 'Santana featuring Rob Thomas',\n",
       "       'All-4-One', 'Toni Braxton',\n",
       "       'Puff Daddy and Faith Evans featuring 112', 'Kim Carnes',\n",
       "       'Diana Ross and Lionel Richie', 'The Police',\n",
       "       'Joan Jett and the Blackhearts',\n",
       "       'Paul McCartney and Stevie Wonder', 'Blondie', 'Kenny Rogers',\n",
       "       'The J. Geils Band', 'Survivor', 'Irene Cara',\n",
       "       'Paul McCartney and Michael Jackson', 'Simon & Garfunkel',\n",
       "       'Three Dog Night', \"Gilbert O'Sullivan\", 'Chic', 'The Knack',\n",
       "       'Bobby Lewis', 'Marvin Gaye', 'Tommy Edwards', 'Johnny Horton',\n",
       "       'Zager and Evans', 'Lionel Richie and Diana Ross', 'Queen',\n",
       "       'Wings', 'Dawn featuring Tony Orlando', 'Chubby Checker',\n",
       "       'Percy Faith and His Orchestra', 'Nickelback', 'Mario',\n",
       "       'Timbaland featuring OneRepublic', 'LeAnn Rimes', 'Jewel', 'Next',\n",
       "       'Savage Garden'], dtype=object)"
      ]
     },
     "execution_count": 11,
     "metadata": {},
     "output_type": "execute_result"
    }
   ],
   "source": [
    "df = np.array([])\n",
    "df = np.concatenate((df1, df2, df3))\n",
    "pos_names = pd.DataFrame(data=df, columns=['Artists'])\n",
    "pos_names = pos_names['Artists'].unique()\n",
    "\n",
    "pos_names"
   ]
  },
  {
   "cell_type": "code",
   "execution_count": 12,
   "metadata": {
    "ExecuteTime": {
     "end_time": "2019-03-21T00:59:54.751500Z",
     "start_time": "2019-03-21T00:59:54.581280Z"
    }
   },
   "outputs": [
    {
     "ename": "AttributeError",
     "evalue": "'numpy.ndarray' object has no attribute 'Artists'",
     "output_type": "error",
     "traceback": [
      "\u001b[0;31m---------------------------------------------------------------------------\u001b[0m",
      "\u001b[0;31mAttributeError\u001b[0m                            Traceback (most recent call last)",
      "\u001b[0;32m<ipython-input-12-e0ece37c0414>\u001b[0m in \u001b[0;36m<module>\u001b[0;34m\u001b[0m\n\u001b[1;32m      1\u001b[0m \u001b[0;34m\u001b[0m\u001b[0m\n\u001b[0;32m----> 2\u001b[0;31m \u001b[0mpnames\u001b[0m \u001b[0;34m=\u001b[0m \u001b[0mpos_names\u001b[0m\u001b[0;34m[\u001b[0m\u001b[0;34m~\u001b[0m\u001b[0mpos_names\u001b[0m\u001b[0;34m.\u001b[0m\u001b[0mArtists\u001b[0m\u001b[0;34m.\u001b[0m\u001b[0mstr\u001b[0m\u001b[0;34m.\u001b[0m\u001b[0mcontains\u001b[0m\u001b[0;34m(\u001b[0m\u001b[0mstop_words\u001b[0m\u001b[0;34m)\u001b[0m\u001b[0;34m]\u001b[0m\u001b[0;34m\u001b[0m\u001b[0;34m\u001b[0m\u001b[0m\n\u001b[0m\u001b[1;32m      3\u001b[0m \u001b[0mpnames\u001b[0m\u001b[0;34m\u001b[0m\u001b[0;34m\u001b[0m\u001b[0m\n",
      "\u001b[0;31mAttributeError\u001b[0m: 'numpy.ndarray' object has no attribute 'Artists'"
     ]
    }
   ],
   "source": [
    "# trying to remove rows with \"and\" and \"featuring\"\n",
    "\n",
    "pnames = pos_names[~pos_names.Artists.str.contains(stop_words)]\n",
    "pnames"
   ]
  },
  {
   "cell_type": "markdown",
   "metadata": {},
   "source": [
    "### These artists are our positive dataset (control variable), who are are alive, happy, and healthy. \n",
    "### Now we can begin analyzing lyrics from this pool of artists."
   ]
  },
  {
   "cell_type": "code",
   "execution_count": 13,
   "metadata": {
    "ExecuteTime": {
     "end_time": "2019-03-21T01:14:43.813505Z",
     "start_time": "2019-03-21T01:14:40.425771Z"
    }
   },
   "outputs": [
    {
     "data": {
      "text/html": [
       "<div>\n",
       "<style scoped>\n",
       "    .dataframe tbody tr th:only-of-type {\n",
       "        vertical-align: middle;\n",
       "    }\n",
       "\n",
       "    .dataframe tbody tr th {\n",
       "        vertical-align: top;\n",
       "    }\n",
       "\n",
       "    .dataframe thead th {\n",
       "        text-align: right;\n",
       "    }\n",
       "</style>\n",
       "<table border=\"1\" class=\"dataframe\">\n",
       "  <thead>\n",
       "    <tr style=\"text-align: right;\">\n",
       "      <th></th>\n",
       "      <th>Band</th>\n",
       "      <th>Lyrics</th>\n",
       "      <th>Song</th>\n",
       "    </tr>\n",
       "  </thead>\n",
       "  <tbody>\n",
       "    <tr>\n",
       "      <th>0</th>\n",
       "      <td>Elijah Blake</td>\n",
       "      <td>No, no\\r\\nI ain't ever trapped out the bando\\r...</td>\n",
       "      <td>Everyday</td>\n",
       "    </tr>\n",
       "    <tr>\n",
       "      <th>1</th>\n",
       "      <td>Elijah Blake</td>\n",
       "      <td>The drinks go down and smoke goes up, I feel m...</td>\n",
       "      <td>Live Till We Die</td>\n",
       "    </tr>\n",
       "    <tr>\n",
       "      <th>2</th>\n",
       "      <td>Elijah Blake</td>\n",
       "      <td>She don't live on planet Earth no more\\r\\nShe ...</td>\n",
       "      <td>The Otherside</td>\n",
       "    </tr>\n",
       "    <tr>\n",
       "      <th>3</th>\n",
       "      <td>Elijah Blake</td>\n",
       "      <td>Trippin' off that Grigio, mobbin', lights low\\...</td>\n",
       "      <td>Pinot</td>\n",
       "    </tr>\n",
       "    <tr>\n",
       "      <th>4</th>\n",
       "      <td>Elijah Blake</td>\n",
       "      <td>I see a midnight panther, so gallant and so br...</td>\n",
       "      <td>Shadows &amp; Diamonds</td>\n",
       "    </tr>\n",
       "  </tbody>\n",
       "</table>\n",
       "</div>"
      ],
      "text/plain": [
       "           Band                                             Lyrics  \\\n",
       "0  Elijah Blake  No, no\\r\\nI ain't ever trapped out the bando\\r...   \n",
       "1  Elijah Blake  The drinks go down and smoke goes up, I feel m...   \n",
       "2  Elijah Blake  She don't live on planet Earth no more\\r\\nShe ...   \n",
       "3  Elijah Blake  Trippin' off that Grigio, mobbin', lights low\\...   \n",
       "4  Elijah Blake  I see a midnight panther, so gallant and so br...   \n",
       "\n",
       "                 Song  \n",
       "0            Everyday  \n",
       "1    Live Till We Die  \n",
       "2       The Otherside  \n",
       "3               Pinot  \n",
       "4  Shadows & Diamonds  "
      ]
     },
     "execution_count": 13,
     "metadata": {},
     "output_type": "execute_result"
    }
   ],
   "source": [
    "songsTable1 = pd.read_csv(\"lyrics/lyrics1.csv\")\n",
    "songsTable1.head()"
   ]
  },
  {
   "cell_type": "code",
   "execution_count": 14,
   "metadata": {
    "ExecuteTime": {
     "end_time": "2019-03-21T01:14:56.339778Z",
     "start_time": "2019-03-21T01:14:52.778766Z"
    }
   },
   "outputs": [
    {
     "data": {
      "text/html": [
       "<div>\n",
       "<style scoped>\n",
       "    .dataframe tbody tr th:only-of-type {\n",
       "        vertical-align: middle;\n",
       "    }\n",
       "\n",
       "    .dataframe tbody tr th {\n",
       "        vertical-align: top;\n",
       "    }\n",
       "\n",
       "    .dataframe thead th {\n",
       "        text-align: right;\n",
       "    }\n",
       "</style>\n",
       "<table border=\"1\" class=\"dataframe\">\n",
       "  <thead>\n",
       "    <tr style=\"text-align: right;\">\n",
       "      <th></th>\n",
       "      <th>Band</th>\n",
       "      <th>Lyrics</th>\n",
       "      <th>Song</th>\n",
       "    </tr>\n",
       "  </thead>\n",
       "  <tbody>\n",
       "    <tr>\n",
       "      <th>0</th>\n",
       "      <td>Adam Gregory</td>\n",
       "      <td>I was born in the country\\r\\nFar away from cit...</td>\n",
       "      <td>In the Country</td>\n",
       "    </tr>\n",
       "    <tr>\n",
       "      <th>1</th>\n",
       "      <td>Adam Gregory</td>\n",
       "      <td>Do you feel your heart beating a million miles...</td>\n",
       "      <td>Me Too</td>\n",
       "    </tr>\n",
       "    <tr>\n",
       "      <th>2</th>\n",
       "      <td>Adam Gregory</td>\n",
       "      <td>There are moments in your life \\r\\nThat are fr...</td>\n",
       "      <td>Memory Like That</td>\n",
       "    </tr>\n",
       "    <tr>\n",
       "      <th>3</th>\n",
       "      <td>Adam Gregory</td>\n",
       "      <td>There's a town by a river\\r\\nAnd a dirt road t...</td>\n",
       "      <td>Sweet Memories</td>\n",
       "    </tr>\n",
       "    <tr>\n",
       "      <th>4</th>\n",
       "      <td>Adam Gregory</td>\n",
       "      <td>I go walkin' down a long road tonight\\r\\nI go ...</td>\n",
       "      <td>Walkin'</td>\n",
       "    </tr>\n",
       "  </tbody>\n",
       "</table>\n",
       "</div>"
      ],
      "text/plain": [
       "           Band                                             Lyrics  \\\n",
       "0  Adam Gregory  I was born in the country\\r\\nFar away from cit...   \n",
       "1  Adam Gregory  Do you feel your heart beating a million miles...   \n",
       "2  Adam Gregory  There are moments in your life \\r\\nThat are fr...   \n",
       "3  Adam Gregory  There's a town by a river\\r\\nAnd a dirt road t...   \n",
       "4  Adam Gregory  I go walkin' down a long road tonight\\r\\nI go ...   \n",
       "\n",
       "               Song  \n",
       "0    In the Country  \n",
       "1            Me Too  \n",
       "2  Memory Like That  \n",
       "3    Sweet Memories  \n",
       "4           Walkin'  "
      ]
     },
     "execution_count": 14,
     "metadata": {},
     "output_type": "execute_result"
    }
   ],
   "source": [
    "songsTable2 = pd.read_csv(\"lyrics/lyrics2.csv\")\n",
    "songsTable2.head()"
   ]
  },
  {
   "cell_type": "code",
   "execution_count": null,
   "metadata": {},
   "outputs": [],
   "source": []
  }
 ],
 "metadata": {
  "kernelspec": {
   "display_name": "Python 3",
   "language": "python",
   "name": "python3"
  },
  "language_info": {
   "codemirror_mode": {
    "name": "ipython",
    "version": 3
   },
   "file_extension": ".py",
   "mimetype": "text/x-python",
   "name": "python",
   "nbconvert_exporter": "python",
   "pygments_lexer": "ipython3",
   "version": "3.6.6"
  }
 },
 "nbformat": 4,
 "nbformat_minor": 2
}
