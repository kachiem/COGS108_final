{
 "cells": [
  {
   "cell_type": "code",
   "execution_count": 68,
   "metadata": {
    "ExecuteTime": {
     "end_time": "2019-03-20T15:59:47.077871Z",
     "start_time": "2019-03-20T15:59:46.804266Z"
    },
    "scrolled": true
   },
   "outputs": [
    {
     "name": "stderr",
     "output_type": "stream",
     "text": [
      "[nltk_data] Downloading package punkt to\n",
      "[nltk_data]     /home/cabbagepatch/nltk_data...\n",
      "[nltk_data]   Package punkt is already up-to-date!\n",
      "[nltk_data] Downloading package stopwords to\n",
      "[nltk_data]     /home/cabbagepatch/nltk_data...\n",
      "[nltk_data]   Package stopwords is already up-to-date!\n",
      "[nltk_data] Downloading package vader_lexicon to\n",
      "[nltk_data]     /home/cabbagepatch/nltk_data...\n",
      "[nltk_data]   Package vader_lexicon is already up-to-date!\n"
     ]
    },
    {
     "data": {
      "text/plain": [
       "True"
      ]
     },
     "execution_count": 68,
     "metadata": {},
     "output_type": "execute_result"
    }
   ],
   "source": [
    "import requests\n",
    "import urllib.request\n",
    "import pandas as pd\n",
    "from pandas.io.html import read_html\n",
    "import bs4\n",
    "from bs4 import BeautifulSoup\n",
    "\n",
    "import re\n",
    "import lxml\n",
    "\n",
    "import nltk\n",
    "from nltk.tokenize import word_tokenize\n",
    "from nltk.corpus import stopwords\n",
    "from nltk.sentiment.vader import SentimentIntensityAnalyzer\n",
    "\n",
    "nltk.download('punkt')\n",
    "nltk.download('stopwords')\n",
    "nltk.download('vader_lexicon')\n",
    "\n",
    "# https://roche.io/2016/05/scrape-wikipedia-with-python \n",
    "# https://scipython.com/blog/scraping-a-wikipedia-table-with-beautiful-soup/\n",
    "# https://gist.github.com/aculich/b34868c098d94d614515"
   ]
  },
  {
   "cell_type": "code",
   "execution_count": 69,
   "metadata": {
    "ExecuteTime": {
     "end_time": "2019-03-20T15:59:49.869664Z",
     "start_time": "2019-03-20T15:59:49.244088Z"
    }
   },
   "outputs": [],
   "source": [
    "billboard = \"https://en.wikipedia.org/wiki/List_of_Billboard_Hot_100_chart_achievements_by_decade\"\n",
    "page = requests.get(billboard)\n",
    "soup = BeautifulSoup(page.content, 'html.parser')\n",
    "table_classes = {\"class\": [\"wikitable\", \"plainrowheaders\"]}\n",
    "wikitables = soup.findAll(\"table\", table_classes)\n"
   ]
  },
  {
   "cell_type": "code",
   "execution_count": 70,
   "metadata": {
    "ExecuteTime": {
     "end_time": "2019-03-20T15:59:50.866674Z",
     "start_time": "2019-03-20T15:59:49.872676Z"
    }
   },
   "outputs": [
    {
     "name": "stdout",
     "output_type": "stream",
     "text": [
      "Extracted 25 wikitables\n"
     ]
    }
   ],
   "source": [
    "wikitables = read_html(billboard, flavor='bs4', index_col=0, header=0, attrs={\"class\":\"wikitable\"})\n",
    "\n",
    "print(\"Extracted {num} wikitables\".format(num=len(wikitables)))"
   ]
  },
  {
   "cell_type": "code",
   "execution_count": 130,
   "metadata": {
    "ExecuteTime": {
     "end_time": "2019-03-20T16:18:55.562393Z",
     "start_time": "2019-03-20T16:18:55.506546Z"
    }
   },
   "outputs": [
    {
     "data": {
      "text/html": [
       "<div>\n",
       "<style scoped>\n",
       "    .dataframe tbody tr th:only-of-type {\n",
       "        vertical-align: middle;\n",
       "    }\n",
       "\n",
       "    .dataframe tbody tr th {\n",
       "        vertical-align: top;\n",
       "    }\n",
       "\n",
       "    .dataframe thead th {\n",
       "        text-align: right;\n",
       "    }\n",
       "</style>\n",
       "<table border=\"1\" class=\"dataframe\">\n",
       "  <thead>\n",
       "    <tr style=\"text-align: right;\">\n",
       "      <th></th>\n",
       "      <th>Artist</th>\n",
       "      <th>Weeks atnumber one</th>\n",
       "    </tr>\n",
       "    <tr>\n",
       "      <th>Song</th>\n",
       "      <th></th>\n",
       "      <th></th>\n",
       "    </tr>\n",
       "  </thead>\n",
       "  <tbody>\n",
       "    <tr>\n",
       "      <th>\"Mack the Knife\"</th>\n",
       "      <td>Bobby Darin</td>\n",
       "      <td>9.0</td>\n",
       "    </tr>\n",
       "    <tr>\n",
       "      <th>\"Theme from A Summer Place\"</th>\n",
       "      <td>Percy Faith</td>\n",
       "      <td>NaN</td>\n",
       "    </tr>\n",
       "    <tr>\n",
       "      <th>\"Hey Jude\"</th>\n",
       "      <td>The Beatles</td>\n",
       "      <td>NaN</td>\n",
       "    </tr>\n",
       "    <tr>\n",
       "      <th>\"Tossin' and Turnin'\"</th>\n",
       "      <td>Bobby Lewis</td>\n",
       "      <td>7.0</td>\n",
       "    </tr>\n",
       "    <tr>\n",
       "      <th>\"I Want to Hold Your Hand\"</th>\n",
       "      <td>The Beatles</td>\n",
       "      <td>NaN</td>\n",
       "    </tr>\n",
       "    <tr>\n",
       "      <th>\"I'm a Believer\"</th>\n",
       "      <td>The Monkees</td>\n",
       "      <td>NaN</td>\n",
       "    </tr>\n",
       "    <tr>\n",
       "      <th>\"I Heard It Through the Grapevine\"</th>\n",
       "      <td>Marvin Gaye</td>\n",
       "      <td>NaN</td>\n",
       "    </tr>\n",
       "    <tr>\n",
       "      <th>\"It's All in the Game\"</th>\n",
       "      <td>Tommy Edwards</td>\n",
       "      <td>6.0</td>\n",
       "    </tr>\n",
       "    <tr>\n",
       "      <th>\"The Battle of New Orleans\"</th>\n",
       "      <td>Johnny Horton</td>\n",
       "      <td>NaN</td>\n",
       "    </tr>\n",
       "    <tr>\n",
       "      <th>\"Are You Lonesome Tonight?\"</th>\n",
       "      <td>Elvis Presley</td>\n",
       "      <td>NaN</td>\n",
       "    </tr>\n",
       "    <tr>\n",
       "      <th>\"Aquarius/Let the Sunshine In\"</th>\n",
       "      <td>The 5th Dimension</td>\n",
       "      <td>NaN</td>\n",
       "    </tr>\n",
       "    <tr>\n",
       "      <th>\"In the Year 2525\"</th>\n",
       "      <td>Zager and Evans</td>\n",
       "      <td>NaN</td>\n",
       "    </tr>\n",
       "  </tbody>\n",
       "</table>\n",
       "</div>"
      ],
      "text/plain": [
       "                                               Artist  Weeks atnumber one\n",
       "Song                                                                     \n",
       "\"Mack the Knife\"                          Bobby Darin                 9.0\n",
       "\"Theme from A Summer Place\"               Percy Faith                 NaN\n",
       "\"Hey Jude\"                                The Beatles                 NaN\n",
       "\"Tossin' and Turnin'\"                     Bobby Lewis                 7.0\n",
       "\"I Want to Hold Your Hand\"                The Beatles                 NaN\n",
       "\"I'm a Believer\"                          The Monkees                 NaN\n",
       "\"I Heard It Through the Grapevine\"        Marvin Gaye                 NaN\n",
       "\"It's All in the Game\"                  Tommy Edwards                 6.0\n",
       "\"The Battle of New Orleans\"             Johnny Horton                 NaN\n",
       "\"Are You Lonesome Tonight?\"             Elvis Presley                 NaN\n",
       "\"Aquarius/Let the Sunshine In\"      The 5th Dimension                 NaN\n",
       "\"In the Year 2525\"                    Zager and Evans                 NaN"
      ]
     },
     "execution_count": 130,
     "metadata": {},
     "output_type": "execute_result"
    }
   ],
   "source": [
    "# here, checked all tables by hand to decide how to clean.\n",
    "wikitables[25]"
   ]
  },
  {
   "cell_type": "code",
   "execution_count": 134,
   "metadata": {
    "ExecuteTime": {
     "end_time": "2019-03-20T16:23:20.291907Z",
     "start_time": "2019-03-20T16:23:20.217310Z"
    }
   },
   "outputs": [],
   "source": [
    "# splitting wikitables into smaller dfs for cleaning.\n",
    "\n",
    "pd1 = pd.concat(wikitables[0:5], axis=0, sort=False) # clean columns 0 and 3\n",
    "pd2 = pd.concat(wikitables[6:14], axis=0, sort=False) # clean columns 0 and 1\n",
    "#pd_ugh = pd.concat(wikitables[15, 19, 23], axis=0, sort=False) # clean column 2\n",
    "pd3 = pd.concat(wikitables[16:18], axis=0, sort=False) #clean column 0 and 1\n",
    "pd4 = pd.concat(wikitables[20:22], axis=0, sort=False) #clean column 0 and 1\n",
    "pd5 = wikitables[24] # clean column 1\n",
    "\n",
    "ugh1 = wikitables[15]\n",
    "ugh2 = wikitables[19]\n",
    "ugh3 = wikitables[23]\n",
    "big_ugh = [ugh1, ugh2, ugh3] # clean column 2"
   ]
  },
  {
   "cell_type": "code",
   "execution_count": null,
   "metadata": {
    "ExecuteTime": {
     "end_time": "2019-03-20T16:23:21.666083Z",
     "start_time": "2019-03-20T16:23:21.590741Z"
    }
   },
   "outputs": [],
   "source": []
  },
  {
   "cell_type": "code",
   "execution_count": null,
   "metadata": {},
   "outputs": [],
   "source": []
  }
 ],
 "metadata": {
  "kernelspec": {
   "display_name": "Python 3",
   "language": "python",
   "name": "python3"
  },
  "language_info": {
   "codemirror_mode": {
    "name": "ipython",
    "version": 3
   },
   "file_extension": ".py",
   "mimetype": "text/x-python",
   "name": "python",
   "nbconvert_exporter": "python",
   "pygments_lexer": "ipython3",
   "version": "3.6.6"
  }
 },
 "nbformat": 4,
 "nbformat_minor": 2
}
