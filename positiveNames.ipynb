{
 "cells": [
  {
   "cell_type": "code",
   "execution_count": 185,
   "metadata": {
    "ExecuteTime": {
     "end_time": "2019-03-20T17:09:50.000168Z",
     "start_time": "2019-03-20T17:09:49.948793Z"
    },
    "scrolled": true
   },
   "outputs": [
    {
     "name": "stderr",
     "output_type": "stream",
     "text": [
      "[nltk_data] Downloading package punkt to\n",
      "[nltk_data]     /home/cabbagepatch/nltk_data...\n",
      "[nltk_data]   Package punkt is already up-to-date!\n",
      "[nltk_data] Downloading package stopwords to\n",
      "[nltk_data]     /home/cabbagepatch/nltk_data...\n",
      "[nltk_data]   Package stopwords is already up-to-date!\n",
      "[nltk_data] Downloading package vader_lexicon to\n",
      "[nltk_data]     /home/cabbagepatch/nltk_data...\n",
      "[nltk_data]   Package vader_lexicon is already up-to-date!\n"
     ]
    },
    {
     "data": {
      "text/plain": [
       "True"
      ]
     },
     "execution_count": 185,
     "metadata": {},
     "output_type": "execute_result"
    }
   ],
   "source": [
    "import requests\n",
    "import urllib.request\n",
    "import pandas as pd\n",
    "from pandas.io.html import read_html\n",
    "import bs4\n",
    "from bs4 import BeautifulSoup\n",
    "\n",
    "import re\n",
    "import lxml\n",
    "\n",
    "import nltk\n",
    "from nltk.tokenize import word_tokenize\n",
    "from nltk.corpus import stopwords\n",
    "from nltk.sentiment.vader import SentimentIntensityAnalyzer\n",
    "\n",
    "nltk.download('punkt')\n",
    "nltk.download('stopwords')\n",
    "nltk.download('vader_lexicon')\n",
    "\n",
    "# https://gist.github.com/aculich/b34868c098d94d614515\n",
    "# https://beenje.github.io/blog/posts/parsing-html-tables-in-python-with-pandas/\n",
    "# https://www.analyticsvidhya.com/blog/2018/02/the-different-methods-deal-text-data-predictive-python/"
   ]
  },
  {
   "cell_type": "markdown",
   "metadata": {},
   "source": [
    "### Start by importing data from wikipedia."
   ]
  },
  {
   "cell_type": "code",
   "execution_count": 289,
   "metadata": {
    "ExecuteTime": {
     "end_time": "2019-03-20T19:15:20.041175Z",
     "start_time": "2019-03-20T19:15:19.673469Z"
    }
   },
   "outputs": [],
   "source": [
    "billboard = \"https://en.wikipedia.org/wiki/List_of_Billboard_Hot_100_chart_achievements_by_decade\"\n",
    "page = requests.get(billboard)\n",
    "soup = BeautifulSoup(page.content, 'html.parser')\n",
    "table_classes = {\"class\": [\"wikitable\", \"plainrowheaders\"]}\n",
    "wikitables = soup.findAll(\"table\", table_classes)\n"
   ]
  },
  {
   "cell_type": "code",
   "execution_count": 290,
   "metadata": {
    "ExecuteTime": {
     "end_time": "2019-03-20T19:15:20.912143Z",
     "start_time": "2019-03-20T19:15:20.042689Z"
    }
   },
   "outputs": [
    {
     "name": "stdout",
     "output_type": "stream",
     "text": [
      "Extracted 25 wikitables\n"
     ]
    }
   ],
   "source": [
    "wikitables = read_html(billboard, flavor='bs4', index_col=0, header=0, attrs={\"class\":\"wikitable\"})\n",
    "\n",
    "print(\"Extracted {num} wikitables\".format(num=len(wikitables)))"
   ]
  },
  {
   "cell_type": "code",
   "execution_count": 291,
   "metadata": {
    "ExecuteTime": {
     "end_time": "2019-03-20T19:15:20.924177Z",
     "start_time": "2019-03-20T19:15:20.914619Z"
    },
    "collapsed": true
   },
   "outputs": [
    {
     "data": {
      "text/html": [
       "<div>\n",
       "<style scoped>\n",
       "    .dataframe tbody tr th:only-of-type {\n",
       "        vertical-align: middle;\n",
       "    }\n",
       "\n",
       "    .dataframe tbody tr th {\n",
       "        vertical-align: top;\n",
       "    }\n",
       "\n",
       "    .dataframe thead th {\n",
       "        text-align: right;\n",
       "    }\n",
       "</style>\n",
       "<table border=\"1\" class=\"dataframe\">\n",
       "  <thead>\n",
       "    <tr style=\"text-align: right;\">\n",
       "      <th></th>\n",
       "      <th>Artist</th>\n",
       "      <th>Weeks atnumber one</th>\n",
       "    </tr>\n",
       "    <tr>\n",
       "      <th>Song</th>\n",
       "      <th></th>\n",
       "      <th></th>\n",
       "    </tr>\n",
       "  </thead>\n",
       "  <tbody>\n",
       "    <tr>\n",
       "      <th>\"Mack the Knife\"</th>\n",
       "      <td>Bobby Darin</td>\n",
       "      <td>9.0</td>\n",
       "    </tr>\n",
       "    <tr>\n",
       "      <th>\"Theme from A Summer Place\"</th>\n",
       "      <td>Percy Faith</td>\n",
       "      <td>NaN</td>\n",
       "    </tr>\n",
       "    <tr>\n",
       "      <th>\"Hey Jude\"</th>\n",
       "      <td>The Beatles</td>\n",
       "      <td>NaN</td>\n",
       "    </tr>\n",
       "    <tr>\n",
       "      <th>\"Tossin' and Turnin'\"</th>\n",
       "      <td>Bobby Lewis</td>\n",
       "      <td>7.0</td>\n",
       "    </tr>\n",
       "    <tr>\n",
       "      <th>\"I Want to Hold Your Hand\"</th>\n",
       "      <td>The Beatles</td>\n",
       "      <td>NaN</td>\n",
       "    </tr>\n",
       "    <tr>\n",
       "      <th>\"I'm a Believer\"</th>\n",
       "      <td>The Monkees</td>\n",
       "      <td>NaN</td>\n",
       "    </tr>\n",
       "    <tr>\n",
       "      <th>\"I Heard It Through the Grapevine\"</th>\n",
       "      <td>Marvin Gaye</td>\n",
       "      <td>NaN</td>\n",
       "    </tr>\n",
       "    <tr>\n",
       "      <th>\"It's All in the Game\"</th>\n",
       "      <td>Tommy Edwards</td>\n",
       "      <td>6.0</td>\n",
       "    </tr>\n",
       "    <tr>\n",
       "      <th>\"The Battle of New Orleans\"</th>\n",
       "      <td>Johnny Horton</td>\n",
       "      <td>NaN</td>\n",
       "    </tr>\n",
       "    <tr>\n",
       "      <th>\"Are You Lonesome Tonight?\"</th>\n",
       "      <td>Elvis Presley</td>\n",
       "      <td>NaN</td>\n",
       "    </tr>\n",
       "    <tr>\n",
       "      <th>\"Aquarius/Let the Sunshine In\"</th>\n",
       "      <td>The 5th Dimension</td>\n",
       "      <td>NaN</td>\n",
       "    </tr>\n",
       "    <tr>\n",
       "      <th>\"In the Year 2525\"</th>\n",
       "      <td>Zager and Evans</td>\n",
       "      <td>NaN</td>\n",
       "    </tr>\n",
       "  </tbody>\n",
       "</table>\n",
       "</div>"
      ],
      "text/plain": [
       "                                               Artist  Weeks atnumber one\n",
       "Song                                                                     \n",
       "\"Mack the Knife\"                          Bobby Darin                 9.0\n",
       "\"Theme from A Summer Place\"               Percy Faith                 NaN\n",
       "\"Hey Jude\"                                The Beatles                 NaN\n",
       "\"Tossin' and Turnin'\"                     Bobby Lewis                 7.0\n",
       "\"I Want to Hold Your Hand\"                The Beatles                 NaN\n",
       "\"I'm a Believer\"                          The Monkees                 NaN\n",
       "\"I Heard It Through the Grapevine\"        Marvin Gaye                 NaN\n",
       "\"It's All in the Game\"                  Tommy Edwards                 6.0\n",
       "\"The Battle of New Orleans\"             Johnny Horton                 NaN\n",
       "\"Are You Lonesome Tonight?\"             Elvis Presley                 NaN\n",
       "\"Aquarius/Let the Sunshine In\"      The 5th Dimension                 NaN\n",
       "\"In the Year 2525\"                    Zager and Evans                 NaN"
      ]
     },
     "execution_count": 291,
     "metadata": {},
     "output_type": "execute_result"
    }
   ],
   "source": [
    "# here, checked all tables by hand to decide how to clean.\n",
    "wikitables[24]"
   ]
  },
  {
   "cell_type": "markdown",
   "metadata": {},
   "source": [
    "### Now we start cleaning the data, beginning with collecting all artist names."
   ]
  },
  {
   "cell_type": "code",
   "execution_count": 309,
   "metadata": {
    "ExecuteTime": {
     "end_time": "2019-03-20T19:22:33.249777Z",
     "start_time": "2019-03-20T19:22:33.229621Z"
    }
   },
   "outputs": [
    {
     "name": "stdout",
     "output_type": "stream",
     "text": [
      "df1: 128 names\n"
     ]
    }
   ],
   "source": [
    "# splitting wikitables into smaller dfs for cleaning.\n",
    "\n",
    "# collecting artist names in index column\n",
    "pd1 = pd.concat(wikitables[0:2], axis=0, sort=False)\n",
    "pd2 = pd.concat(wikitables[4:6], axis=0, sort=False)\n",
    "pd3 = pd.concat(wikitables[9:11], axis=0, sort=False)\n",
    "pd4 = pd.concat(wikitables[13:15], axis=0, sort=False)\n",
    "pd5 = pd.concat(wikitables[17:19], axis=0, sort=False)\n",
    "pd6 = pd.concat(wikitables[21:23], axis=0, sort=False)\n",
    "\n",
    "pdx = [pd1, pd2, pd3, pd4, pd5, pd6]\n",
    "pdx = pd.concat(pdx[:], axis=0, sort=False)\n",
    "df1 = pdx.index.values\n",
    "\n",
    "print(\"df1:\", len(df1), \"names\")"
   ]
  },
  {
   "cell_type": "code",
   "execution_count": 312,
   "metadata": {
    "ExecuteTime": {
     "end_time": "2019-03-20T19:24:14.294408Z",
     "start_time": "2019-03-20T19:24:14.129438Z"
    }
   },
   "outputs": [
    {
     "name": "stdout",
     "output_type": "stream",
     "text": [
      "df2: 108 names\n"
     ]
    }
   ],
   "source": [
    "# collecting artist names in col 1\n",
    "\n",
    "pd1 = pd.concat(wikitables[2:4], axis=0, sort=False)\n",
    "pd2 = wikitables[6]\n",
    "pd3 = wikitables[8]\n",
    "pd4 = wikitables[12]\n",
    "pd5 = wikitables[16]\n",
    "pd6 = wikitables[20]\n",
    "pd7 = wikitables[24]\n",
    "pd_why = [pd1, pd2, pd3, pd4, pd5, pd6, pd7]\n",
    "pd_why = pd.concat(pd_why, axis=0, sort=False)\n",
    "df2 = pd_why['Artist'].values\n",
    "\n",
    "print(\"df2:\", len(df2), \"names\")"
   ]
  },
  {
   "cell_type": "code",
   "execution_count": 316,
   "metadata": {
    "ExecuteTime": {
     "end_time": "2019-03-20T19:25:39.518432Z",
     "start_time": "2019-03-20T19:25:39.503565Z"
    }
   },
   "outputs": [
    {
     "name": "stdout",
     "output_type": "stream",
     "text": [
      "df3: 50 names\n"
     ]
    }
   ],
   "source": [
    "pd1 = wikitables[15]\n",
    "pd2 = wikitables[19]\n",
    "pd3 = wikitables[23]\n",
    "pd4 = wikitables[7]\n",
    "pd5 = wikitables[11]\n",
    "pd_zzz = [pd1, pd2, pd3, pd4, pd5]\n",
    "pd_zzz = pd.concat(pd_zzz, axis=0, sort=False)\n",
    "df3 = pd_zzz['Artist'].values\n",
    "\n",
    "print(\"df3:\", len(df3), \"names\")"
   ]
  },
  {
   "cell_type": "markdown",
   "metadata": {},
   "source": [
    "### These artists are our positive dataset (control variable), who are are happy, healthy, and alive. \n",
    "### Now we can begin analyzing lyrics from this pool of artists."
   ]
  },
  {
   "cell_type": "code",
   "execution_count": null,
   "metadata": {},
   "outputs": [],
   "source": []
  }
 ],
 "metadata": {
  "kernelspec": {
   "display_name": "Python 3",
   "language": "python",
   "name": "python3"
  },
  "language_info": {
   "codemirror_mode": {
    "name": "ipython",
    "version": 3
   },
   "file_extension": ".py",
   "mimetype": "text/x-python",
   "name": "python",
   "nbconvert_exporter": "python",
   "pygments_lexer": "ipython3",
   "version": "3.6.6"
  }
 },
 "nbformat": 4,
 "nbformat_minor": 2
}
