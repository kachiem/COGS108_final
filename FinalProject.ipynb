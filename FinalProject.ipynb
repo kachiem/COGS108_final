{
 "cells": [
  {
   "cell_type": "markdown",
   "metadata": {},
   "source": [
    "# COGS 108 - Final Project"
   ]
  },
  {
   "cell_type": "markdown",
   "metadata": {},
   "source": [
    "## Important\n",
    "\n",
    "- ONE, and only one, member of your group should upload this notebook to TritonED. \n",
    "- Each member of the group will receive the same grade on this assignment. \n",
    "- Keep the file name the same: submit the file 'FinalProject.ipynb'.\n",
    "- Only upload the .ipynb file to TED, do not upload any associted data. Make sure that for cells in which you want graders to see output that these cells have been executed."
   ]
  },
  {
   "cell_type": "markdown",
   "metadata": {},
   "source": [
    "## Group Members: Fill in the Student IDs of each group member here\n",
    "\n",
    "Replace the lines below to list each persons full student ID, ucsd email and full name.\n",
    "\n",
    "- A91063209 (Zongchen) \n",
    "- A92060274 (Karen)\n",
    "- A14443387 (Brandon) \n",
    "- U07313790 (Nareg)\n",
    "- A12933386 (Justin)\n",
    "- A13779898 (Sida Qin)\n"
   ]
  },
  {
   "cell_type": "markdown",
   "metadata": {},
   "source": [
    "Start your project here."
   ]
  },
  {
   "cell_type": "markdown",
   "metadata": {},
   "source": [
    "## Introduction and Background\n"
   ]
  },
  {
   "cell_type": "markdown",
   "metadata": {},
   "source": [
    "## Data Description"
   ]
  },
  {
   "cell_type": "markdown",
   "metadata": {},
   "source": [
    "### The following sites will be scrapped for the aritist names\n",
    "- Control dataset - notable/popular musicians who are alive and happy\n",
    "    Billboard Hot 100 Artists\n",
    "    https://en.wikipedia.org/wiki/List_of_Billboard_Hot_100_chart_achievements_by_decade \n",
    "- Dependent dataset - notable/popular musicians who have passed as a result of self-inflicted harm, mental health deterioration, and other issues \n",
    "    List of deaths of pop musicians by drug overdose\n",
    "    https://en.wikipedia.org/wiki/List_of_pop_musicians_who_died_of_drug_overdose\n",
    "- Musicians that have battled drug addiction\n",
    "    https://drugabuse.com/30-famous-musicians-who-have-battled-drug-addiction-and-alcoholism/ \n",
    "    \n",
    "There are about 150 artists in the dependent dataset and 50 artist in the control. Since our focus is the words of the artists, we can keep the number of artists small.\n",
    "\n",
    "### Lyrics data set\n",
    "- Data set of many songs and their lyrics. This data set has been downloaded locally with the notebook, since it is in a nice csv file, we will simply call pandas.read_csv( ) to convert it into a dataframe. To see its contact, refer to the data gathering section. It has three columns: Band (which is the artist name), Lyrics (lyrics of the song), and Song(Song name). There are about 500,000 rows.\n",
    "    https://www.kaggle.com/artimous/every-song-you-have-heard-almost#Lyrics1.csv"
   ]
  },
  {
   "cell_type": "markdown",
   "metadata": {},
   "source": [
    "## Data Cleaning and Preprocessing\n",
    "\n",
    "We will scraped the several sites to get the artist names we are interested in. Then, we will find thoes artists inside the lyrics data set, extract all their songs. We will combine the song lyrics for each artist into one data frame that we can work with."
   ]
  },
  {
   "cell_type": "markdown",
   "metadata": {},
   "source": [
    "### Libraries used :"
   ]
  },
  {
   "cell_type": "code",
   "execution_count": 59,
   "metadata": {
    "ExecuteTime": {
     "end_time": "2019-03-21T16:21:21.390641Z",
     "start_time": "2019-03-21T16:21:19.750859Z"
    }
   },
   "outputs": [
    {
     "name": "stderr",
     "output_type": "stream",
     "text": [
      "[nltk_data] Downloading package punkt to\n",
      "[nltk_data]     C:\\Users\\jjk10\\AppData\\Roaming\\nltk_data...\n",
      "[nltk_data]   Package punkt is already up-to-date!\n",
      "[nltk_data] Downloading package stopwords to\n",
      "[nltk_data]     C:\\Users\\jjk10\\AppData\\Roaming\\nltk_data...\n",
      "[nltk_data]   Package stopwords is already up-to-date!\n",
      "[nltk_data] Downloading package vader_lexicon to\n",
      "[nltk_data]     C:\\Users\\jjk10\\AppData\\Roaming\\nltk_data...\n",
      "[nltk_data]   Package vader_lexicon is already up-to-date!\n"
     ]
    },
    {
     "data": {
      "text/plain": [
       "True"
      ]
     },
     "execution_count": 59,
     "metadata": {},
     "output_type": "execute_result"
    }
   ],
   "source": [
    "import requests\n",
    "import urllib.request\n",
    "import pandas as pd\n",
    "from pandas.io.html import read_html\n",
    "import bs4\n",
    "from bs4 import BeautifulSoup\n",
    "import numpy as np\n",
    "import matplotlib.pyplot as plt\n",
    "\n",
    "import re\n",
    "import lxml\n",
    "\n",
    "import nltk\n",
    "from nltk.tokenize import word_tokenize\n",
    "from nltk.corpus import stopwords\n",
    "from nltk.sentiment.vader import SentimentIntensityAnalyzer\n",
    "\n",
    "nltk.download('punkt')\n",
    "nltk.download('stopwords')\n",
    "nltk.download('vader_lexicon')"
   ]
  },
  {
   "cell_type": "markdown",
   "metadata": {},
   "source": [
    "### I. Gathering data using BeautifulSoup pt. I - dependent set/troubled artists"
   ]
  },
  {
   "cell_type": "markdown",
   "metadata": {},
   "source": [
    "Using a set \"names\", we keep appending unique names we find in the websites"
   ]
  },
  {
   "cell_type": "markdown",
   "metadata": {},
   "source": [
    "The first website, it is a wikipedia page,and the data are in tables. The for-loop loops through each row and fetch the artist name."
   ]
  },
  {
   "cell_type": "code",
   "execution_count": 60,
   "metadata": {
    "ExecuteTime": {
     "end_time": "2019-03-21T20:29:00.541986Z",
     "start_time": "2019-03-21T20:29:00.112027Z"
    }
   },
   "outputs": [],
   "source": [
    "wiki = \"https://en.wikipedia.org/wiki/List_of_pop_musicians_who_died_of_drug_overdose\"\n",
    "page = requests.get(wiki)\n",
    "soup = BeautifulSoup(page.content,'html.parser')\n",
    "names = set()\n",
    "tables = soup.findAll(name='table', class_='wikitable sortable')\n",
    "\n",
    "\n",
    "for table in tables:\n",
    "    body = table.findChild(\"tbody\" , recursive=False)\n",
    "    for row in body.findAll('tr'):\n",
    "        cells = row.findAll('a')\n",
    "        if(len(cells) == 0) :continue\n",
    "        names.add(cells[0].text.strip())"
   ]
  },
  {
   "cell_type": "markdown",
   "metadata": {},
   "source": [
    "The second website, all the artist names are in h2 tags, so we loop through all h2 tags and extrach artist names"
   ]
  },
  {
   "cell_type": "code",
   "execution_count": 61,
   "metadata": {
    "ExecuteTime": {
     "end_time": "2019-03-21T20:29:02.454895Z",
     "start_time": "2019-03-21T20:29:01.964181Z"
    }
   },
   "outputs": [],
   "source": [
    "page = requests.get(\"https://drugabuse.com/30-famous-musicians-who-have-battled-drug-addiction-and-alcoholism/\")\n",
    "soup = BeautifulSoup(page.content,'html.parser')\n",
    "for entry in soup.findAll(\"h2\"):\n",
    "    try:\n",
    "        names.add(entry.text.split(\".\",1)[1].strip())\n",
    "    except:\n",
    "        break"
   ]
  },
  {
   "cell_type": "markdown",
   "metadata": {},
   "source": [
    "### II. Gathering data using BeautifulSoup pt. II - independent set/healthy artists"
   ]
  },
  {
   "cell_type": "markdown",
   "metadata": {},
   "source": [
    "We also want to gather data on artists who not part of our initial sample - healthy artists who will serve as a control condition in our experiment.\n",
    "\n",
    "We begin by scraping data on Billboard 100 artists who are still alive, happy, and healthy."
   ]
  },
  {
   "cell_type": "code",
   "execution_count": 62,
   "metadata": {
    "ExecuteTime": {
     "end_time": "2019-03-21T22:25:36.715750Z",
     "start_time": "2019-03-21T22:25:34.963490Z"
    }
   },
   "outputs": [
    {
     "name": "stdout",
     "output_type": "stream",
     "text": [
      "Extracted 25 wikitables\n"
     ]
    }
   ],
   "source": [
    "billboard = \"https://en.wikipedia.org/wiki/List_of_Billboard_Hot_100_chart_achievements_by_decade\"\n",
    "wikitables = read_html(billboard, flavor='bs4', index_col=0, header=0, attrs={\"class\":\"wikitable\"})\n",
    "\n",
    "print(\"Extracted {num} wikitables\".format(num=len(wikitables)))"
   ]
  },
  {
   "cell_type": "markdown",
   "metadata": {},
   "source": [
    "After checking all 25 tables by hand, we sort the tables into 3 dataframes for cleaning."
   ]
  },
  {
   "cell_type": "code",
   "execution_count": 63,
   "metadata": {
    "ExecuteTime": {
     "end_time": "2019-03-21T22:25:51.107347Z",
     "start_time": "2019-03-21T22:25:50.779295Z"
    }
   },
   "outputs": [
    {
     "name": "stdout",
     "output_type": "stream",
     "text": [
      "df1: 128 names\n",
      "df2: 108 names\n",
      "df3: 50 names\n"
     ]
    }
   ],
   "source": [
    "# splitting wikitables into smaller dfs for cleaning.\n",
    "\n",
    "# collecting artist names in index column\n",
    "pd1 = pd.concat(wikitables[0:2], axis=0, sort=False)\n",
    "pd2 = pd.concat(wikitables[4:6], axis=0, sort=False)\n",
    "pd3 = pd.concat(wikitables[9:11], axis=0, sort=False)\n",
    "pd4 = pd.concat(wikitables[13:15], axis=0, sort=False)\n",
    "pd5 = pd.concat(wikitables[17:19], axis=0, sort=False)\n",
    "pd6 = pd.concat(wikitables[21:23], axis=0, sort=False)\n",
    "\n",
    "pdx = [pd1, pd2, pd3, pd4, pd5, pd6]\n",
    "pdx = pd.concat(pdx[:], axis=0, sort=False)\n",
    "df1 = pdx.index.values\n",
    "\n",
    "\n",
    "pd11 = pd.concat(wikitables[2:4], axis=0, sort=False)\n",
    "pd22 = wikitables[6]\n",
    "pd33 = wikitables[8]\n",
    "pd44 = wikitables[12]\n",
    "pd55 = wikitables[16]\n",
    "pd66 = wikitables[20]\n",
    "pd77 = wikitables[24]\n",
    "\n",
    "pd_why = [pd11, pd22, pd33, pd44, pd55, pd66, pd77]\n",
    "pd_why = pd.concat(pd_why, axis=0, sort=False)\n",
    "df2 = pd_why['Artist'].values\n",
    "\n",
    "pd15 = wikitables[15]\n",
    "pd24 = wikitables[19]\n",
    "pd333 = wikitables[23]\n",
    "pd42 = wikitables[7]\n",
    "pd51 = wikitables[11]\n",
    "\n",
    "pd_zzz = [pd15, pd24, pd333, pd42, pd51]\n",
    "pd_zzz = pd.concat(pd_zzz, axis=0, sort=False)\n",
    "df3 = pd_zzz['Artist'].values\n",
    "\n",
    "print(\"df1:\", len(df1), \"names\")\n",
    "print(\"df2:\", len(df2), \"names\")\n",
    "print(\"df3:\", len(df3), \"names\")"
   ]
  },
  {
   "cell_type": "code",
   "execution_count": 64,
   "metadata": {
    "ExecuteTime": {
     "end_time": "2019-03-21T23:00:04.096888Z",
     "start_time": "2019-03-21T23:00:04.061839Z"
    }
   },
   "outputs": [
    {
     "name": "stdout",
     "output_type": "stream",
     "text": [
      "144 artists\n"
     ]
    }
   ],
   "source": [
    "df = np.array([])\n",
    "df = np.concatenate((df1, df2, df3))\n",
    "pos_names = pd.DataFrame(data=df, columns=['Artists'])\n",
    "pos_names = pos_names['Artists'].unique()\n",
    "\n",
    "print(len(pos_names), \"artists\")"
   ]
  },
  {
   "cell_type": "markdown",
   "metadata": {},
   "source": [
    "We remove rows with \"and\" or \"featuring.\""
   ]
  },
  {
   "cell_type": "code",
   "execution_count": 65,
   "metadata": {
    "ExecuteTime": {
     "end_time": "2019-03-21T23:00:10.557650Z",
     "start_time": "2019-03-21T23:00:10.520970Z"
    }
   },
   "outputs": [
    {
     "name": "stdout",
     "output_type": "stream",
     "text": [
      "144 artists\n"
     ]
    }
   ],
   "source": [
    "stop_words = [\"and\", \"featuring\"]\n",
    "pos_names = pd.DataFrame(data=pos_names, columns=['Artists'])\n",
    "pos_names = pos_names['Artists'].apply(lambda x: ''.join([word for word in x if word not in stop_words]))\n",
    "\n",
    "print(len(pos_names), \"artists\")"
   ]
  },
  {
   "cell_type": "markdown",
   "metadata": {},
   "source": [
    "We subtract names from pnames that also show up in our dependent set to avoid overlapping data. "
   ]
  },
  {
   "cell_type": "code",
   "execution_count": 66,
   "metadata": {
    "ExecuteTime": {
     "end_time": "2019-03-21T23:00:22.074251Z",
     "start_time": "2019-03-21T23:00:22.052150Z"
    }
   },
   "outputs": [
    {
     "name": "stdout",
     "output_type": "stream",
     "text": [
      "139 artists\n"
     ]
    }
   ],
   "source": [
    "pnames = set(pos_names)\n",
    "pnames = list(pnames - names)\n",
    "\n",
    "print(len(pnames), \"artists\")"
   ]
  },
  {
   "cell_type": "markdown",
   "metadata": {},
   "source": [
    "### III. Importing lyrics using names\n"
   ]
  },
  {
   "cell_type": "markdown",
   "metadata": {},
   "source": [
    "We load csv files into a nice dataframe. Head is printed to show the structure. There are two such csv files: lyrics1.csv and lyrics2.csv. They are just the dataset split into two files. We will work with each of them at a time, and merge the results into 1."
   ]
  },
  {
   "cell_type": "code",
   "execution_count": 67,
   "metadata": {
    "ExecuteTime": {
     "end_time": "2019-03-21T23:07:03.200340Z",
     "start_time": "2019-03-21T23:06:59.260093Z"
    }
   },
   "outputs": [
    {
     "name": "stdout",
     "output_type": "stream",
     "text": [
      "250000\n"
     ]
    },
    {
     "data": {
      "text/html": [
       "<div>\n",
       "<style scoped>\n",
       "    .dataframe tbody tr th:only-of-type {\n",
       "        vertical-align: middle;\n",
       "    }\n",
       "\n",
       "    .dataframe tbody tr th {\n",
       "        vertical-align: top;\n",
       "    }\n",
       "\n",
       "    .dataframe thead th {\n",
       "        text-align: right;\n",
       "    }\n",
       "</style>\n",
       "<table border=\"1\" class=\"dataframe\">\n",
       "  <thead>\n",
       "    <tr style=\"text-align: right;\">\n",
       "      <th></th>\n",
       "      <th>Band</th>\n",
       "      <th>Lyrics</th>\n",
       "      <th>Song</th>\n",
       "    </tr>\n",
       "  </thead>\n",
       "  <tbody>\n",
       "    <tr>\n",
       "      <th>0</th>\n",
       "      <td>Elijah Blake</td>\n",
       "      <td>No, no\\r\\nI ain't ever trapped out the bando\\r...</td>\n",
       "      <td>Everyday</td>\n",
       "    </tr>\n",
       "    <tr>\n",
       "      <th>1</th>\n",
       "      <td>Elijah Blake</td>\n",
       "      <td>The drinks go down and smoke goes up, I feel m...</td>\n",
       "      <td>Live Till We Die</td>\n",
       "    </tr>\n",
       "    <tr>\n",
       "      <th>2</th>\n",
       "      <td>Elijah Blake</td>\n",
       "      <td>She don't live on planet Earth no more\\r\\nShe ...</td>\n",
       "      <td>The Otherside</td>\n",
       "    </tr>\n",
       "    <tr>\n",
       "      <th>3</th>\n",
       "      <td>Elijah Blake</td>\n",
       "      <td>Trippin' off that Grigio, mobbin', lights low\\...</td>\n",
       "      <td>Pinot</td>\n",
       "    </tr>\n",
       "    <tr>\n",
       "      <th>4</th>\n",
       "      <td>Elijah Blake</td>\n",
       "      <td>I see a midnight panther, so gallant and so br...</td>\n",
       "      <td>Shadows &amp; Diamonds</td>\n",
       "    </tr>\n",
       "  </tbody>\n",
       "</table>\n",
       "</div>"
      ],
      "text/plain": [
       "           Band                                             Lyrics  \\\n",
       "0  Elijah Blake  No, no\\r\\nI ain't ever trapped out the bando\\r...   \n",
       "1  Elijah Blake  The drinks go down and smoke goes up, I feel m...   \n",
       "2  Elijah Blake  She don't live on planet Earth no more\\r\\nShe ...   \n",
       "3  Elijah Blake  Trippin' off that Grigio, mobbin', lights low\\...   \n",
       "4  Elijah Blake  I see a midnight panther, so gallant and so br...   \n",
       "\n",
       "                 Song  \n",
       "0            Everyday  \n",
       "1    Live Till We Die  \n",
       "2       The Otherside  \n",
       "3               Pinot  \n",
       "4  Shadows & Diamonds  "
      ]
     },
     "execution_count": 67,
     "metadata": {},
     "output_type": "execute_result"
    }
   ],
   "source": [
    "songsTable1 = pd.read_csv(\"lyrics/lyrics1.csv\")\n",
    "print(len(songsTable1))\n",
    "songsTable1.head()"
   ]
  },
  {
   "cell_type": "code",
   "execution_count": 68,
   "metadata": {
    "ExecuteTime": {
     "end_time": "2019-03-21T23:07:10.829346Z",
     "start_time": "2019-03-21T23:07:03.204244Z"
    }
   },
   "outputs": [
    {
     "name": "stdout",
     "output_type": "stream",
     "text": [
      "266174\n"
     ]
    },
    {
     "data": {
      "text/html": [
       "<div>\n",
       "<style scoped>\n",
       "    .dataframe tbody tr th:only-of-type {\n",
       "        vertical-align: middle;\n",
       "    }\n",
       "\n",
       "    .dataframe tbody tr th {\n",
       "        vertical-align: top;\n",
       "    }\n",
       "\n",
       "    .dataframe thead th {\n",
       "        text-align: right;\n",
       "    }\n",
       "</style>\n",
       "<table border=\"1\" class=\"dataframe\">\n",
       "  <thead>\n",
       "    <tr style=\"text-align: right;\">\n",
       "      <th></th>\n",
       "      <th>Band</th>\n",
       "      <th>Lyrics</th>\n",
       "      <th>Song</th>\n",
       "    </tr>\n",
       "  </thead>\n",
       "  <tbody>\n",
       "    <tr>\n",
       "      <th>0</th>\n",
       "      <td>Adam Gregory</td>\n",
       "      <td>I was born in the country\\r\\nFar away from cit...</td>\n",
       "      <td>In the Country</td>\n",
       "    </tr>\n",
       "    <tr>\n",
       "      <th>1</th>\n",
       "      <td>Adam Gregory</td>\n",
       "      <td>Do you feel your heart beating a million miles...</td>\n",
       "      <td>Me Too</td>\n",
       "    </tr>\n",
       "    <tr>\n",
       "      <th>2</th>\n",
       "      <td>Adam Gregory</td>\n",
       "      <td>There are moments in your life \\r\\nThat are fr...</td>\n",
       "      <td>Memory Like That</td>\n",
       "    </tr>\n",
       "    <tr>\n",
       "      <th>3</th>\n",
       "      <td>Adam Gregory</td>\n",
       "      <td>There's a town by a river\\r\\nAnd a dirt road t...</td>\n",
       "      <td>Sweet Memories</td>\n",
       "    </tr>\n",
       "    <tr>\n",
       "      <th>4</th>\n",
       "      <td>Adam Gregory</td>\n",
       "      <td>I go walkin' down a long road tonight\\r\\nI go ...</td>\n",
       "      <td>Walkin'</td>\n",
       "    </tr>\n",
       "  </tbody>\n",
       "</table>\n",
       "</div>"
      ],
      "text/plain": [
       "           Band                                             Lyrics  \\\n",
       "0  Adam Gregory  I was born in the country\\r\\nFar away from cit...   \n",
       "1  Adam Gregory  Do you feel your heart beating a million miles...   \n",
       "2  Adam Gregory  There are moments in your life \\r\\nThat are fr...   \n",
       "3  Adam Gregory  There's a town by a river\\r\\nAnd a dirt road t...   \n",
       "4  Adam Gregory  I go walkin' down a long road tonight\\r\\nI go ...   \n",
       "\n",
       "               Song  \n",
       "0    In the Country  \n",
       "1            Me Too  \n",
       "2  Memory Like That  \n",
       "3    Sweet Memories  \n",
       "4           Walkin'  "
      ]
     },
     "execution_count": 68,
     "metadata": {},
     "output_type": "execute_result"
    }
   ],
   "source": [
    "songsTable2 = pd.read_csv(\"lyrics/lyrics2.csv\")\n",
    "print(len(songsTable2))\n",
    "songsTable2.head()"
   ]
  },
  {
   "cell_type": "markdown",
   "metadata": {},
   "source": [
    "We will extract from the above dataframe only rows with artists in the \"names\" array we created\n"
   ]
  },
  {
   "cell_type": "code",
   "execution_count": 69,
   "metadata": {
    "ExecuteTime": {
     "end_time": "2019-03-21T23:07:11.107064Z",
     "start_time": "2019-03-21T23:07:10.866429Z"
    }
   },
   "outputs": [
    {
     "name": "stderr",
     "output_type": "stream",
     "text": [
      "C:\\Users\\jjk10\\Anaconda3\\lib\\site-packages\\ipykernel_launcher.py:2: SettingWithCopyWarning: \n",
      "A value is trying to be set on a copy of a slice from a DataFrame\n",
      "\n",
      "See the caveats in the documentation: http://pandas.pydata.org/pandas-docs/stable/indexing.html#indexing-view-versus-copy\n",
      "  \n"
     ]
    },
    {
     "data": {
      "text/html": [
       "<div>\n",
       "<style scoped>\n",
       "    .dataframe tbody tr th:only-of-type {\n",
       "        vertical-align: middle;\n",
       "    }\n",
       "\n",
       "    .dataframe tbody tr th {\n",
       "        vertical-align: top;\n",
       "    }\n",
       "\n",
       "    .dataframe thead th {\n",
       "        text-align: right;\n",
       "    }\n",
       "</style>\n",
       "<table border=\"1\" class=\"dataframe\">\n",
       "  <thead>\n",
       "    <tr style=\"text-align: right;\">\n",
       "      <th></th>\n",
       "      <th>Band</th>\n",
       "      <th>Lyrics</th>\n",
       "      <th>Song</th>\n",
       "    </tr>\n",
       "  </thead>\n",
       "  <tbody>\n",
       "    <tr>\n",
       "      <th>0</th>\n",
       "      <td>Amy Winehouse</td>\n",
       "      <td>All I can ever be to you,\\r\\nIs a darkness tha...</td>\n",
       "      <td>Tears Dry [Original Version]</td>\n",
       "    </tr>\n",
       "    <tr>\n",
       "      <th>1</th>\n",
       "      <td>Amy Winehouse</td>\n",
       "      <td>Build your dreams to the stars above\\r\\nBut wh...</td>\n",
       "      <td>Don't Go To Strangers [Multimedia Track]</td>\n",
       "    </tr>\n",
       "    <tr>\n",
       "      <th>2</th>\n",
       "      <td>Amy Winehouse</td>\n",
       "      <td>I can't wait to get away from you\\r\\nUnsurpris...</td>\n",
       "      <td>Best Friends, Right?</td>\n",
       "    </tr>\n",
       "    <tr>\n",
       "      <th>3</th>\n",
       "      <td>Amy Winehouse</td>\n",
       "      <td>I can't wait to get away from you\\r\\nUnsurpris...</td>\n",
       "      <td>Best Friends, Right? [Leicester Summer Sundae ...</td>\n",
       "    </tr>\n",
       "    <tr>\n",
       "      <th>4</th>\n",
       "      <td>Amy Winehouse</td>\n",
       "      <td>I would die before I divorce you\\r\\nI'd take a...</td>\n",
       "      <td>Between the Cheats</td>\n",
       "    </tr>\n",
       "  </tbody>\n",
       "</table>\n",
       "</div>"
      ],
      "text/plain": [
       "            Band                                             Lyrics  \\\n",
       "0  Amy Winehouse  All I can ever be to you,\\r\\nIs a darkness tha...   \n",
       "1  Amy Winehouse  Build your dreams to the stars above\\r\\nBut wh...   \n",
       "2  Amy Winehouse  I can't wait to get away from you\\r\\nUnsurpris...   \n",
       "3  Amy Winehouse  I can't wait to get away from you\\r\\nUnsurpris...   \n",
       "4  Amy Winehouse  I would die before I divorce you\\r\\nI'd take a...   \n",
       "\n",
       "                                                Song  \n",
       "0                       Tears Dry [Original Version]  \n",
       "1           Don't Go To Strangers [Multimedia Track]  \n",
       "2                               Best Friends, Right?  \n",
       "3  Best Friends, Right? [Leicester Summer Sundae ...  \n",
       "4                                 Between the Cheats  "
      ]
     },
     "execution_count": 69,
     "metadata": {},
     "output_type": "execute_result"
    }
   ],
   "source": [
    "lyrics1 = songsTable1[songsTable1['Band'].isin(names)]\n",
    "lyrics1.sort_values(by=[\"Band\",'Lyrics','Song'],inplace=True)\n",
    "lyrics1.reset_index(drop=True,inplace=True)\n",
    "lyrics1.head()"
   ]
  },
  {
   "cell_type": "markdown",
   "metadata": {},
   "source": [
    "Repeating the same for the second part of our lyrics data\n"
   ]
  },
  {
   "cell_type": "code",
   "execution_count": 70,
   "metadata": {
    "ExecuteTime": {
     "end_time": "2019-03-21T23:07:11.238586Z",
     "start_time": "2019-03-21T23:07:11.113192Z"
    }
   },
   "outputs": [
    {
     "name": "stderr",
     "output_type": "stream",
     "text": [
      "C:\\Users\\jjk10\\Anaconda3\\lib\\site-packages\\ipykernel_launcher.py:2: SettingWithCopyWarning: \n",
      "A value is trying to be set on a copy of a slice from a DataFrame\n",
      "\n",
      "See the caveats in the documentation: http://pandas.pydata.org/pandas-docs/stable/indexing.html#indexing-view-versus-copy\n",
      "  \n"
     ]
    }
   ],
   "source": [
    "lyrics2 = songsTable2[songsTable2['Band'].isin(names)]\n",
    "lyrics2.sort_values(by=[\"Band\",'Lyrics','Song'],inplace=True)\n",
    "lyrics2 = lyrics2.reset_index(drop=True)"
   ]
  },
  {
   "cell_type": "markdown",
   "metadata": {},
   "source": [
    "Finally, we concatenate the two dataframes we've created into a big dataframes that contrains all the artists and their song lyrics we need."
   ]
  },
  {
   "cell_type": "code",
   "execution_count": 71,
   "metadata": {
    "ExecuteTime": {
     "end_time": "2019-03-21T23:17:42.348951Z",
     "start_time": "2019-03-21T23:17:42.212504Z"
    }
   },
   "outputs": [
    {
     "name": "stdout",
     "output_type": "stream",
     "text": [
      "6709 songs\n"
     ]
    },
    {
     "data": {
      "text/html": [
       "<div>\n",
       "<style scoped>\n",
       "    .dataframe tbody tr th:only-of-type {\n",
       "        vertical-align: middle;\n",
       "    }\n",
       "\n",
       "    .dataframe tbody tr th {\n",
       "        vertical-align: top;\n",
       "    }\n",
       "\n",
       "    .dataframe thead th {\n",
       "        text-align: right;\n",
       "    }\n",
       "</style>\n",
       "<table border=\"1\" class=\"dataframe\">\n",
       "  <thead>\n",
       "    <tr style=\"text-align: right;\">\n",
       "      <th></th>\n",
       "      <th>Band</th>\n",
       "      <th>Lyrics</th>\n",
       "      <th>Song</th>\n",
       "    </tr>\n",
       "  </thead>\n",
       "  <tbody>\n",
       "    <tr>\n",
       "      <th>0</th>\n",
       "      <td>Amy Winehouse</td>\n",
       "      <td>All I can ever be to you,\\r\\nIs a darkness tha...</td>\n",
       "      <td>Tears Dry [Original Version]</td>\n",
       "    </tr>\n",
       "    <tr>\n",
       "      <th>1</th>\n",
       "      <td>Amy Winehouse</td>\n",
       "      <td>Build your dreams to the stars above\\r\\nBut wh...</td>\n",
       "      <td>Don't Go To Strangers [Multimedia Track]</td>\n",
       "    </tr>\n",
       "    <tr>\n",
       "      <th>2</th>\n",
       "      <td>Amy Winehouse</td>\n",
       "      <td>I can't wait to get away from you\\r\\nUnsurpris...</td>\n",
       "      <td>Best Friends, Right?</td>\n",
       "    </tr>\n",
       "    <tr>\n",
       "      <th>3</th>\n",
       "      <td>Amy Winehouse</td>\n",
       "      <td>I can't wait to get away from you\\r\\nUnsurpris...</td>\n",
       "      <td>Best Friends, Right? [Leicester Summer Sundae ...</td>\n",
       "    </tr>\n",
       "    <tr>\n",
       "      <th>4</th>\n",
       "      <td>Amy Winehouse</td>\n",
       "      <td>I would die before I divorce you\\r\\nI'd take a...</td>\n",
       "      <td>Between the Cheats</td>\n",
       "    </tr>\n",
       "  </tbody>\n",
       "</table>\n",
       "</div>"
      ],
      "text/plain": [
       "            Band                                             Lyrics  \\\n",
       "0  Amy Winehouse  All I can ever be to you,\\r\\nIs a darkness tha...   \n",
       "1  Amy Winehouse  Build your dreams to the stars above\\r\\nBut wh...   \n",
       "2  Amy Winehouse  I can't wait to get away from you\\r\\nUnsurpris...   \n",
       "3  Amy Winehouse  I can't wait to get away from you\\r\\nUnsurpris...   \n",
       "4  Amy Winehouse  I would die before I divorce you\\r\\nI'd take a...   \n",
       "\n",
       "                                                Song  \n",
       "0                       Tears Dry [Original Version]  \n",
       "1           Don't Go To Strangers [Multimedia Track]  \n",
       "2                               Best Friends, Right?  \n",
       "3  Best Friends, Right? [Leicester Summer Sundae ...  \n",
       "4                                 Between the Cheats  "
      ]
     },
     "execution_count": 71,
     "metadata": {},
     "output_type": "execute_result"
    }
   ],
   "source": [
    "finalLyrics = pd.concat([lyrics1,lyrics2])\n",
    "print(len(finalLyrics), \"songs\")\n",
    "finalLyrics.head()"
   ]
  },
  {
   "cell_type": "markdown",
   "metadata": {},
   "source": [
    "### IV. Importing lyrics - using pnames"
   ]
  },
  {
   "cell_type": "markdown",
   "metadata": {},
   "source": [
    "We repeat the process on the independent/healthy artist set."
   ]
  },
  {
   "cell_type": "code",
   "execution_count": 72,
   "metadata": {
    "ExecuteTime": {
     "end_time": "2019-03-21T23:07:20.869462Z",
     "start_time": "2019-03-21T23:07:20.647519Z"
    }
   },
   "outputs": [
    {
     "name": "stderr",
     "output_type": "stream",
     "text": [
      "C:\\Users\\jjk10\\Anaconda3\\lib\\site-packages\\ipykernel_launcher.py:2: SettingWithCopyWarning: \n",
      "A value is trying to be set on a copy of a slice from a DataFrame\n",
      "\n",
      "See the caveats in the documentation: http://pandas.pydata.org/pandas-docs/stable/indexing.html#indexing-view-versus-copy\n",
      "  \n"
     ]
    },
    {
     "data": {
      "text/html": [
       "<div>\n",
       "<style scoped>\n",
       "    .dataframe tbody tr th:only-of-type {\n",
       "        vertical-align: middle;\n",
       "    }\n",
       "\n",
       "    .dataframe tbody tr th {\n",
       "        vertical-align: top;\n",
       "    }\n",
       "\n",
       "    .dataframe thead th {\n",
       "        text-align: right;\n",
       "    }\n",
       "</style>\n",
       "<table border=\"1\" class=\"dataframe\">\n",
       "  <thead>\n",
       "    <tr style=\"text-align: right;\">\n",
       "      <th></th>\n",
       "      <th>Band</th>\n",
       "      <th>Lyrics</th>\n",
       "      <th>Song</th>\n",
       "    </tr>\n",
       "  </thead>\n",
       "  <tbody>\n",
       "    <tr>\n",
       "      <th>0</th>\n",
       "      <td>Alicia Keys</td>\n",
       "      <td>(Alicia) Yea...c'mon \\r\\n(Bimbo) aha \\r\\n\\r\\nO...</td>\n",
       "      <td>Karma [Raggaeton Mix]</td>\n",
       "    </tr>\n",
       "    <tr>\n",
       "      <th>1</th>\n",
       "      <td>Alicia Keys</td>\n",
       "      <td>And it feels so good\\r\\nDon't you feel so good...</td>\n",
       "      <td>When It's All Over</td>\n",
       "    </tr>\n",
       "    <tr>\n",
       "      <th>2</th>\n",
       "      <td>Alicia Keys</td>\n",
       "      <td>And the day came\\r\\nWhen the risk it took to r...</td>\n",
       "      <td>The Element of Freedom [Intro]</td>\n",
       "    </tr>\n",
       "    <tr>\n",
       "      <th>3</th>\n",
       "      <td>Alicia Keys</td>\n",
       "      <td>And the day came \\r\\nWhen the risk it took \\r\\...</td>\n",
       "      <td>The Element of Freedom (Intro)</td>\n",
       "    </tr>\n",
       "    <tr>\n",
       "      <th>4</th>\n",
       "      <td>Alicia Keys</td>\n",
       "      <td>Ay yo B, What up A?\\nWhat we want? Want them t...</td>\n",
       "      <td>Put It in a Love Song</td>\n",
       "    </tr>\n",
       "  </tbody>\n",
       "</table>\n",
       "</div>"
      ],
      "text/plain": [
       "          Band                                             Lyrics  \\\n",
       "0  Alicia Keys  (Alicia) Yea...c'mon \\r\\n(Bimbo) aha \\r\\n\\r\\nO...   \n",
       "1  Alicia Keys  And it feels so good\\r\\nDon't you feel so good...   \n",
       "2  Alicia Keys  And the day came\\r\\nWhen the risk it took to r...   \n",
       "3  Alicia Keys  And the day came \\r\\nWhen the risk it took \\r\\...   \n",
       "4  Alicia Keys  Ay yo B, What up A?\\nWhat we want? Want them t...   \n",
       "\n",
       "                             Song  \n",
       "0           Karma [Raggaeton Mix]  \n",
       "1              When It's All Over  \n",
       "2  The Element of Freedom [Intro]  \n",
       "3  The Element of Freedom (Intro)  \n",
       "4           Put It in a Love Song  "
      ]
     },
     "execution_count": 72,
     "metadata": {},
     "output_type": "execute_result"
    }
   ],
   "source": [
    "plyrics1 = songsTable1[songsTable1['Band'].isin(pnames)]\n",
    "plyrics1.sort_values(by=[\"Band\",'Lyrics','Song'],inplace=True)\n",
    "plyrics1.reset_index(drop=True,inplace=True)\n",
    "plyrics1.head()"
   ]
  },
  {
   "cell_type": "code",
   "execution_count": 73,
   "metadata": {
    "ExecuteTime": {
     "end_time": "2019-03-21T23:07:21.905495Z",
     "start_time": "2019-03-21T23:07:21.590499Z"
    }
   },
   "outputs": [
    {
     "name": "stderr",
     "output_type": "stream",
     "text": [
      "C:\\Users\\jjk10\\Anaconda3\\lib\\site-packages\\ipykernel_launcher.py:2: SettingWithCopyWarning: \n",
      "A value is trying to be set on a copy of a slice from a DataFrame\n",
      "\n",
      "See the caveats in the documentation: http://pandas.pydata.org/pandas-docs/stable/indexing.html#indexing-view-versus-copy\n",
      "  \n"
     ]
    }
   ],
   "source": [
    "plyrics2 = songsTable2[songsTable2['Band'].isin(pnames)]\n",
    "plyrics2.sort_values(by=[\"Band\",'Lyrics','Song'],inplace=True)\n",
    "plyrics2 = plyrics2.reset_index(drop=True)"
   ]
  },
  {
   "cell_type": "code",
   "execution_count": 74,
   "metadata": {
    "ExecuteTime": {
     "end_time": "2019-03-21T23:42:23.486980Z",
     "start_time": "2019-03-21T23:42:23.366936Z"
    }
   },
   "outputs": [
    {
     "name": "stdout",
     "output_type": "stream",
     "text": [
      "16745 songs\n"
     ]
    },
    {
     "data": {
      "text/html": [
       "<div>\n",
       "<style scoped>\n",
       "    .dataframe tbody tr th:only-of-type {\n",
       "        vertical-align: middle;\n",
       "    }\n",
       "\n",
       "    .dataframe tbody tr th {\n",
       "        vertical-align: top;\n",
       "    }\n",
       "\n",
       "    .dataframe thead th {\n",
       "        text-align: right;\n",
       "    }\n",
       "</style>\n",
       "<table border=\"1\" class=\"dataframe\">\n",
       "  <thead>\n",
       "    <tr style=\"text-align: right;\">\n",
       "      <th></th>\n",
       "      <th>Band</th>\n",
       "      <th>Lyrics</th>\n",
       "      <th>Song</th>\n",
       "    </tr>\n",
       "  </thead>\n",
       "  <tbody>\n",
       "    <tr>\n",
       "      <th>0</th>\n",
       "      <td>Alicia Keys</td>\n",
       "      <td>(Alicia) Yea...c'mon \\r\\n(Bimbo) aha \\r\\n\\r\\nO...</td>\n",
       "      <td>Karma [Raggaeton Mix]</td>\n",
       "    </tr>\n",
       "    <tr>\n",
       "      <th>1</th>\n",
       "      <td>Alicia Keys</td>\n",
       "      <td>And it feels so good\\r\\nDon't you feel so good...</td>\n",
       "      <td>When It's All Over</td>\n",
       "    </tr>\n",
       "    <tr>\n",
       "      <th>2</th>\n",
       "      <td>Alicia Keys</td>\n",
       "      <td>And the day came\\r\\nWhen the risk it took to r...</td>\n",
       "      <td>The Element of Freedom [Intro]</td>\n",
       "    </tr>\n",
       "    <tr>\n",
       "      <th>3</th>\n",
       "      <td>Alicia Keys</td>\n",
       "      <td>And the day came \\r\\nWhen the risk it took \\r\\...</td>\n",
       "      <td>The Element of Freedom (Intro)</td>\n",
       "    </tr>\n",
       "    <tr>\n",
       "      <th>4</th>\n",
       "      <td>Alicia Keys</td>\n",
       "      <td>Ay yo B, What up A?\\nWhat we want? Want them t...</td>\n",
       "      <td>Put It in a Love Song</td>\n",
       "    </tr>\n",
       "  </tbody>\n",
       "</table>\n",
       "</div>"
      ],
      "text/plain": [
       "          Band                                             Lyrics  \\\n",
       "0  Alicia Keys  (Alicia) Yea...c'mon \\r\\n(Bimbo) aha \\r\\n\\r\\nO...   \n",
       "1  Alicia Keys  And it feels so good\\r\\nDon't you feel so good...   \n",
       "2  Alicia Keys  And the day came\\r\\nWhen the risk it took to r...   \n",
       "3  Alicia Keys  And the day came \\r\\nWhen the risk it took \\r\\...   \n",
       "4  Alicia Keys  Ay yo B, What up A?\\nWhat we want? Want them t...   \n",
       "\n",
       "                             Song  \n",
       "0           Karma [Raggaeton Mix]  \n",
       "1              When It's All Over  \n",
       "2  The Element of Freedom [Intro]  \n",
       "3  The Element of Freedom (Intro)  \n",
       "4           Put It in a Love Song  "
      ]
     },
     "execution_count": 74,
     "metadata": {},
     "output_type": "execute_result"
    }
   ],
   "source": [
    "finalLyrics2 = pd.concat([plyrics1,plyrics2])\n",
    "print(len(finalLyrics2), \"songs\")\n",
    "finalLyrics2.head()"
   ]
  },
  {
   "cell_type": "markdown",
   "metadata": {},
   "source": [
    "### VI. Further cleaning the data\n",
    "Beisdes the processing we have done while gathering the data, we need to process the lyrics as well as removing different versions of the same song"
   ]
  },
  {
   "cell_type": "markdown",
   "metadata": {},
   "source": [
    "Even though there are no duplicates of exact songs in the lyrics data set, there are different versions (remixes.. etc) of the song. For example, there might be a live version of the song that will have the song title \"song title [live verson]\". Since the special versions are all annotated with brackets, we will simply remove the brakets and their content. What will be left is only the song title, then we can easily remove rows with duplicate song titles."
   ]
  },
  {
   "cell_type": "markdown",
   "metadata": {},
   "source": [
    "#### dependent set "
   ]
  },
  {
   "cell_type": "code",
   "execution_count": 75,
   "metadata": {
    "ExecuteTime": {
     "end_time": "2019-03-21T23:43:26.455664Z",
     "start_time": "2019-03-21T23:43:26.423279Z"
    }
   },
   "outputs": [],
   "source": [
    "# Cleaning the remixes\n",
    "\n",
    "def getRidOfBrackets(input):\n",
    "    return re.sub(\"[\\(\\[].*?[\\)\\]]\", \"\", input).strip()"
   ]
  },
  {
   "cell_type": "code",
   "execution_count": 76,
   "metadata": {},
   "outputs": [],
   "source": [
    "finalLyrics[\"Song\"] = finalLyrics[\"Song\"].apply(getRidOfBrackets)\n",
    "finalLyrics = finalLyrics.drop_duplicates(subset='Song', keep='first')"
   ]
  },
  {
   "cell_type": "markdown",
   "metadata": {},
   "source": [
    "Removing stop words and turning the lyrics into lower case. The stop words come from ntlk and we added a few more."
   ]
  },
  {
   "cell_type": "code",
   "execution_count": 77,
   "metadata": {},
   "outputs": [],
   "source": [
    "stop = stopwords.words('english')\n",
    "stop.extend([\"im\",\"like\", \"oh\"])\n",
    "finalLyrics['Lyrics'] = finalLyrics['Lyrics'].str.lower()\n",
    "finalLyrics['Lyrics'] = finalLyrics['Lyrics'].apply(lambda x: ' '.join([word for word in x.split() if word.strip() not in (stop)]))"
   ]
  },
  {
   "cell_type": "markdown",
   "metadata": {},
   "source": [
    "Get rid of punctuations"
   ]
  },
  {
   "cell_type": "code",
   "execution_count": 78,
   "metadata": {
    "scrolled": true
   },
   "outputs": [
    {
     "data": {
      "text/html": [
       "<div>\n",
       "<style scoped>\n",
       "    .dataframe tbody tr th:only-of-type {\n",
       "        vertical-align: middle;\n",
       "    }\n",
       "\n",
       "    .dataframe tbody tr th {\n",
       "        vertical-align: top;\n",
       "    }\n",
       "\n",
       "    .dataframe thead th {\n",
       "        text-align: right;\n",
       "    }\n",
       "</style>\n",
       "<table border=\"1\" class=\"dataframe\">\n",
       "  <thead>\n",
       "    <tr style=\"text-align: right;\">\n",
       "      <th></th>\n",
       "      <th>Band</th>\n",
       "      <th>Lyrics</th>\n",
       "      <th>Song</th>\n",
       "    </tr>\n",
       "  </thead>\n",
       "  <tbody>\n",
       "    <tr>\n",
       "      <th>0</th>\n",
       "      <td>Amy Winehouse</td>\n",
       "      <td>ever you darkness knew regret get accustomed t...</td>\n",
       "      <td>Tears Dry</td>\n",
       "    </tr>\n",
       "    <tr>\n",
       "      <th>1</th>\n",
       "      <td>Amy Winehouse</td>\n",
       "      <td>build dreams stars need someone love go strang...</td>\n",
       "      <td>Don't Go To Strangers</td>\n",
       "    </tr>\n",
       "    <tr>\n",
       "      <th>2</th>\n",
       "      <td>Amy Winehouse</td>\n",
       "      <td>cant wait get away unsurprisingly hate communi...</td>\n",
       "      <td>Best Friends, Right?</td>\n",
       "    </tr>\n",
       "    <tr>\n",
       "      <th>4</th>\n",
       "      <td>Amy Winehouse</td>\n",
       "      <td>would die divorce id take thousand thumps love...</td>\n",
       "      <td>Between the Cheats</td>\n",
       "    </tr>\n",
       "    <tr>\n",
       "      <th>5</th>\n",
       "      <td>Amy Winehouse</td>\n",
       "      <td>ive many places life time ive sung lot songs i...</td>\n",
       "      <td>A Song for You</td>\n",
       "    </tr>\n",
       "  </tbody>\n",
       "</table>\n",
       "</div>"
      ],
      "text/plain": [
       "            Band                                             Lyrics  \\\n",
       "0  Amy Winehouse  ever you darkness knew regret get accustomed t...   \n",
       "1  Amy Winehouse  build dreams stars need someone love go strang...   \n",
       "2  Amy Winehouse  cant wait get away unsurprisingly hate communi...   \n",
       "4  Amy Winehouse  would die divorce id take thousand thumps love...   \n",
       "5  Amy Winehouse  ive many places life time ive sung lot songs i...   \n",
       "\n",
       "                    Song  \n",
       "0              Tears Dry  \n",
       "1  Don't Go To Strangers  \n",
       "2   Best Friends, Right?  \n",
       "4     Between the Cheats  \n",
       "5         A Song for You  "
      ]
     },
     "execution_count": 78,
     "metadata": {},
     "output_type": "execute_result"
    }
   ],
   "source": [
    "finalLyrics['Lyrics'] = finalLyrics['Lyrics'].str.replace('[^\\w\\s]','')\n",
    "finalLyrics.head()"
   ]
  },
  {
   "cell_type": "markdown",
   "metadata": {},
   "source": [
    "We repeat the cleaning process on the independent/healthy set of artist lyrics."
   ]
  },
  {
   "cell_type": "markdown",
   "metadata": {},
   "source": [
    "#### independent set"
   ]
  },
  {
   "cell_type": "code",
   "execution_count": 79,
   "metadata": {
    "ExecuteTime": {
     "end_time": "2019-03-21T23:43:44.691016Z",
     "start_time": "2019-03-21T23:43:44.528085Z"
    }
   },
   "outputs": [],
   "source": [
    "# remove brackets\n",
    "finalLyrics2[\"Song\"] = finalLyrics2[\"Song\"].apply(getRidOfBrackets)\n",
    "finalLyrics2 = finalLyrics2.drop_duplicates(subset='Song', keep='first')"
   ]
  },
  {
   "cell_type": "code",
   "execution_count": 80,
   "metadata": {
    "ExecuteTime": {
     "end_time": "2019-03-21T23:43:49.033816Z",
     "start_time": "2019-03-21T23:43:45.246064Z"
    }
   },
   "outputs": [],
   "source": [
    "# remove stopwords\n",
    "stop = stopwords.words('english')\n",
    "stop.extend([\"im\",\"like\", \"oh\"])\n",
    "finalLyrics2['Lyrics'] = finalLyrics2['Lyrics'].str.lower()\n",
    "finalLyrics2['Lyrics'] = finalLyrics2['Lyrics'].apply(lambda x: ' '.join([word for word in x.split() if word.strip() not in (stop)]))"
   ]
  },
  {
   "cell_type": "code",
   "execution_count": 81,
   "metadata": {
    "ExecuteTime": {
     "end_time": "2019-03-21T23:43:49.168197Z",
     "start_time": "2019-03-21T23:43:49.043018Z"
    }
   },
   "outputs": [
    {
     "data": {
      "text/html": [
       "<div>\n",
       "<style scoped>\n",
       "    .dataframe tbody tr th:only-of-type {\n",
       "        vertical-align: middle;\n",
       "    }\n",
       "\n",
       "    .dataframe tbody tr th {\n",
       "        vertical-align: top;\n",
       "    }\n",
       "\n",
       "    .dataframe thead th {\n",
       "        text-align: right;\n",
       "    }\n",
       "</style>\n",
       "<table border=\"1\" class=\"dataframe\">\n",
       "  <thead>\n",
       "    <tr style=\"text-align: right;\">\n",
       "      <th></th>\n",
       "      <th>Band</th>\n",
       "      <th>Lyrics</th>\n",
       "      <th>Song</th>\n",
       "    </tr>\n",
       "  </thead>\n",
       "  <tbody>\n",
       "    <tr>\n",
       "      <th>0</th>\n",
       "      <td>Alicia Keys</td>\n",
       "      <td>alicia yeacmon bimbo aha ooh yea sing baby ha ...</td>\n",
       "      <td>Karma</td>\n",
       "    </tr>\n",
       "    <tr>\n",
       "      <th>1</th>\n",
       "      <td>Alicia Keys</td>\n",
       "      <td>feels good feel good talk hey never good ever ...</td>\n",
       "      <td>When It's All Over</td>\n",
       "    </tr>\n",
       "    <tr>\n",
       "      <th>2</th>\n",
       "      <td>Alicia Keys</td>\n",
       "      <td>day came risk took remain tightly closed bud p...</td>\n",
       "      <td>The Element of Freedom</td>\n",
       "    </tr>\n",
       "    <tr>\n",
       "      <th>4</th>\n",
       "      <td>Alicia Keys</td>\n",
       "      <td>ay yo b a want want say whoo say love me say l...</td>\n",
       "      <td>Put It in a Love Song</td>\n",
       "    </tr>\n",
       "    <tr>\n",
       "      <th>5</th>\n",
       "      <td>Alicia Keys</td>\n",
       "      <td>ay yo alicia whats up kandi man jane killing t...</td>\n",
       "      <td>Jane Doe</td>\n",
       "    </tr>\n",
       "  </tbody>\n",
       "</table>\n",
       "</div>"
      ],
      "text/plain": [
       "          Band                                             Lyrics  \\\n",
       "0  Alicia Keys  alicia yeacmon bimbo aha ooh yea sing baby ha ...   \n",
       "1  Alicia Keys  feels good feel good talk hey never good ever ...   \n",
       "2  Alicia Keys  day came risk took remain tightly closed bud p...   \n",
       "4  Alicia Keys  ay yo b a want want say whoo say love me say l...   \n",
       "5  Alicia Keys  ay yo alicia whats up kandi man jane killing t...   \n",
       "\n",
       "                     Song  \n",
       "0                   Karma  \n",
       "1      When It's All Over  \n",
       "2  The Element of Freedom  \n",
       "4   Put It in a Love Song  \n",
       "5                Jane Doe  "
      ]
     },
     "execution_count": 81,
     "metadata": {},
     "output_type": "execute_result"
    }
   ],
   "source": [
    "# remove punctuation\n",
    "finalLyrics2['Lyrics'] = finalLyrics2['Lyrics'].str.replace('[^\\w\\s]','')\n",
    "finalLyrics2.head()"
   ]
  },
  {
   "cell_type": "markdown",
   "metadata": {},
   "source": [
    "## Data Analysis and Results"
   ]
  },
  {
   "cell_type": "markdown",
   "metadata": {},
   "source": [
    "We will put each song into the sentiment intensity analyzer, adding a column to the dataframe which is the score for each song, -1 is sad, 1 is happy. The sentiment analyzer is VADER. Reference :https://github.com/cjhutto/vaderSentiment"
   ]
  },
  {
   "cell_type": "markdown",
   "metadata": {},
   "source": [
    "For each song for each artist, we feed it into the sentiment intensity analyzer. Then, we average the score across all songs for each artist, arriving at the below dataframe."
   ]
  },
  {
   "cell_type": "code",
   "execution_count": 82,
   "metadata": {},
   "outputs": [],
   "source": [
    "si = SentimentIntensityAnalyzer()\n",
    "scores = [];\n",
    "for song in finalLyrics[\"Lyrics\"]:\n",
    "    result = si.polarity_scores(song)\n",
    "    score = result[\"compound\"]\n",
    "    scores.append(score)\n",
    "finalLyrics.insert(3, \"score\",scores, True)"
   ]
  },
  {
   "cell_type": "code",
   "execution_count": 83,
   "metadata": {},
   "outputs": [
    {
     "data": {
      "text/html": [
       "<div>\n",
       "<style scoped>\n",
       "    .dataframe tbody tr th:only-of-type {\n",
       "        vertical-align: middle;\n",
       "    }\n",
       "\n",
       "    .dataframe tbody tr th {\n",
       "        vertical-align: top;\n",
       "    }\n",
       "\n",
       "    .dataframe thead th {\n",
       "        text-align: right;\n",
       "    }\n",
       "</style>\n",
       "<table border=\"1\" class=\"dataframe\">\n",
       "  <thead>\n",
       "    <tr style=\"text-align: right;\">\n",
       "      <th></th>\n",
       "      <th>score</th>\n",
       "    </tr>\n",
       "    <tr>\n",
       "      <th>Band</th>\n",
       "      <th></th>\n",
       "    </tr>\n",
       "  </thead>\n",
       "  <tbody>\n",
       "    <tr>\n",
       "      <th>Amy Winehouse</th>\n",
       "      <td>0.217260</td>\n",
       "    </tr>\n",
       "    <tr>\n",
       "      <th>Billy Mackenzie</th>\n",
       "      <td>0.989350</td>\n",
       "    </tr>\n",
       "    <tr>\n",
       "      <th>Bob Marley</th>\n",
       "      <td>0.299310</td>\n",
       "    </tr>\n",
       "    <tr>\n",
       "      <th>Bobby Brown</th>\n",
       "      <td>0.615908</td>\n",
       "    </tr>\n",
       "    <tr>\n",
       "      <th>Bon Scott</th>\n",
       "      <td>0.190650</td>\n",
       "    </tr>\n",
       "  </tbody>\n",
       "</table>\n",
       "</div>"
      ],
      "text/plain": [
       "                    score\n",
       "Band                     \n",
       "Amy Winehouse    0.217260\n",
       "Billy Mackenzie  0.989350\n",
       "Bob Marley       0.299310\n",
       "Bobby Brown      0.615908\n",
       "Bon Scott        0.190650"
      ]
     },
     "execution_count": 83,
     "metadata": {},
     "output_type": "execute_result"
    }
   ],
   "source": [
    "sentimentScores = finalLyrics.groupby([\"Band\"]).mean()\n",
    "sentimentScores.head()"
   ]
  },
  {
   "cell_type": "markdown",
   "metadata": {},
   "source": [
    "Plotting the socres to see what the trend looks like."
   ]
  },
  {
   "cell_type": "code",
   "execution_count": 84,
   "metadata": {},
   "outputs": [
    {
     "data": {
      "text/plain": [
       "<matplotlib.axes._subplots.AxesSubplot at 0x1e8975a69e8>"
      ]
     },
     "execution_count": 84,
     "metadata": {},
     "output_type": "execute_result"
    },
    {
     "data": {
      "image/png": "[encoded data removed]",
      "text/plain": [
       "<Figure size 1800x1224 with 1 Axes>"
      ]
     },
     "metadata": {
      "needs_background": "light"
     },
     "output_type": "display_data"
    }
   ],
   "source": [
    "%matplotlib inline\n",
    "plt.rc('xtick',labelsize=25)\n",
    "plt.rc('ytick',labelsize=20)\n",
    "sentimentScores.plot.bar(figsize=(25,17))\n"
   ]
  },
  {
   "cell_type": "markdown",
   "metadata": {},
   "source": [
    "We see that Jimi Jamison is an outlier with an extremely low score. We suspect the reason to be that he only has a few songs that contains a lot of negative words. To see how many songs he has:"
   ]
  },
  {
   "cell_type": "code",
   "execution_count": 85,
   "metadata": {},
   "outputs": [
    {
     "data": {
      "text/html": [
       "<div>\n",
       "<style scoped>\n",
       "    .dataframe tbody tr th:only-of-type {\n",
       "        vertical-align: middle;\n",
       "    }\n",
       "\n",
       "    .dataframe tbody tr th {\n",
       "        vertical-align: top;\n",
       "    }\n",
       "\n",
       "    .dataframe thead th {\n",
       "        text-align: right;\n",
       "    }\n",
       "</style>\n",
       "<table border=\"1\" class=\"dataframe\">\n",
       "  <thead>\n",
       "    <tr style=\"text-align: right;\">\n",
       "      <th></th>\n",
       "      <th>Band</th>\n",
       "      <th>Lyrics</th>\n",
       "      <th>Song</th>\n",
       "      <th>score</th>\n",
       "    </tr>\n",
       "  </thead>\n",
       "  <tbody>\n",
       "    <tr>\n",
       "      <th>1834</th>\n",
       "      <td>Jimi Jamison</td>\n",
       "      <td>two worlds collide rival nations primitive cla...</td>\n",
       "      <td>Burning Hart</td>\n",
       "      <td>-0.9781</td>\n",
       "    </tr>\n",
       "  </tbody>\n",
       "</table>\n",
       "</div>"
      ],
      "text/plain": [
       "              Band                                             Lyrics  \\\n",
       "1834  Jimi Jamison  two worlds collide rival nations primitive cla...   \n",
       "\n",
       "              Song   score  \n",
       "1834  Burning Hart -0.9781  "
      ]
     },
     "execution_count": 85,
     "metadata": {},
     "output_type": "execute_result"
    }
   ],
   "source": [
    "len(finalLyrics[finalLyrics['Band'].str.contains('Jimi Jamison')])\n",
    "finalLyrics[finalLyrics['Band'].str.contains('Jimi Jamison')]"
   ]
  },
  {
   "cell_type": "markdown",
   "metadata": {},
   "source": [
    "Here are the lyrics of his song Burning Hart, it does look like it has a lot of negative words. This confirm our suspicion and therefore more accurate analysis require that each artists have enough songs and lyrics. "
   ]
  },
  {
   "cell_type": "code",
   "execution_count": 86,
   "metadata": {},
   "outputs": [
    {
     "name": "stdout",
     "output_type": "stream",
     "text": [
      "two worlds collide rival nations primitive clash venting years frustrations bravely hope hope much stake seems freedoms ropes crowd understand east versus west man man nation stand alone burning heart burst theres quest answers unquenchable thirst darkest night rising spire burning heart unmistakable fire burning heart warrious code theres surrender though body says stop spirit cries never deep soul quiet ember know paradox drives us battle wills heat attack passion kills victory alone burning heart burst theres quest answers unquenchable thirst darkest night rising spire burning heart unmistakable fire burning heart burst theres quest answers unquenchable thirst darkest night rising spire burning heart unmistakable fire burning heart burst theres quest answers unquenchable thirst darkest night rising spire burning heart unmistakable fire burning heart\n"
     ]
    }
   ],
   "source": [
    "print(finalLyrics.loc[finalLyrics['Band'].str.contains('Jimi Jamison')].iloc[0][\"Lyrics\"])"
   ]
  },
  {
   "cell_type": "markdown",
   "metadata": {},
   "source": [
    " Now we try to obtain the the word count for each artist. After the following code, a new dataframe df is created with columns \"Band\", \"Lyrics\", \"word count\", \"number of words\". Essentially, each row of the data frames contains an artist, ALL words in their songs, each word and their count, and the total number of words."
   ]
  },
  {
   "cell_type": "code",
   "execution_count": 87,
   "metadata": {
    "ExecuteTime": {
     "end_time": "2019-03-21T23:49:53.581755Z",
     "start_time": "2019-03-21T23:49:53.568105Z"
    }
   },
   "outputs": [],
   "source": [
    "# concatenate all lyrics for each artist\n",
    "def concat_(col):\n",
    "    return \"\".join(col)"
   ]
  },
  {
   "cell_type": "code",
   "execution_count": 88,
   "metadata": {},
   "outputs": [
    {
     "data": {
      "text/html": [
       "<div>\n",
       "<style scoped>\n",
       "    .dataframe tbody tr th:only-of-type {\n",
       "        vertical-align: middle;\n",
       "    }\n",
       "\n",
       "    .dataframe tbody tr th {\n",
       "        vertical-align: top;\n",
       "    }\n",
       "\n",
       "    .dataframe thead th {\n",
       "        text-align: right;\n",
       "    }\n",
       "</style>\n",
       "<table border=\"1\" class=\"dataframe\">\n",
       "  <thead>\n",
       "    <tr style=\"text-align: right;\">\n",
       "      <th></th>\n",
       "      <th>Lyrics</th>\n",
       "      <th>word count</th>\n",
       "      <th>number of words</th>\n",
       "    </tr>\n",
       "    <tr>\n",
       "      <th>Band</th>\n",
       "      <th></th>\n",
       "      <th></th>\n",
       "      <th></th>\n",
       "    </tr>\n",
       "  </thead>\n",
       "  <tbody>\n",
       "    <tr>\n",
       "      <th>Amy Winehouse</th>\n",
       "      <td>ever you darkness knew regret get accustomed t...</td>\n",
       "      <td>im             102\n",
       "love           100\n",
       "know    ...</td>\n",
       "      <td>39340</td>\n",
       "    </tr>\n",
       "    <tr>\n",
       "      <th>Billy Mackenzie</th>\n",
       "      <td>love me love me say let fly away love wind wil...</td>\n",
       "      <td>living          13\n",
       "paradise        12\n",
       "lives   ...</td>\n",
       "      <td>1332</td>\n",
       "    </tr>\n",
       "    <tr>\n",
       "      <th>Bob Marley</th>\n",
       "      <td>whooooooo mr brown mr brown clown rides town c...</td>\n",
       "      <td>love            420\n",
       "yeah            410\n",
       "got   ...</td>\n",
       "      <td>163103</td>\n",
       "    </tr>\n",
       "    <tr>\n",
       "      <th>Bobby Brown</th>\n",
       "      <td>ah ah ah things aint way used back day man mea...</td>\n",
       "      <td>girl           193\n",
       "love           186\n",
       "baby    ...</td>\n",
       "      <td>39138</td>\n",
       "    </tr>\n",
       "    <tr>\n",
       "      <th>Bon Scott</th>\n",
       "      <td>aint necessarily aint necessarily tings dat yo...</td>\n",
       "      <td>sookie         24\n",
       "hang           18\n",
       "baby      ...</td>\n",
       "      <td>1451</td>\n",
       "    </tr>\n",
       "  </tbody>\n",
       "</table>\n",
       "</div>"
      ],
      "text/plain": [
       "                                                            Lyrics  \\\n",
       "Band                                                                 \n",
       "Amy Winehouse    ever you darkness knew regret get accustomed t...   \n",
       "Billy Mackenzie  love me love me say let fly away love wind wil...   \n",
       "Bob Marley       whooooooo mr brown mr brown clown rides town c...   \n",
       "Bobby Brown      ah ah ah things aint way used back day man mea...   \n",
       "Bon Scott        aint necessarily aint necessarily tings dat yo...   \n",
       "\n",
       "                                                        word count  \\\n",
       "Band                                                                 \n",
       "Amy Winehouse    im             102\n",
       "love           100\n",
       "know    ...   \n",
       "Billy Mackenzie  living          13\n",
       "paradise        12\n",
       "lives   ...   \n",
       "Bob Marley       love            420\n",
       "yeah            410\n",
       "got   ...   \n",
       "Bobby Brown      girl           193\n",
       "love           186\n",
       "baby    ...   \n",
       "Bon Scott        sookie         24\n",
       "hang           18\n",
       "baby      ...   \n",
       "\n",
       "                 number of words  \n",
       "Band                              \n",
       "Amy Winehouse              39340  \n",
       "Billy Mackenzie             1332  \n",
       "Bob Marley                163103  \n",
       "Bobby Brown                39138  \n",
       "Bon Scott                   1451  "
      ]
     },
     "execution_count": 88,
     "metadata": {},
     "output_type": "execute_result"
    }
   ],
   "source": [
    "df = finalLyrics.loc[:,['Band','Lyrics']].groupby(['Band']).aggregate(concat_)\n",
    "\n",
    "word_counts = []\n",
    "num_words = []\n",
    "for lyrics in df['Lyrics']:\n",
    "    word_count =  pd.Series(lyrics.split()).value_counts()\n",
    "    word_counts.append(word_count)\n",
    "for lyrics in df['Lyrics']:\n",
    "    num_words.append(len(lyrics))\n",
    "\n",
    "    \n",
    "df.insert(1, \"word count\", word_counts, True)\n",
    "df.insert(2, \"number of words\",num_words, True )\n",
    "df.head()"
   ]
  },
  {
   "cell_type": "markdown",
   "metadata": {},
   "source": [
    "To get word counts for one artist:"
   ]
  },
  {
   "cell_type": "code",
   "execution_count": 89,
   "metadata": {
    "scrolled": true
   },
   "outputs": [
    {
     "data": {
      "text/plain": [
       "im      433\n",
       "get     207\n",
       "got     184\n",
       "shit    183\n",
       "aint    175\n",
       "dtype: int64"
      ]
     },
     "execution_count": 89,
     "metadata": {},
     "output_type": "execute_result"
    }
   ],
   "source": [
    "df.loc[\"Mac Miller\",\"word count\"].head()"
   ]
  },
  {
   "cell_type": "markdown",
   "metadata": {},
   "source": [
    "Now for the independent/healthy set."
   ]
  },
  {
   "cell_type": "code",
   "execution_count": 90,
   "metadata": {
    "ExecuteTime": {
     "end_time": "2019-03-21T23:48:08.530222Z",
     "start_time": "2019-03-21T23:47:53.816139Z"
    }
   },
   "outputs": [],
   "source": [
    "si2 = SentimentIntensityAnalyzer()\n",
    "scores2 = [];\n",
    "for song in finalLyrics2[\"Lyrics\"]:\n",
    "    results = si2.polarity_scores(song)\n",
    "    scores = results[\"compound\"]\n",
    "    scores2.append(scores)\n",
    "finalLyrics2.insert(3, \"score\",scores2, True)"
   ]
  },
  {
   "cell_type": "code",
   "execution_count": 91,
   "metadata": {
    "ExecuteTime": {
     "end_time": "2019-03-21T23:48:08.572581Z",
     "start_time": "2019-03-21T23:48:08.542709Z"
    }
   },
   "outputs": [
    {
     "data": {
      "text/html": [
       "<div>\n",
       "<style scoped>\n",
       "    .dataframe tbody tr th:only-of-type {\n",
       "        vertical-align: middle;\n",
       "    }\n",
       "\n",
       "    .dataframe tbody tr th {\n",
       "        vertical-align: top;\n",
       "    }\n",
       "\n",
       "    .dataframe thead th {\n",
       "        text-align: right;\n",
       "    }\n",
       "</style>\n",
       "<table border=\"1\" class=\"dataframe\">\n",
       "  <thead>\n",
       "    <tr style=\"text-align: right;\">\n",
       "      <th></th>\n",
       "      <th>score</th>\n",
       "    </tr>\n",
       "    <tr>\n",
       "      <th>Band</th>\n",
       "      <th></th>\n",
       "    </tr>\n",
       "  </thead>\n",
       "  <tbody>\n",
       "    <tr>\n",
       "      <th>50 Cent</th>\n",
       "      <td>-0.466765</td>\n",
       "    </tr>\n",
       "    <tr>\n",
       "      <th>Adele</th>\n",
       "      <td>0.201533</td>\n",
       "    </tr>\n",
       "    <tr>\n",
       "      <th>Akon</th>\n",
       "      <td>-0.079809</td>\n",
       "    </tr>\n",
       "    <tr>\n",
       "      <th>Alicia Keys</th>\n",
       "      <td>0.443486</td>\n",
       "    </tr>\n",
       "    <tr>\n",
       "      <th>All-4-One</th>\n",
       "      <td>0.654498</td>\n",
       "    </tr>\n",
       "  </tbody>\n",
       "</table>\n",
       "</div>"
      ],
      "text/plain": [
       "                score\n",
       "Band                 \n",
       "50 Cent     -0.466765\n",
       "Adele        0.201533\n",
       "Akon        -0.079809\n",
       "Alicia Keys  0.443486\n",
       "All-4-One    0.654498"
      ]
     },
     "execution_count": 91,
     "metadata": {},
     "output_type": "execute_result"
    }
   ],
   "source": [
    "sentimentScores2 = finalLyrics2.groupby([\"Band\"]).mean()\n",
    "sentimentScores2.head()"
   ]
  },
  {
   "cell_type": "code",
   "execution_count": 115,
   "metadata": {
    "ExecuteTime": {
     "end_time": "2019-03-21T23:48:12.543190Z",
     "start_time": "2019-03-21T23:48:08.575722Z"
    }
   },
   "outputs": [
    {
     "data": {
      "text/plain": [
       "<matplotlib.axes._subplots.AxesSubplot at 0x1e89ece0c50>"
      ]
     },
     "execution_count": 115,
     "metadata": {},
     "output_type": "execute_result"
    },
    {
     "data": {
      "image/png": "[encoded data removed]",
      "text/plain": [
       "<Figure size 1800x2520 with 1 Axes>"
      ]
     },
     "metadata": {
      "needs_background": "light"
     },
     "output_type": "display_data"
    }
   ],
   "source": [
    "%matplotlib inline\n",
    "# plt.rc('xtick',labelsize=30)\n",
    "# plt.rc('ytick',labelsize=40)\n",
    "sentimentScores2.plot(kind=\"barh\", figsize=(25,35), grid=True, fontsize=15)"
   ]
  },
  {
   "cell_type": "code",
   "execution_count": 93,
   "metadata": {},
   "outputs": [
    {
     "ename": "ValueError",
     "evalue": "Length of values does not match length of index",
     "output_type": "error",
     "traceback": [
      "\u001b[1;31m---------------------------------------------------------------------------\u001b[0m",
      "\u001b[1;31mValueError\u001b[0m                                Traceback (most recent call last)",
      "\u001b[1;32m<ipython-input-93-d6c929f0cc56>\u001b[0m in \u001b[0;36m<module>\u001b[1;34m\u001b[0m\n\u001b[0;32m     11\u001b[0m \u001b[1;33m\u001b[0m\u001b[0m\n\u001b[0;32m     12\u001b[0m \u001b[0mdf\u001b[0m\u001b[1;33m.\u001b[0m\u001b[0minsert\u001b[0m\u001b[1;33m(\u001b[0m\u001b[1;36m1\u001b[0m\u001b[1;33m,\u001b[0m \u001b[1;34m\"word count\"\u001b[0m\u001b[1;33m,\u001b[0m \u001b[0mword_counts\u001b[0m\u001b[1;33m,\u001b[0m \u001b[1;32mTrue\u001b[0m\u001b[1;33m)\u001b[0m\u001b[1;33m\u001b[0m\u001b[1;33m\u001b[0m\u001b[0m\n\u001b[1;32m---> 13\u001b[1;33m \u001b[0mdf\u001b[0m\u001b[1;33m.\u001b[0m\u001b[0minsert\u001b[0m\u001b[1;33m(\u001b[0m\u001b[1;36m2\u001b[0m\u001b[1;33m,\u001b[0m \u001b[1;34m\"number of words\"\u001b[0m\u001b[1;33m,\u001b[0m\u001b[0mnum_words\u001b[0m\u001b[1;33m,\u001b[0m \u001b[1;32mTrue\u001b[0m \u001b[1;33m)\u001b[0m\u001b[1;33m\u001b[0m\u001b[1;33m\u001b[0m\u001b[0m\n\u001b[0m\u001b[0;32m     14\u001b[0m \u001b[0mdf\u001b[0m\u001b[1;33m.\u001b[0m\u001b[0mhead\u001b[0m\u001b[1;33m(\u001b[0m\u001b[1;33m)\u001b[0m\u001b[1;33m\u001b[0m\u001b[1;33m\u001b[0m\u001b[0m\n",
      "\u001b[1;32m~\\Anaconda3\\lib\\site-packages\\pandas\\core\\frame.py\u001b[0m in \u001b[0;36minsert\u001b[1;34m(self, loc, column, value, allow_duplicates)\u001b[0m\n\u001b[0;32m   3218\u001b[0m         \"\"\"\n\u001b[0;32m   3219\u001b[0m         \u001b[0mself\u001b[0m\u001b[1;33m.\u001b[0m\u001b[0m_ensure_valid_index\u001b[0m\u001b[1;33m(\u001b[0m\u001b[0mvalue\u001b[0m\u001b[1;33m)\u001b[0m\u001b[1;33m\u001b[0m\u001b[1;33m\u001b[0m\u001b[0m\n\u001b[1;32m-> 3220\u001b[1;33m         \u001b[0mvalue\u001b[0m \u001b[1;33m=\u001b[0m \u001b[0mself\u001b[0m\u001b[1;33m.\u001b[0m\u001b[0m_sanitize_column\u001b[0m\u001b[1;33m(\u001b[0m\u001b[0mcolumn\u001b[0m\u001b[1;33m,\u001b[0m \u001b[0mvalue\u001b[0m\u001b[1;33m,\u001b[0m \u001b[0mbroadcast\u001b[0m\u001b[1;33m=\u001b[0m\u001b[1;32mFalse\u001b[0m\u001b[1;33m)\u001b[0m\u001b[1;33m\u001b[0m\u001b[1;33m\u001b[0m\u001b[0m\n\u001b[0m\u001b[0;32m   3221\u001b[0m         self._data.insert(loc, column, value,\n\u001b[0;32m   3222\u001b[0m                           allow_duplicates=allow_duplicates)\n",
      "\u001b[1;32m~\\Anaconda3\\lib\\site-packages\\pandas\\core\\frame.py\u001b[0m in \u001b[0;36m_sanitize_column\u001b[1;34m(self, key, value, broadcast)\u001b[0m\n\u001b[0;32m   3389\u001b[0m \u001b[1;33m\u001b[0m\u001b[0m\n\u001b[0;32m   3390\u001b[0m             \u001b[1;31m# turn me into an ndarray\u001b[0m\u001b[1;33m\u001b[0m\u001b[1;33m\u001b[0m\u001b[1;33m\u001b[0m\u001b[0m\n\u001b[1;32m-> 3391\u001b[1;33m             \u001b[0mvalue\u001b[0m \u001b[1;33m=\u001b[0m \u001b[0m_sanitize_index\u001b[0m\u001b[1;33m(\u001b[0m\u001b[0mvalue\u001b[0m\u001b[1;33m,\u001b[0m \u001b[0mself\u001b[0m\u001b[1;33m.\u001b[0m\u001b[0mindex\u001b[0m\u001b[1;33m,\u001b[0m \u001b[0mcopy\u001b[0m\u001b[1;33m=\u001b[0m\u001b[1;32mFalse\u001b[0m\u001b[1;33m)\u001b[0m\u001b[1;33m\u001b[0m\u001b[1;33m\u001b[0m\u001b[0m\n\u001b[0m\u001b[0;32m   3392\u001b[0m             \u001b[1;32mif\u001b[0m \u001b[1;32mnot\u001b[0m \u001b[0misinstance\u001b[0m\u001b[1;33m(\u001b[0m\u001b[0mvalue\u001b[0m\u001b[1;33m,\u001b[0m \u001b[1;33m(\u001b[0m\u001b[0mnp\u001b[0m\u001b[1;33m.\u001b[0m\u001b[0mndarray\u001b[0m\u001b[1;33m,\u001b[0m \u001b[0mIndex\u001b[0m\u001b[1;33m)\u001b[0m\u001b[1;33m)\u001b[0m\u001b[1;33m:\u001b[0m\u001b[1;33m\u001b[0m\u001b[1;33m\u001b[0m\u001b[0m\n\u001b[0;32m   3393\u001b[0m                 \u001b[1;32mif\u001b[0m \u001b[0misinstance\u001b[0m\u001b[1;33m(\u001b[0m\u001b[0mvalue\u001b[0m\u001b[1;33m,\u001b[0m \u001b[0mlist\u001b[0m\u001b[1;33m)\u001b[0m \u001b[1;32mand\u001b[0m \u001b[0mlen\u001b[0m\u001b[1;33m(\u001b[0m\u001b[0mvalue\u001b[0m\u001b[1;33m)\u001b[0m \u001b[1;33m>\u001b[0m \u001b[1;36m0\u001b[0m\u001b[1;33m:\u001b[0m\u001b[1;33m\u001b[0m\u001b[1;33m\u001b[0m\u001b[0m\n",
      "\u001b[1;32m~\\Anaconda3\\lib\\site-packages\\pandas\\core\\series.py\u001b[0m in \u001b[0;36m_sanitize_index\u001b[1;34m(data, index, copy)\u001b[0m\n\u001b[0;32m   3999\u001b[0m \u001b[1;33m\u001b[0m\u001b[0m\n\u001b[0;32m   4000\u001b[0m     \u001b[1;32mif\u001b[0m \u001b[0mlen\u001b[0m\u001b[1;33m(\u001b[0m\u001b[0mdata\u001b[0m\u001b[1;33m)\u001b[0m \u001b[1;33m!=\u001b[0m \u001b[0mlen\u001b[0m\u001b[1;33m(\u001b[0m\u001b[0mindex\u001b[0m\u001b[1;33m)\u001b[0m\u001b[1;33m:\u001b[0m\u001b[1;33m\u001b[0m\u001b[1;33m\u001b[0m\u001b[0m\n\u001b[1;32m-> 4001\u001b[1;33m         \u001b[1;32mraise\u001b[0m \u001b[0mValueError\u001b[0m\u001b[1;33m(\u001b[0m\u001b[1;34m'Length of values does not match length of '\u001b[0m \u001b[1;34m'index'\u001b[0m\u001b[1;33m)\u001b[0m\u001b[1;33m\u001b[0m\u001b[1;33m\u001b[0m\u001b[0m\n\u001b[0m\u001b[0;32m   4002\u001b[0m \u001b[1;33m\u001b[0m\u001b[0m\n\u001b[0;32m   4003\u001b[0m     \u001b[1;32mif\u001b[0m \u001b[0misinstance\u001b[0m\u001b[1;33m(\u001b[0m\u001b[0mdata\u001b[0m\u001b[1;33m,\u001b[0m \u001b[0mABCIndexClass\u001b[0m\u001b[1;33m)\u001b[0m \u001b[1;32mand\u001b[0m \u001b[1;32mnot\u001b[0m \u001b[0mcopy\u001b[0m\u001b[1;33m:\u001b[0m\u001b[1;33m\u001b[0m\u001b[1;33m\u001b[0m\u001b[0m\n",
      "\u001b[1;31mValueError\u001b[0m: Length of values does not match length of index"
     ]
    }
   ],
   "source": [
    "df2 = finalLyrics2.loc[:,['Band','Lyrics']].groupby(['Band']).aggregate(concat_)\n",
    "\n",
    "word_counts2 = []\n",
    "num_words2 = []\n",
    "for lyrics2 in df2['Lyrics']:\n",
    "    word_count2 =  pd.Series(lyrics2.split()).value_counts()\n",
    "    word_counts2.append(word_count)\n",
    "for lyrics in df['Lyrics']:\n",
    "    num_words.append(len(lyrics))\n",
    "\n",
    "    \n",
    "df.insert(1, \"word count\", word_counts, True)\n",
    "df.insert(2, \"number of words\",num_words, True )\n",
    "df.head()"
   ]
  },
  {
   "cell_type": "markdown",
   "metadata": {},
   "source": [
    "## Data Visualization"
   ]
  },
  {
   "cell_type": "code",
   "execution_count": null,
   "metadata": {},
   "outputs": [],
   "source": [
    "sS = sentimentScores\n",
    "PA = pd.DataFrame(index=[\"Bobby Brown\", \n",
    "                         \"Brian Wilson\", \n",
    "                         \"Britney Spears\", \n",
    "                         \"Donovan\", \n",
    "                         \"Elton John\", \n",
    "                         \"Keith Urban\"], \n",
    "                  columns=[\"Sentiment Scores\"])\n",
    "PA.iloc[0] = sS.loc['Bobby Brown', 'score']\n",
    "PA.iloc[1] = sS.loc['Brian Wilson', 'score']\n",
    "PA.iloc[2] = sS.loc['Britney Spears', 'score']\n",
    "PA.iloc[3] = sS.loc['Donovan', 'score']\n",
    "PA.iloc[4] = sS.loc['Elton John', 'score']\n",
    "PA.iloc[5] = sS.loc['Keith Urban', 'score']\n",
    "\n",
    "PA.plot(kind=\"barh\", figsize=(6, 5), fontsize=10)\n",
    "plt.xlabel('Bands')\n",
    "plt.ylabel('Sentiment Scores')\n",
    "\n",
    "plt.title('Living artists with positive lyrics')"
   ]
  },
  {
   "cell_type": "code",
   "execution_count": null,
   "metadata": {},
   "outputs": [],
   "source": [
    "sS = sentimentScores\n",
    "PA = pd.DataFrame(index=[\"Louis Armstrong\", \n",
    "                         \"Natalie Cole\", \n",
    "                         \"Ray Charles\", \n",
    "                         \"Rick James\", \n",
    "                         \"Syd Barrett\"], \n",
    "                  columns=[\"Sentiment Scores\"])\n",
    "PA.iloc[0] = sS.loc['Louis Armstrong', 'score']\n",
    "PA.iloc[1] = sS.loc['Natalie Cole', 'score']\n",
    "PA.iloc[2] = sS.loc['Ray Charles', 'score']\n",
    "PA.iloc[3] = sS.loc['Rick James', 'score']\n",
    "PA.iloc[4] = sS.loc['Syd Barrett', 'score']\n",
    "\n",
    "PA.plot(kind=\"barh\", figsize=(6, 5), fontsize=10)\n",
    "plt.xlabel('Bands')\n",
    "plt.ylabel('Sentiment Scores')\n",
    "\n",
    "plt.title('Deceased artists with positive lyrics')"
   ]
  },
  {
   "cell_type": "code",
   "execution_count": null,
   "metadata": {},
   "outputs": [],
   "source": [
    "sS = sentimentScores\n",
    "PA = pd.DataFrame(index=[\"Chris Cornell\", \n",
    "                         \"Esther Phillips\", \n",
    "                         \"Gary Moore\", \n",
    "                         \"Jim Morrison\", \n",
    "                         \"Jimi Jamison\", \n",
    "                         \"Johnny Thunders\", \n",
    "                         \"Mac Miller\", \n",
    "                         \"Paul Butterfield\", \n",
    "                         \"Phil Lynott\", \n",
    "                         \"Scott Weiland\", \n",
    "                         \"Sid Vicious\", \n",
    "                         \"Vic Chesnutt\"], \n",
    "                  columns=[\"Sentiment Scores\"])\n",
    "PA.iloc[0] = sS.loc['Chris Cornell', 'score']\n",
    "PA.iloc[1] = sS.loc['Esther Phillips', 'score']\n",
    "PA.iloc[2] = sS.loc['Gary Moore', 'score']\n",
    "PA.iloc[3] = sS.loc['Jim Morrison', 'score']\n",
    "PA.iloc[4] = sS.loc['Jimi Jamison', 'score']\n",
    "PA.iloc[5] = sS.loc['Johnny Thunders', 'score']\n",
    "PA.iloc[6] = sS.loc['Mac Miller', 'score']\n",
    "PA.iloc[7] = sS.loc['Paul Butterfield', 'score']\n",
    "PA.iloc[8] = sS.loc['Phil Lynott', 'score']\n",
    "PA.iloc[9] = sS.loc['Scott Weiland', 'score']\n",
    "PA.iloc[10] = sS.loc['Sid Vicious', 'score']\n",
    "PA.iloc[11] = sS.loc['Vic Chesnutt', 'score']\n",
    "\n",
    "PA.plot(kind=\"barh\", figsize=(6, 5), fontsize=10)\n",
    "plt.xlabel('Bands')\n",
    "plt.ylabel('Sentiment Scores')\n",
    "\n",
    "plt.title('Artists with negative lyrics who had a history of drug abuse/died of drugs')"
   ]
  },
  {
   "cell_type": "code",
   "execution_count": null,
   "metadata": {},
   "outputs": [],
   "source": [
    "sS = sentimentScores\n",
    "PA = pd.DataFrame(index=[\"Bob Marley\", \n",
    "                         \"David Bowie\", \n",
    "                         \"George Harrison\", \n",
    "                         \"Jerry Garcia\", \n",
    "                         \"Gerry Rafferty\", \n",
    "                        \"Michael Jackson\", \n",
    "                        \"Neil Young\", \n",
    "                        \"Tom Petty\", \n",
    "                        \"Yoko Ono\"], \n",
    "                  columns=[\"Sentiment Scores\"])\n",
    "PA.iloc[0] = sS.loc['Bob Marley', 'score']\n",
    "PA.iloc[1] = sS.loc['David Bowie', 'score']\n",
    "PA.iloc[2] = sS.loc['George Harrison', 'score']\n",
    "PA.iloc[3] = sS.loc['Jerry Garcia', 'score']\n",
    "PA.iloc[4] = sS.loc['Gerry Rafferty', 'score']\n",
    "PA.iloc[5] = sS.loc['Michael Jackson', 'score']\n",
    "PA.iloc[6] = sS.loc['Neil Young', 'score']\n",
    "PA.iloc[7] = sS.loc['Tom Petty', 'score']\n",
    "PA.iloc[8] = sS.loc['Yoko Ono', 'score']\n",
    "\n",
    "PA.plot(kind=\"barh\", figsize=(6, 5), fontsize=10)\n",
    "plt.xlabel('Bands')\n",
    "plt.ylabel('Sentiment Scores')\n",
    "\n",
    "plt.title('Artists with positive lyrics who are alive/died of non-drug related causes')"
   ]
  },
  {
   "cell_type": "code",
   "execution_count": null,
   "metadata": {},
   "outputs": [],
   "source": [
    "sS = sentimentScores\n",
    "PA = pd.DataFrame(index=[\"Amy Winehouse\", \n",
    "                         \"Bon Scott\", \n",
    "                         \"David Ruffin\", \n",
    "                         \"Dee Dee Ramone\", \n",
    "                         \"Dinah Washington\", \n",
    "                        \"Jimi Hendrix\", \n",
    "                        \"Judee Sill\", \n",
    "                        \"Kevin DuBrow\", \n",
    "                        \"Nick Drake\", \n",
    "                        \"Prince\", \n",
    "                        \"Tim Buckley\", \n",
    "                        \"Tim Hardin\", \n",
    "                        \"Tommy Bolin\", \n",
    "                        \"Tony Sly\"], \n",
    "                  columns=[\"Sentiment Scores\"])\n",
    "PA.iloc[0] = sS.loc['Amy Winehouse', 'score']\n",
    "PA.iloc[1] = sS.loc['Bon Scott', 'score']\n",
    "PA.iloc[2] = sS.loc['David Ruffin', 'score']\n",
    "PA.iloc[3] = sS.loc['Dee Dee Ramone', 'score']\n",
    "PA.iloc[4] = sS.loc['Dinah Washington', 'score']\n",
    "PA.iloc[5] = sS.loc['Jimi Hendrix', 'score']\n",
    "PA.iloc[6] = sS.loc['Judee Sill', 'score']\n",
    "PA.iloc[7] = sS.loc['Kevin DuBrow', 'score']\n",
    "PA.iloc[8] = sS.loc['Nick Drake', 'score']\n",
    "PA.iloc[9] = sS.loc['Prince', 'score']\n",
    "PA.iloc[10] = sS.loc['Tim Buckley', 'score']\n",
    "PA.iloc[11] = sS.loc['Tim Hardin', 'score']\n",
    "PA.iloc[12] = sS.loc['Tommy Bolin', 'score']\n",
    "PA.iloc[13] = sS.loc['Tony Sly', 'score']\n",
    "\n",
    "PA.plot(kind=\"barh\", figsize=(6, 5), fontsize=10)\n",
    "plt.xlabel('Bands')\n",
    "plt.ylabel('Sentiment Scores')\n",
    "\n",
    "plt.title('Artists with negative lyrics who had a history of drug abuse/died of drugs')"
   ]
  },
  {
   "cell_type": "code",
   "execution_count": null,
   "metadata": {},
   "outputs": [],
   "source": [
    "sS = sentimentScores\n",
    "PA = pd.DataFrame(index=[\"Billy Mackenzie\", \n",
    "                         \"Frankie Lymon\", \n",
    "                         \"David Ruffin\", \n",
    "                         \"Gram Parsons\", \n",
    "                         \"Ike Turner\", \n",
    "                        \"Jesse Ed Davis\", \n",
    "                        \"Keith Moon\", \n",
    "                        \"Lowell George\", \n",
    "                        \"Whitney Houston\"], \n",
    "                  columns=[\"Sentiment Scores\"])\n",
    "PA.iloc[0] = sS.loc['Billy Mackenzie', 'score']\n",
    "PA.iloc[1] = sS.loc['Frankie Lymon', 'score']\n",
    "PA.iloc[2] = sS.loc['David Ruffin', 'score']\n",
    "PA.iloc[3] = sS.loc['Gram Parsons', 'score']\n",
    "PA.iloc[4] = sS.loc['Ike Turner', 'score']\n",
    "PA.iloc[5] = sS.loc['Jesse Ed Davis', 'score']\n",
    "PA.iloc[6] = sS.loc['Keith Moon', 'score']\n",
    "PA.iloc[7] = sS.loc['Lowell George', 'score']\n",
    "PA.iloc[8] = sS.loc['Whitney Houston', 'score']\n",
    "\n",
    "PA.plot(kind=\"barh\", figsize=(6, 5), fontsize=10)\n",
    "plt.xlabel('Bands')\n",
    "plt.ylabel('Sentiment Scores')\n",
    "\n",
    "plt.title('Deceased outlier artists')"
   ]
  },
  {
   "cell_type": "code",
   "execution_count": null,
   "metadata": {},
   "outputs": [],
   "source": [
    "sS = sentimentScores\n",
    "PA = pd.DataFrame(index=[\"Izzy Stradlin\", \n",
    "                         \"Ozzy Osbourne\", \n",
    "                         \"Snoop Dogg\"], \n",
    "                  columns=[\"Sentiment Scores\"])\n",
    "PA.iloc[0] = sS.loc['Izzy Stradlin', 'score']\n",
    "PA.iloc[1] = sS.loc['Ozzy Osbourne', 'score']\n",
    "PA.iloc[2] = sS.loc['Snoop Dogg', 'score']\n",
    "\n",
    "PA.plot(kind=\"barh\", figsize=(6, 5), fontsize=10)\n",
    "plt.xlabel('Bands')\n",
    "plt.ylabel('Sentiment Scores')\n",
    "\n",
    "plt.title('Living outlier artists')"
   ]
  },
  {
   "cell_type": "markdown",
   "metadata": {},
   "source": [
    "## Privacy/Ethics Considerations"
   ]
  },
  {
   "cell_type": "markdown",
   "metadata": {},
   "source": [
    "## Conclusion and Discussion"
   ]
  },
  {
   "cell_type": "code",
   "execution_count": null,
   "metadata": {},
   "outputs": [],
   "source": []
  },
  {
   "cell_type": "code",
   "execution_count": null,
   "metadata": {},
   "outputs": [],
   "source": []
  },
  {
   "cell_type": "code",
   "execution_count": null,
   "metadata": {},
   "outputs": [],
   "source": []
  }
 ],
 "metadata": {
  "kernelspec": {
   "display_name": "Python 3",
   "language": "python",
   "name": "python3"
  },
  "language_info": {
   "codemirror_mode": {
    "name": "ipython",
    "version": 3
   },
   "file_extension": ".py",
   "mimetype": "text/x-python",
   "name": "python",
   "nbconvert_exporter": "python",
   "pygments_lexer": "ipython3",
   "version": "3.7.1"
  }
 },
 "nbformat": 4,
 "nbformat_minor": 2
}
