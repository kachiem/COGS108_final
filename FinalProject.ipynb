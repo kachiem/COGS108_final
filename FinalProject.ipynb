{
 "cells": [
  {
   "cell_type": "markdown",
   "metadata": {},
   "source": [
    "# COGS 108 - Final Project"
   ]
  },
  {
   "cell_type": "markdown",
   "metadata": {},
   "source": [
    "## Important\n",
    "\n",
    "- ONE, and only one, member of your group should upload this notebook to TritonED. \n",
    "- Each member of the group will receive the same grade on this assignment. \n",
    "- Keep the file name the same: submit the file 'FinalProject.ipynb'.\n",
    "- Only upload the .ipynb file to TED, do not upload any associted data. Make sure that for cells in which you want graders to see output that these cells have been executed."
   ]
  },
  {
   "cell_type": "markdown",
   "metadata": {},
   "source": [
    "## Group Members: Fill in the Student IDs of each group member here\n",
    "\n",
    "Replace the lines below to list each persons full student ID, ucsd email and full name.\n",
    "\n",
    "- A91063209 (Zongchen) \n",
    "- A92060274 (Karen)\n",
    "- A14443387 (Brandon) \n",
    "- U07313790 (Nareg)\n",
    "- A12933386 (Justin)\n",
    "- A13779898 (Sida Qin)\n"
   ]
  },
  {
   "cell_type": "markdown",
   "metadata": {},
   "source": [
    "Start your project here."
   ]
  },
  {
   "cell_type": "markdown",
   "metadata": {},
   "source": [
    "## Introduction and Background\n"
   ]
  },
  {
   "cell_type": "markdown",
   "metadata": {},
   "source": [
    "## Data Description"
   ]
  },
  {
   "cell_type": "markdown",
   "metadata": {},
   "source": [
    "### The following sites will be scrapped for the aritist names\n",
    "- Control dataset - notable/popular musicians who are alive and happy\n",
    "    Billboard Hot 100 Artists\n",
    "    https://en.wikipedia.org/wiki/List_of_Billboard_Hot_100_chart_achievements_by_decade \n",
    "- Dependent dataset - notable/popular musicians who have passed as a result of self-inflicted harm, mental health deterioration, and other issues \n",
    "    List of deaths of pop musicians by drug overdose\n",
    "    https://en.wikipedia.org/wiki/List_of_pop_musicians_who_died_of_drug_overdose\n",
    "- Musicians that have battled drug addiction\n",
    "    https://drugabuse.com/30-famous-musicians-who-have-battled-drug-addiction-and-alcoholism/ \n",
    "    \n",
    "There are about 150 artists in the dependent dataset and 50 artist in the control. Since our focus is the words of the artists, we can keep the number of artists small.\n",
    "\n",
    "### Lyrics data set\n",
    "- Data set of many songs and their lyrics. This data set has been downloaded locally with the notebook, since it is in a nice cvs file, we will simply call pandas.read_csv to convert it into a dataframe. To see its contact, refer to the data gathering section. It has three columns: Band (which is the artist name), Lyrics (lyrics of the song), and Song(Song name). There are about 500,000 rows.\n",
    "    https://www.kaggle.com/artimous/every-song-you-have-heard-almost#Lyrics1.csv"
   ]
  },
  {
   "cell_type": "markdown",
   "metadata": {},
   "source": [
    "## Data Cleaning and Preprocessing\n",
    "\n",
    "We will scraped the several sites to get the artist names we are interested in. Then, we will find thoes artists inside the lyrics data set, extract all their songs. We will combine the song lyrics for each artist into one data frame that we can work with."
   ]
  },
  {
   "cell_type": "markdown",
   "metadata": {},
   "source": [
    "### Libraries used :"
   ]
  },
  {
   "cell_type": "code",
   "execution_count": 1,
   "metadata": {
    "ExecuteTime": {
     "end_time": "2019-03-21T00:51:04.014909Z",
     "start_time": "2019-03-21T00:51:01.711655Z"
    }
   },
   "outputs": [
    {
     "name": "stderr",
     "output_type": "stream",
     "text": [
      "[nltk_data] Downloading package punkt to /Users/sidaqin/nltk_data...\n",
      "[nltk_data]   Package punkt is already up-to-date!\n",
      "[nltk_data] Downloading package stopwords to\n",
      "[nltk_data]     /Users/sidaqin/nltk_data...\n",
      "[nltk_data]   Package stopwords is already up-to-date!\n",
      "[nltk_data] Downloading package vader_lexicon to\n",
      "[nltk_data]     /Users/sidaqin/nltk_data...\n",
      "[nltk_data]   Package vader_lexicon is already up-to-date!\n"
     ]
    },
    {
     "data": {
      "text/plain": [
       "True"
      ]
     },
     "execution_count": 1,
     "metadata": {},
     "output_type": "execute_result"
    }
   ],
   "source": [
    "import requests\n",
    "import urllib.request\n",
    "import pandas as pd\n",
    "from pandas.io.html import read_html\n",
    "import bs4\n",
    "from bs4 import BeautifulSoup\n",
    "import numpy as np\n",
    "import matplotlib.pyplot as plt\n",
    "\n",
    "import re\n",
    "import lxml\n",
    "\n",
    "import nltk\n",
    "from nltk.tokenize import word_tokenize\n",
    "from nltk.corpus import stopwords\n",
    "from nltk.sentiment.vader import SentimentIntensityAnalyzer\n",
    "\n",
    "nltk.download('punkt')\n",
    "nltk.download('stopwords')\n",
    "nltk.download('vader_lexicon')"
   ]
  },
  {
   "cell_type": "markdown",
   "metadata": {},
   "source": [
    "### Gathering data using beautiful soup - dependant set/ troubled artists"
   ]
  },
  {
   "cell_type": "markdown",
   "metadata": {},
   "source": [
    "Using a set \"names\", we keep appending unique names we find in the websites"
   ]
  },
  {
   "cell_type": "markdown",
   "metadata": {},
   "source": [
    "The first website, it is a wikipedia page,and the data are in tables. The for-loop loops through each row and fetch the artist name."
   ]
  },
  {
   "cell_type": "code",
   "execution_count": 2,
   "metadata": {},
   "outputs": [],
   "source": [
    "wiki = \"https://en.wikipedia.org/wiki/List_of_pop_musicians_who_died_of_drug_overdose\"\n",
    "page = requests.get(wiki)\n",
    "soup = BeautifulSoup(page.content,'html.parser')\n",
    "names = set()\n",
    "tables = soup.findAll(name='table', class_='wikitable sortable')\n",
    "\n",
    "\n",
    "for table in tables:\n",
    "    body = table.findChild(\"tbody\" , recursive=False)\n",
    "    for row in body.findAll('tr'):\n",
    "        cells = row.findAll('a')\n",
    "        if(len(cells) == 0) :continue\n",
    "        names.add(cells[0].text.strip())"
   ]
  },
  {
   "cell_type": "markdown",
   "metadata": {},
   "source": [
    "The scond website, all the artist names are in h2 tags, so we loop through all h2 tags and extrach artist names"
   ]
  },
  {
   "cell_type": "code",
   "execution_count": 3,
   "metadata": {},
   "outputs": [],
   "source": [
    "page = requests.get(\"https://drugabuse.com/30-famous-musicians-who-have-battled-drug-addiction-and-alcoholism/\")\n",
    "soup = BeautifulSoup(page.content,'html.parser')\n",
    "for entry in soup.findAll(\"h2\"):\n",
    "    try:\n",
    "        names.add(entry.text.split(\".\",1)[1].strip())\n",
    "    except:\n",
    "        break"
   ]
  },
  {
   "cell_type": "markdown",
   "metadata": {},
   "source": [
    "We load the csv file into a nice dataframe. Head is printed to show the structure. There are two such csv files: lyrics1.csv and lyrics2.csv. They are just the dataset split into two files. We will work with each of them at a time, and merge the results into 1."
   ]
  },
  {
   "cell_type": "code",
   "execution_count": 4,
   "metadata": {},
   "outputs": [
    {
     "name": "stdout",
     "output_type": "stream",
     "text": [
      "250000\n"
     ]
    },
    {
     "data": {
      "text/html": [
       "<div>\n",
       "<style scoped>\n",
       "    .dataframe tbody tr th:only-of-type {\n",
       "        vertical-align: middle;\n",
       "    }\n",
       "\n",
       "    .dataframe tbody tr th {\n",
       "        vertical-align: top;\n",
       "    }\n",
       "\n",
       "    .dataframe thead th {\n",
       "        text-align: right;\n",
       "    }\n",
       "</style>\n",
       "<table border=\"1\" class=\"dataframe\">\n",
       "  <thead>\n",
       "    <tr style=\"text-align: right;\">\n",
       "      <th></th>\n",
       "      <th>Band</th>\n",
       "      <th>Lyrics</th>\n",
       "      <th>Song</th>\n",
       "    </tr>\n",
       "  </thead>\n",
       "  <tbody>\n",
       "    <tr>\n",
       "      <th>0</th>\n",
       "      <td>Elijah Blake</td>\n",
       "      <td>No, no\\r\\nI ain't ever trapped out the bando\\r...</td>\n",
       "      <td>Everyday</td>\n",
       "    </tr>\n",
       "    <tr>\n",
       "      <th>1</th>\n",
       "      <td>Elijah Blake</td>\n",
       "      <td>The drinks go down and smoke goes up, I feel m...</td>\n",
       "      <td>Live Till We Die</td>\n",
       "    </tr>\n",
       "    <tr>\n",
       "      <th>2</th>\n",
       "      <td>Elijah Blake</td>\n",
       "      <td>She don't live on planet Earth no more\\r\\nShe ...</td>\n",
       "      <td>The Otherside</td>\n",
       "    </tr>\n",
       "    <tr>\n",
       "      <th>3</th>\n",
       "      <td>Elijah Blake</td>\n",
       "      <td>Trippin' off that Grigio, mobbin', lights low\\...</td>\n",
       "      <td>Pinot</td>\n",
       "    </tr>\n",
       "    <tr>\n",
       "      <th>4</th>\n",
       "      <td>Elijah Blake</td>\n",
       "      <td>I see a midnight panther, so gallant and so br...</td>\n",
       "      <td>Shadows &amp; Diamonds</td>\n",
       "    </tr>\n",
       "  </tbody>\n",
       "</table>\n",
       "</div>"
      ],
      "text/plain": [
       "           Band                                             Lyrics  \\\n",
       "0  Elijah Blake  No, no\\r\\nI ain't ever trapped out the bando\\r...   \n",
       "1  Elijah Blake  The drinks go down and smoke goes up, I feel m...   \n",
       "2  Elijah Blake  She don't live on planet Earth no more\\r\\nShe ...   \n",
       "3  Elijah Blake  Trippin' off that Grigio, mobbin', lights low\\...   \n",
       "4  Elijah Blake  I see a midnight panther, so gallant and so br...   \n",
       "\n",
       "                 Song  \n",
       "0            Everyday  \n",
       "1    Live Till We Die  \n",
       "2       The Otherside  \n",
       "3               Pinot  \n",
       "4  Shadows & Diamonds  "
      ]
     },
     "execution_count": 4,
     "metadata": {},
     "output_type": "execute_result"
    }
   ],
   "source": [
    "songsTable1 = pd.read_csv(\"lyrics/lyrics1.csv\")\n",
    "print(len(songsTable1))\n",
    "songsTable1.head()"
   ]
  },
  {
   "cell_type": "code",
   "execution_count": 31,
   "metadata": {},
   "outputs": [
    {
     "name": "stdout",
     "output_type": "stream",
     "text": [
      "266174\n"
     ]
    },
    {
     "data": {
      "text/html": [
       "<div>\n",
       "<style scoped>\n",
       "    .dataframe tbody tr th:only-of-type {\n",
       "        vertical-align: middle;\n",
       "    }\n",
       "\n",
       "    .dataframe tbody tr th {\n",
       "        vertical-align: top;\n",
       "    }\n",
       "\n",
       "    .dataframe thead th {\n",
       "        text-align: right;\n",
       "    }\n",
       "</style>\n",
       "<table border=\"1\" class=\"dataframe\">\n",
       "  <thead>\n",
       "    <tr style=\"text-align: right;\">\n",
       "      <th></th>\n",
       "      <th>Band</th>\n",
       "      <th>Lyrics</th>\n",
       "      <th>Song</th>\n",
       "    </tr>\n",
       "  </thead>\n",
       "  <tbody>\n",
       "    <tr>\n",
       "      <th>0</th>\n",
       "      <td>Adam Gregory</td>\n",
       "      <td>I was born in the country\\r\\nFar away from cit...</td>\n",
       "      <td>In the Country</td>\n",
       "    </tr>\n",
       "    <tr>\n",
       "      <th>1</th>\n",
       "      <td>Adam Gregory</td>\n",
       "      <td>Do you feel your heart beating a million miles...</td>\n",
       "      <td>Me Too</td>\n",
       "    </tr>\n",
       "    <tr>\n",
       "      <th>2</th>\n",
       "      <td>Adam Gregory</td>\n",
       "      <td>There are moments in your life \\r\\nThat are fr...</td>\n",
       "      <td>Memory Like That</td>\n",
       "    </tr>\n",
       "    <tr>\n",
       "      <th>3</th>\n",
       "      <td>Adam Gregory</td>\n",
       "      <td>There's a town by a river\\r\\nAnd a dirt road t...</td>\n",
       "      <td>Sweet Memories</td>\n",
       "    </tr>\n",
       "    <tr>\n",
       "      <th>4</th>\n",
       "      <td>Adam Gregory</td>\n",
       "      <td>I go walkin' down a long road tonight\\r\\nI go ...</td>\n",
       "      <td>Walkin'</td>\n",
       "    </tr>\n",
       "  </tbody>\n",
       "</table>\n",
       "</div>"
      ],
      "text/plain": [
       "           Band                                             Lyrics  \\\n",
       "0  Adam Gregory  I was born in the country\\r\\nFar away from cit...   \n",
       "1  Adam Gregory  Do you feel your heart beating a million miles...   \n",
       "2  Adam Gregory  There are moments in your life \\r\\nThat are fr...   \n",
       "3  Adam Gregory  There's a town by a river\\r\\nAnd a dirt road t...   \n",
       "4  Adam Gregory  I go walkin' down a long road tonight\\r\\nI go ...   \n",
       "\n",
       "               Song  \n",
       "0    In the Country  \n",
       "1            Me Too  \n",
       "2  Memory Like That  \n",
       "3    Sweet Memories  \n",
       "4           Walkin'  "
      ]
     },
     "execution_count": 31,
     "metadata": {},
     "output_type": "execute_result"
    }
   ],
   "source": [
    "songsTable2 = pd.read_csv(\"lyrics/lyrics2.csv\")\n",
    "print(len(songsTable2))\n",
    "songsTable2.head()"
   ]
  },
  {
   "cell_type": "markdown",
   "metadata": {},
   "source": [
    "We will extract from the above dataframe only rows with artists in the \"names\" array we created"
   ]
  },
  {
   "cell_type": "code",
   "execution_count": 5,
   "metadata": {},
   "outputs": [
    {
     "name": "stderr",
     "output_type": "stream",
     "text": [
      "/Users/sidaqin/anaconda3/lib/python3.7/site-packages/ipykernel_launcher.py:2: SettingWithCopyWarning: \n",
      "A value is trying to be set on a copy of a slice from a DataFrame\n",
      "\n",
      "See the caveats in the documentation: http://pandas.pydata.org/pandas-docs/stable/indexing.html#indexing-view-versus-copy\n",
      "  \n"
     ]
    },
    {
     "data": {
      "text/html": [
       "<div>\n",
       "<style scoped>\n",
       "    .dataframe tbody tr th:only-of-type {\n",
       "        vertical-align: middle;\n",
       "    }\n",
       "\n",
       "    .dataframe tbody tr th {\n",
       "        vertical-align: top;\n",
       "    }\n",
       "\n",
       "    .dataframe thead th {\n",
       "        text-align: right;\n",
       "    }\n",
       "</style>\n",
       "<table border=\"1\" class=\"dataframe\">\n",
       "  <thead>\n",
       "    <tr style=\"text-align: right;\">\n",
       "      <th></th>\n",
       "      <th>Band</th>\n",
       "      <th>Lyrics</th>\n",
       "      <th>Song</th>\n",
       "    </tr>\n",
       "  </thead>\n",
       "  <tbody>\n",
       "    <tr>\n",
       "      <th>0</th>\n",
       "      <td>Amy Winehouse</td>\n",
       "      <td>All I can ever be to you,\\r\\nIs a darkness tha...</td>\n",
       "      <td>Tears Dry [Original Version]</td>\n",
       "    </tr>\n",
       "    <tr>\n",
       "      <th>1</th>\n",
       "      <td>Amy Winehouse</td>\n",
       "      <td>Build your dreams to the stars above\\r\\nBut wh...</td>\n",
       "      <td>Don't Go To Strangers [Multimedia Track]</td>\n",
       "    </tr>\n",
       "    <tr>\n",
       "      <th>2</th>\n",
       "      <td>Amy Winehouse</td>\n",
       "      <td>I can't wait to get away from you\\r\\nUnsurpris...</td>\n",
       "      <td>Best Friends, Right?</td>\n",
       "    </tr>\n",
       "    <tr>\n",
       "      <th>3</th>\n",
       "      <td>Amy Winehouse</td>\n",
       "      <td>I can't wait to get away from you\\r\\nUnsurpris...</td>\n",
       "      <td>Best Friends, Right? [Leicester Summer Sundae ...</td>\n",
       "    </tr>\n",
       "    <tr>\n",
       "      <th>4</th>\n",
       "      <td>Amy Winehouse</td>\n",
       "      <td>I would die before I divorce you\\r\\nI'd take a...</td>\n",
       "      <td>Between the Cheats</td>\n",
       "    </tr>\n",
       "  </tbody>\n",
       "</table>\n",
       "</div>"
      ],
      "text/plain": [
       "            Band                                             Lyrics  \\\n",
       "0  Amy Winehouse  All I can ever be to you,\\r\\nIs a darkness tha...   \n",
       "1  Amy Winehouse  Build your dreams to the stars above\\r\\nBut wh...   \n",
       "2  Amy Winehouse  I can't wait to get away from you\\r\\nUnsurpris...   \n",
       "3  Amy Winehouse  I can't wait to get away from you\\r\\nUnsurpris...   \n",
       "4  Amy Winehouse  I would die before I divorce you\\r\\nI'd take a...   \n",
       "\n",
       "                                                Song  \n",
       "0                       Tears Dry [Original Version]  \n",
       "1           Don't Go To Strangers [Multimedia Track]  \n",
       "2                               Best Friends, Right?  \n",
       "3  Best Friends, Right? [Leicester Summer Sundae ...  \n",
       "4                                 Between the Cheats  "
      ]
     },
     "execution_count": 5,
     "metadata": {},
     "output_type": "execute_result"
    }
   ],
   "source": [
    "lyrics1 = songsTable1[songsTable1['Band'].isin(names)]\n",
    "lyrics1.sort_values(by=[\"Band\",'Lyrics','Song'],inplace=True)\n",
    "lyrics1.reset_index(drop=True,inplace=True)\n",
    "lyrics1.head()"
   ]
  },
  {
   "cell_type": "markdown",
   "metadata": {},
   "source": [
    "Repeating the same for the second part of our lyrics data"
   ]
  },
  {
   "cell_type": "code",
   "execution_count": 7,
   "metadata": {},
   "outputs": [
    {
     "name": "stderr",
     "output_type": "stream",
     "text": [
      "/Users/sidaqin/anaconda3/lib/python3.7/site-packages/ipykernel_launcher.py:2: SettingWithCopyWarning: \n",
      "A value is trying to be set on a copy of a slice from a DataFrame\n",
      "\n",
      "See the caveats in the documentation: http://pandas.pydata.org/pandas-docs/stable/indexing.html#indexing-view-versus-copy\n",
      "  \n"
     ]
    }
   ],
   "source": [
    "lyrics2 = songsTable2[songsTable2['Band'].isin(names)]\n",
    "lyrics2.sort_values(by=[\"Band\",'Lyrics','Song'],inplace=True)\n",
    "lyrics2 = lyrics2.reset_index(drop=True)"
   ]
  },
  {
   "cell_type": "markdown",
   "metadata": {},
   "source": [
    "Finally, we concatenate the two dataframes we've created into a big dataframes that contrains all the artists and their song lyrics we need."
   ]
  },
  {
   "cell_type": "code",
   "execution_count": 8,
   "metadata": {},
   "outputs": [
    {
     "name": "stdout",
     "output_type": "stream",
     "text": [
      "6709\n"
     ]
    },
    {
     "data": {
      "text/html": [
       "<div>\n",
       "<style scoped>\n",
       "    .dataframe tbody tr th:only-of-type {\n",
       "        vertical-align: middle;\n",
       "    }\n",
       "\n",
       "    .dataframe tbody tr th {\n",
       "        vertical-align: top;\n",
       "    }\n",
       "\n",
       "    .dataframe thead th {\n",
       "        text-align: right;\n",
       "    }\n",
       "</style>\n",
       "<table border=\"1\" class=\"dataframe\">\n",
       "  <thead>\n",
       "    <tr style=\"text-align: right;\">\n",
       "      <th></th>\n",
       "      <th>Band</th>\n",
       "      <th>Lyrics</th>\n",
       "      <th>Song</th>\n",
       "    </tr>\n",
       "  </thead>\n",
       "  <tbody>\n",
       "    <tr>\n",
       "      <th>0</th>\n",
       "      <td>Amy Winehouse</td>\n",
       "      <td>All I can ever be to you,\\r\\nIs a darkness tha...</td>\n",
       "      <td>Tears Dry [Original Version]</td>\n",
       "    </tr>\n",
       "    <tr>\n",
       "      <th>1</th>\n",
       "      <td>Amy Winehouse</td>\n",
       "      <td>Build your dreams to the stars above\\r\\nBut wh...</td>\n",
       "      <td>Don't Go To Strangers [Multimedia Track]</td>\n",
       "    </tr>\n",
       "    <tr>\n",
       "      <th>2</th>\n",
       "      <td>Amy Winehouse</td>\n",
       "      <td>I can't wait to get away from you\\r\\nUnsurpris...</td>\n",
       "      <td>Best Friends, Right?</td>\n",
       "    </tr>\n",
       "    <tr>\n",
       "      <th>3</th>\n",
       "      <td>Amy Winehouse</td>\n",
       "      <td>I can't wait to get away from you\\r\\nUnsurpris...</td>\n",
       "      <td>Best Friends, Right? [Leicester Summer Sundae ...</td>\n",
       "    </tr>\n",
       "    <tr>\n",
       "      <th>4</th>\n",
       "      <td>Amy Winehouse</td>\n",
       "      <td>I would die before I divorce you\\r\\nI'd take a...</td>\n",
       "      <td>Between the Cheats</td>\n",
       "    </tr>\n",
       "  </tbody>\n",
       "</table>\n",
       "</div>"
      ],
      "text/plain": [
       "            Band                                             Lyrics  \\\n",
       "0  Amy Winehouse  All I can ever be to you,\\r\\nIs a darkness tha...   \n",
       "1  Amy Winehouse  Build your dreams to the stars above\\r\\nBut wh...   \n",
       "2  Amy Winehouse  I can't wait to get away from you\\r\\nUnsurpris...   \n",
       "3  Amy Winehouse  I can't wait to get away from you\\r\\nUnsurpris...   \n",
       "4  Amy Winehouse  I would die before I divorce you\\r\\nI'd take a...   \n",
       "\n",
       "                                                Song  \n",
       "0                       Tears Dry [Original Version]  \n",
       "1           Don't Go To Strangers [Multimedia Track]  \n",
       "2                               Best Friends, Right?  \n",
       "3  Best Friends, Right? [Leicester Summer Sundae ...  \n",
       "4                                 Between the Cheats  "
      ]
     },
     "execution_count": 8,
     "metadata": {},
     "output_type": "execute_result"
    }
   ],
   "source": [
    "finalLyrics = pd.concat([lyrics1,lyrics2])\n",
    "print(len(finalLyrics))\n",
    "finalLyrics.head()"
   ]
  },
  {
   "cell_type": "markdown",
   "metadata": {},
   "source": [
    "### Gathering data using beautiful soup - dependant set/ troubled artists"
   ]
  },
  {
   "cell_type": "code",
   "execution_count": null,
   "metadata": {},
   "outputs": [],
   "source": [
    "billboard = \"https://en.wikipedia.org/wiki/List_of_Billboard_Hot_100_chart_achievements_by_decade\"\n",
    "page = requests.get(billboard)\n",
    "soup = BeautifulSoup(page.content, 'html.parser')\n",
    "table_classes = {\"class\": [\"wikitable\", \"plainrowheaders\"]}\n",
    "wikitables = soup.findAll(\"table\", table_classes)"
   ]
  },
  {
   "cell_type": "code",
   "execution_count": 9,
   "metadata": {
    "ExecuteTime": {
     "end_time": "2019-03-21T00:58:51.260787Z",
     "start_time": "2019-03-21T00:58:50.359401Z"
    }
   },
   "outputs": [
    {
     "name": "stdout",
     "output_type": "stream",
     "text": [
      "Extracted 25 wikitables\n"
     ]
    }
   ],
   "source": [
    "billboard = \"https://en.wikipedia.org/wiki/List_of_Billboard_Hot_100_chart_achievements_by_decade\"\n",
    "wikitables = read_html(billboard, flavor='bs4', index_col=0, header=0, attrs={\"class\":\"wikitable\"})\n",
    "\n",
    "print(\"Extracted {num} wikitables\".format(num=len(wikitables)))"
   ]
  },
  {
   "cell_type": "code",
   "execution_count": null,
   "metadata": {},
   "outputs": [],
   "source": [
    "# splitting wikitables into smaller dfs for cleaning.\n",
    "\n",
    "# collecting artist names in index column\n",
    "pd1 = pd.concat(wikitables[0:2], axis=0, sort=False)\n",
    "pd2 = pd.concat(wikitables[4:6], axis=0, sort=False)\n",
    "pd3 = pd.concat(wikitables[9:11], axis=0, sort=False)\n",
    "pd4 = pd.concat(wikitables[13:15], axis=0, sort=False)\n",
    "pd5 = pd.concat(wikitables[17:19], axis=0, sort=False)\n",
    "pd6 = pd.concat(wikitables[21:23], axis=0, sort=False)\n",
    "\n",
    "pdx = [pd1, pd2, pd3, pd4, pd5, pd6]\n",
    "pdx = pd.concat(pdx[:], axis=0, sort=False)\n",
    "df1 = pdx.index.values\n",
    "\n",
    "\n",
    "# collecting artist names in col 1\n",
    "\n",
    "pd1 = pd.concat(wikitables[2:4], axis=0, sort=False)\n",
    "pd2 = wikitables[6]\n",
    "pd3 = wikitables[8]\n",
    "pd4 = wikitables[12]\n",
    "pd5 = wikitables[16]\n",
    "pd6 = wikitables[20]\n",
    "pd7 = wikitables[24]\n",
    "\n",
    "pd_why = [pd1, pd2, pd3, pd4, pd5, pd6, pd7]\n",
    "pd_why = pd.concat(pd_why, axis=0, sort=False)\n",
    "df2 = pd_why['Artist'].values\n",
    "\n",
    "pd1 = wikitables[15]\n",
    "pd2 = wikitables[19]\n",
    "pd3 = wikitables[23]\n",
    "pd4 = wikitables[7]\n",
    "pd5 = wikitables[11]\n",
    "\n",
    "pd_zzz = [pd1, pd2, pd3, pd4, pd5]\n",
    "pd_zzz = pd.concat(pd_zzz, axis=0, sort=False)\n",
    "df3 = pd_zzz['Artist'].values\n",
    "\n",
    "print(\"df3:\", len(df3), \"names\")"
   ]
  },
  {
   "cell_type": "code",
   "execution_count": null,
   "metadata": {},
   "outputs": [],
   "source": [
    "df = np.array([])\n",
    "df = np.concatenate((df1, df2, df3))\n",
    "pos_names = pd.DataFrame(data=df, columns=['Artists'])\n",
    "pos_names = pos_names['Artists'].unique()"
   ]
  },
  {
   "cell_type": "markdown",
   "metadata": {},
   "source": [
    "### Further Cleaning the data\n",
    "Beisdes the processing we have done while gathering the data, we need to process the lyrics as well as removing different versions of the same song"
   ]
  },
  {
   "cell_type": "markdown",
   "metadata": {},
   "source": [
    "Eventhough there are no duplicates of exact songs in the lyrics data set, there are different versions(remixes.. etc) of the song. For example, there might be a live version of the song that will have the song title \"song title [live verson]\". Since the special versions are all annotated with brackets, we will simply remove the brakets and their content. What will be left is only the song title, then we can easily remove rows with duplicate song titles."
   ]
  },
  {
   "cell_type": "code",
   "execution_count": 10,
   "metadata": {},
   "outputs": [],
   "source": [
    "#Cleaning the remixes\n",
    "def getRidOfBrackets(input):\n",
    "    return re.sub(\"[\\(\\[].*?[\\)\\]]\", \"\", input).strip()\n",
    "    \n",
    "    \n",
    "finalLyrics[\"Song\"] = finalLyrics[\"Song\"].apply(getRidOfBrackets)\n",
    "finalLyrics = finalLyrics.drop_duplicates(subset='Song', keep='first')"
   ]
  },
  {
   "cell_type": "markdown",
   "metadata": {},
   "source": [
    "Removing stop words and turning the lyrics into lower case. The stop words come from ntlk and we added a few more."
   ]
  },
  {
   "cell_type": "code",
   "execution_count": 22,
   "metadata": {},
   "outputs": [],
   "source": [
    "stop = stopwords.words('english')\n",
    "stop.extend([\"im\",\"like\", \"oh\"])\n",
    "finalLyrics['Lyrics'] = finalLyrics['Lyrics'].str.lower()\n",
    "finalLyrics['Lyrics'] = finalLyrics['Lyrics'].apply(lambda x: ' '.join([word for word in x.split() if word.strip() not in (stop)]))"
   ]
  },
  {
   "cell_type": "markdown",
   "metadata": {},
   "source": [
    "Get rid of punctuations"
   ]
  },
  {
   "cell_type": "code",
   "execution_count": 23,
   "metadata": {},
   "outputs": [
    {
     "data": {
      "text/html": [
       "<div>\n",
       "<style scoped>\n",
       "    .dataframe tbody tr th:only-of-type {\n",
       "        vertical-align: middle;\n",
       "    }\n",
       "\n",
       "    .dataframe tbody tr th {\n",
       "        vertical-align: top;\n",
       "    }\n",
       "\n",
       "    .dataframe thead th {\n",
       "        text-align: right;\n",
       "    }\n",
       "</style>\n",
       "<table border=\"1\" class=\"dataframe\">\n",
       "  <thead>\n",
       "    <tr style=\"text-align: right;\">\n",
       "      <th></th>\n",
       "      <th>Band</th>\n",
       "      <th>Lyrics</th>\n",
       "      <th>Song</th>\n",
       "      <th>score</th>\n",
       "    </tr>\n",
       "  </thead>\n",
       "  <tbody>\n",
       "    <tr>\n",
       "      <th>0</th>\n",
       "      <td>Amy Winehouse</td>\n",
       "      <td>ever darkness knew regret get accustomed right...</td>\n",
       "      <td>Tears Dry</td>\n",
       "      <td>0.5859</td>\n",
       "    </tr>\n",
       "    <tr>\n",
       "      <th>1</th>\n",
       "      <td>Amy Winehouse</td>\n",
       "      <td>build dreams stars need someone love go strang...</td>\n",
       "      <td>Don't Go To Strangers</td>\n",
       "      <td>0.9712</td>\n",
       "    </tr>\n",
       "    <tr>\n",
       "      <th>2</th>\n",
       "      <td>Amy Winehouse</td>\n",
       "      <td>cant wait get away unsurprisingly hate communi...</td>\n",
       "      <td>Best Friends, Right?</td>\n",
       "      <td>0.9939</td>\n",
       "    </tr>\n",
       "    <tr>\n",
       "      <th>4</th>\n",
       "      <td>Amy Winehouse</td>\n",
       "      <td>would die divorce id take thousand thumps love...</td>\n",
       "      <td>Between the Cheats</td>\n",
       "      <td>-0.9571</td>\n",
       "    </tr>\n",
       "    <tr>\n",
       "      <th>5</th>\n",
       "      <td>Amy Winehouse</td>\n",
       "      <td>ive many places life time ive sung lot songs i...</td>\n",
       "      <td>A Song for You</td>\n",
       "      <td>0.9944</td>\n",
       "    </tr>\n",
       "  </tbody>\n",
       "</table>\n",
       "</div>"
      ],
      "text/plain": [
       "            Band                                             Lyrics  \\\n",
       "0  Amy Winehouse  ever darkness knew regret get accustomed right...   \n",
       "1  Amy Winehouse  build dreams stars need someone love go strang...   \n",
       "2  Amy Winehouse  cant wait get away unsurprisingly hate communi...   \n",
       "4  Amy Winehouse  would die divorce id take thousand thumps love...   \n",
       "5  Amy Winehouse  ive many places life time ive sung lot songs i...   \n",
       "\n",
       "                    Song   score  \n",
       "0              Tears Dry  0.5859  \n",
       "1  Don't Go To Strangers  0.9712  \n",
       "2   Best Friends, Right?  0.9939  \n",
       "4     Between the Cheats -0.9571  \n",
       "5         A Song for You  0.9944  "
      ]
     },
     "execution_count": 23,
     "metadata": {},
     "output_type": "execute_result"
    }
   ],
   "source": [
    "finalLyrics['Lyrics'] = finalLyrics['Lyrics'].str.replace('[^\\w\\s]','')\n",
    "finalLyrics.head()"
   ]
  },
  {
   "cell_type": "markdown",
   "metadata": {},
   "source": [
    "## Data Analysis and Results"
   ]
  },
  {
   "cell_type": "markdown",
   "metadata": {},
   "source": [
    "We will put each song into the sentiment intensity analyzer, adding a column to the dataframe which is the score for each song, -1 is sad, 1 is happy. The sentiment analyzer is VADER. Reference :https://github.com/cjhutto/vaderSentiment"
   ]
  },
  {
   "cell_type": "markdown",
   "metadata": {},
   "source": [
    "For each song for each artist, we feed it into the sentiment intensity analyzer. Then, we average the score across all songs for each artist, arriving at the below dataframe."
   ]
  },
  {
   "cell_type": "code",
   "execution_count": 24,
   "metadata": {},
   "outputs": [],
   "source": [
    "si = SentimentIntensityAnalyzer()\n",
    "scores = [];\n",
    "for song in finalLyrics[\"Lyrics\"]:\n",
    "    result = si.polarity_scores(song)\n",
    "    score = result[\"compound\"]\n",
    "    scores.append(score)\n",
    "finalLyrics.insert(3, \"score\",scores, True)"
   ]
  },
  {
   "cell_type": "code",
   "execution_count": 25,
   "metadata": {},
   "outputs": [
    {
     "data": {
      "text/html": [
       "<div>\n",
       "<style scoped>\n",
       "    .dataframe tbody tr th:only-of-type {\n",
       "        vertical-align: middle;\n",
       "    }\n",
       "\n",
       "    .dataframe tbody tr th {\n",
       "        vertical-align: top;\n",
       "    }\n",
       "\n",
       "    .dataframe thead th {\n",
       "        text-align: right;\n",
       "    }\n",
       "</style>\n",
       "<table border=\"1\" class=\"dataframe\">\n",
       "  <thead>\n",
       "    <tr style=\"text-align: right;\">\n",
       "      <th></th>\n",
       "      <th>score</th>\n",
       "      <th>score</th>\n",
       "    </tr>\n",
       "    <tr>\n",
       "      <th>Band</th>\n",
       "      <th></th>\n",
       "      <th></th>\n",
       "    </tr>\n",
       "  </thead>\n",
       "  <tbody>\n",
       "    <tr>\n",
       "      <th>Amy Winehouse</th>\n",
       "      <td>0.216461</td>\n",
       "      <td>0.330705</td>\n",
       "    </tr>\n",
       "    <tr>\n",
       "      <th>Billy Mackenzie</th>\n",
       "      <td>0.989350</td>\n",
       "      <td>0.991200</td>\n",
       "    </tr>\n",
       "    <tr>\n",
       "      <th>Bob Marley</th>\n",
       "      <td>0.307240</td>\n",
       "      <td>0.341659</td>\n",
       "    </tr>\n",
       "    <tr>\n",
       "      <th>Bobby Brown</th>\n",
       "      <td>0.616646</td>\n",
       "      <td>0.644654</td>\n",
       "    </tr>\n",
       "    <tr>\n",
       "      <th>Bon Scott</th>\n",
       "      <td>0.190650</td>\n",
       "      <td>0.190650</td>\n",
       "    </tr>\n",
       "  </tbody>\n",
       "</table>\n",
       "</div>"
      ],
      "text/plain": [
       "                    score     score\n",
       "Band                               \n",
       "Amy Winehouse    0.216461  0.330705\n",
       "Billy Mackenzie  0.989350  0.991200\n",
       "Bob Marley       0.307240  0.341659\n",
       "Bobby Brown      0.616646  0.644654\n",
       "Bon Scott        0.190650  0.190650"
      ]
     },
     "execution_count": 25,
     "metadata": {},
     "output_type": "execute_result"
    }
   ],
   "source": [
    "sentimentScores = finalLyrics.groupby([\"Band\"]).mean()\n",
    "sentimentScores.head()"
   ]
  },
  {
   "cell_type": "markdown",
   "metadata": {},
   "source": [
    "Plotting the socres to see what the trend looks like."
   ]
  },
  {
   "cell_type": "code",
   "execution_count": 33,
   "metadata": {},
   "outputs": [
    {
     "data": {
      "text/plain": [
       "<matplotlib.axes._subplots.AxesSubplot at 0x1a25ec1128>"
      ]
     },
     "execution_count": 33,
     "metadata": {},
     "output_type": "execute_result"
    },
    {
     "data": {
      "image/png": "[encoded data removed]",
      "text/plain": [
       "<Figure size 1800x1224 with 1 Axes>"
      ]
     },
     "metadata": {
      "needs_background": "light"
     },
     "output_type": "display_data"
    }
   ],
   "source": [
    "%matplotlib inline\n",
    "plt.rc('xtick',labelsize=25)\n",
    "plt.rc('ytick',labelsize=20)\n",
    "sentimentScores.plot.bar(figsize=(25,17))\n"
   ]
  },
  {
   "cell_type": "markdown",
   "metadata": {},
   "source": [
    "We see that Jimi Jamison is an outlier with an extremely low score. We suspect the reason to be that he only has a few songs that contains a lot of negative words. To see how many songs he has:"
   ]
  },
  {
   "cell_type": "code",
   "execution_count": 27,
   "metadata": {},
   "outputs": [
    {
     "data": {
      "text/html": [
       "<div>\n",
       "<style scoped>\n",
       "    .dataframe tbody tr th:only-of-type {\n",
       "        vertical-align: middle;\n",
       "    }\n",
       "\n",
       "    .dataframe tbody tr th {\n",
       "        vertical-align: top;\n",
       "    }\n",
       "\n",
       "    .dataframe thead th {\n",
       "        text-align: right;\n",
       "    }\n",
       "</style>\n",
       "<table border=\"1\" class=\"dataframe\">\n",
       "  <thead>\n",
       "    <tr style=\"text-align: right;\">\n",
       "      <th></th>\n",
       "      <th>Band</th>\n",
       "      <th>Lyrics</th>\n",
       "      <th>Song</th>\n",
       "      <th>score</th>\n",
       "      <th>score</th>\n",
       "    </tr>\n",
       "  </thead>\n",
       "  <tbody>\n",
       "    <tr>\n",
       "      <th>1834</th>\n",
       "      <td>Jimi Jamison</td>\n",
       "      <td>two worlds collide rival nations primitive cla...</td>\n",
       "      <td>Burning Hart</td>\n",
       "      <td>-0.9781</td>\n",
       "      <td>-0.9531</td>\n",
       "    </tr>\n",
       "  </tbody>\n",
       "</table>\n",
       "</div>"
      ],
      "text/plain": [
       "              Band                                             Lyrics  \\\n",
       "1834  Jimi Jamison  two worlds collide rival nations primitive cla...   \n",
       "\n",
       "              Song   score   score  \n",
       "1834  Burning Hart -0.9781 -0.9531  "
      ]
     },
     "execution_count": 27,
     "metadata": {},
     "output_type": "execute_result"
    }
   ],
   "source": [
    "len(finalLyrics[finalLyrics['Band'].str.contains('Jimi Jamison')])\n",
    "finalLyrics[finalLyrics['Band'].str.contains('Jimi Jamison')]"
   ]
  },
  {
   "cell_type": "markdown",
   "metadata": {},
   "source": [
    "Here are the lyrics of his song Burning Hart, it does look like it has a lot of negative words. This confirm our suspicion and therefore more accurate analysis require that each artists have enough songs and lyrics. "
   ]
  },
  {
   "cell_type": "code",
   "execution_count": 28,
   "metadata": {},
   "outputs": [
    {
     "name": "stdout",
     "output_type": "stream",
     "text": [
      "two worlds collide rival nations primitive clash venting years frustrations bravely hope hope much stake seems freedoms ropes crowd understand east versus west man man nation stand alone burning heart burst theres quest answers unquenchable thirst darkest night rising spire burning heart unmistakable fire burning heart warrious code theres surrender though body says stop spirit cries never deep soul quiet ember know paradox drives us battle wills heat attack passion kills victory alone burning heart burst theres quest answers unquenchable thirst darkest night rising spire burning heart unmistakable fire burning heart burst theres quest answers unquenchable thirst darkest night rising spire burning heart unmistakable fire burning heart burst theres quest answers unquenchable thirst darkest night rising spire burning heart unmistakable fire burning heart\n"
     ]
    }
   ],
   "source": [
    "print(finalLyrics.loc[finalLyrics['Band'].str.contains('Jimi Jamison')].iloc[0][\"Lyrics\"])"
   ]
  },
  {
   "cell_type": "markdown",
   "metadata": {},
   "source": [
    " Now we try to obtain the the word count for each artist. After the following code, a new dataframe df is created with columns \"Band\", \"Lyrics\", \"word count\", \"number of words\". Essentially, each row of the data frames contains an artist, ALL words in their songs, each word and their count, and the total number of words."
   ]
  },
  {
   "cell_type": "code",
   "execution_count": 34,
   "metadata": {},
   "outputs": [
    {
     "data": {
      "text/html": [
       "<div>\n",
       "<style scoped>\n",
       "    .dataframe tbody tr th:only-of-type {\n",
       "        vertical-align: middle;\n",
       "    }\n",
       "\n",
       "    .dataframe tbody tr th {\n",
       "        vertical-align: top;\n",
       "    }\n",
       "\n",
       "    .dataframe thead th {\n",
       "        text-align: right;\n",
       "    }\n",
       "</style>\n",
       "<table border=\"1\" class=\"dataframe\">\n",
       "  <thead>\n",
       "    <tr style=\"text-align: right;\">\n",
       "      <th></th>\n",
       "      <th>Lyrics</th>\n",
       "      <th>word count</th>\n",
       "      <th>number of words</th>\n",
       "    </tr>\n",
       "    <tr>\n",
       "      <th>Band</th>\n",
       "      <th></th>\n",
       "      <th></th>\n",
       "      <th></th>\n",
       "    </tr>\n",
       "  </thead>\n",
       "  <tbody>\n",
       "    <tr>\n",
       "      <th>Amy Winehouse</th>\n",
       "      <td>ever darkness knew regret get accustomed right...</td>\n",
       "      <td>love            100\n",
       "know             96\n",
       "man   ...</td>\n",
       "      <td>37993</td>\n",
       "    </tr>\n",
       "    <tr>\n",
       "      <th>Billy Mackenzie</th>\n",
       "      <td>love love say let fly away love wind wild wind...</td>\n",
       "      <td>living          13\n",
       "lives           12\n",
       "paradise...</td>\n",
       "      <td>1309</td>\n",
       "    </tr>\n",
       "    <tr>\n",
       "      <th>Bob Marley</th>\n",
       "      <td>whooooooo mr brown mr brown clown rides town c...</td>\n",
       "      <td>love            420\n",
       "yeah            408\n",
       "got   ...</td>\n",
       "      <td>153425</td>\n",
       "    </tr>\n",
       "    <tr>\n",
       "      <th>Bobby Brown</th>\n",
       "      <td>ah ah ah things aint way used back day man mea...</td>\n",
       "      <td>girl          193\n",
       "love          186\n",
       "baby      ...</td>\n",
       "      <td>37592</td>\n",
       "    </tr>\n",
       "    <tr>\n",
       "      <th>Bon Scott</th>\n",
       "      <td>aint necessarily aint necessarily tings dat yo...</td>\n",
       "      <td>sookie         24\n",
       "hang           18\n",
       "baby      ...</td>\n",
       "      <td>1414</td>\n",
       "    </tr>\n",
       "  </tbody>\n",
       "</table>\n",
       "</div>"
      ],
      "text/plain": [
       "                                                            Lyrics  \\\n",
       "Band                                                                 \n",
       "Amy Winehouse    ever darkness knew regret get accustomed right...   \n",
       "Billy Mackenzie  love love say let fly away love wind wild wind...   \n",
       "Bob Marley       whooooooo mr brown mr brown clown rides town c...   \n",
       "Bobby Brown      ah ah ah things aint way used back day man mea...   \n",
       "Bon Scott        aint necessarily aint necessarily tings dat yo...   \n",
       "\n",
       "                                                        word count  \\\n",
       "Band                                                                 \n",
       "Amy Winehouse    love            100\n",
       "know             96\n",
       "man   ...   \n",
       "Billy Mackenzie  living          13\n",
       "lives           12\n",
       "paradise...   \n",
       "Bob Marley       love            420\n",
       "yeah            408\n",
       "got   ...   \n",
       "Bobby Brown      girl          193\n",
       "love          186\n",
       "baby      ...   \n",
       "Bon Scott        sookie         24\n",
       "hang           18\n",
       "baby      ...   \n",
       "\n",
       "                 number of words  \n",
       "Band                              \n",
       "Amy Winehouse              37993  \n",
       "Billy Mackenzie             1309  \n",
       "Bob Marley                153425  \n",
       "Bobby Brown                37592  \n",
       "Bon Scott                   1414  "
      ]
     },
     "execution_count": 34,
     "metadata": {},
     "output_type": "execute_result"
    }
   ],
   "source": [
    "# concatenate all lyrics for each artist\n",
    "def concat_(col):\n",
    "    return \"\".join(col)\n",
    "df = finalLyrics.loc[:,['Band','Lyrics']].groupby(['Band']).aggregate(concat_)\n",
    "\n",
    "word_counts = []\n",
    "num_words = []\n",
    "for lyrics in df['Lyrics']:\n",
    "    word_count =  pd.Series(lyrics.split()).value_counts()\n",
    "    word_counts.append(word_count)\n",
    "for lyrics in df['Lyrics']:\n",
    "    num_words.append(len(lyrics))\n",
    "\n",
    "    \n",
    "df.insert(1, \"word count\", word_counts, True)\n",
    "df.insert(2, \"number of words\",num_words, True )\n",
    "df.head()"
   ]
  },
  {
   "cell_type": "markdown",
   "metadata": {},
   "source": [
    "To get word counts for one artist:"
   ]
  },
  {
   "cell_type": "code",
   "execution_count": 36,
   "metadata": {},
   "outputs": [
    {
     "data": {
      "text/plain": [
       "get     207\n",
       "got     184\n",
       "shit    183\n",
       "aint    175\n",
       "go      159\n",
       "dtype: int64"
      ]
     },
     "execution_count": 36,
     "metadata": {},
     "output_type": "execute_result"
    }
   ],
   "source": [
    "df.loc[\"Mac Miller\",\"word count\"].head()"
   ]
  },
  {
   "cell_type": "markdown",
   "metadata": {},
   "source": [
    "## Data Visualizaiton"
   ]
  },
  {
   "cell_type": "markdown",
   "metadata": {},
   "source": [
    "## Privacy/Ethics Considerations"
   ]
  },
  {
   "cell_type": "markdown",
   "metadata": {},
   "source": [
    "## Conclusion and Discussion"
   ]
  },
  {
   "cell_type": "code",
   "execution_count": null,
   "metadata": {},
   "outputs": [],
   "source": []
  },
  {
   "cell_type": "code",
   "execution_count": null,
   "metadata": {},
   "outputs": [],
   "source": []
  },
  {
   "cell_type": "code",
   "execution_count": null,
   "metadata": {},
   "outputs": [],
   "source": []
  }
 ],
 "metadata": {
  "kernelspec": {
   "display_name": "Python 3",
   "language": "python",
   "name": "python3"
  },
  "language_info": {
   "codemirror_mode": {
    "name": "ipython",
    "version": 3
   },
   "file_extension": ".py",
   "mimetype": "text/x-python",
   "name": "python",
   "nbconvert_exporter": "python",
   "pygments_lexer": "ipython3",
   "version": "3.7.1"
  }
 },
 "nbformat": 4,
 "nbformat_minor": 2
}
